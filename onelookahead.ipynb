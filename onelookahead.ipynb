{
 "cells": [
  {
   "cell_type": "code",
   "execution_count": null,
   "metadata": {},
   "outputs": [],
   "source": [
    "using Pkg\n",
    "Pkg.add(\"Plots\")\n",
    "Pkg.add(\"Distributions\")\n",
    "Pkg.add(\"QuadGK\")\n",
    "Pkg.add(\"SpecialFunctions\")\n",
    "Pkg.add(\"Optim\")\n",
    "Pkg.add(\"Printf\")\n",
    "Pkg.add(\"DataFrames\")\n",
    "Pkg.add(\"CSV\")\n",
    "Pkg.add(\"Plots\")\n",
    "Pkg.add(PackageSpec(url=\"https://github.com/JuliaReliab/Origin.jl.git\"))\n",
    "Pkg.add(PackageSpec(url=\"https://github.com/JuliaReliab/Deformula.jl.git\"))\n",
    "Pkg.add(PackageSpec(url=\"https://github.com/JuliaReliab/SparseMatrix.jl.git\"))\n",
    "Pkg.add(PackageSpec(url=\"https://github.com/JuliaReliab/NMarkov.jl.git\"))"
   ]
  },
  {
   "cell_type": "code",
   "execution_count": 1,
   "metadata": {},
   "outputs": [],
   "source": [
    "using SparseArrays\n",
    "using NMarkov\n",
    "using Plots\n",
    "using Distributions\n",
    "using QuadGK\n",
    "using SpecialFunctions\n",
    "using Optim\n",
    "using Printf\n",
    "using DataFrames\n",
    "using CSV\n",
    "using SparseMatrix"
   ]
  },
  {
   "cell_type": "code",
   "execution_count": 2,
   "metadata": {},
   "outputs": [
    {
     "data": {
      "text/plain": [
       "eye (generic function with 3 methods)"
      ]
     },
     "execution_count": 2,
     "metadata": {},
     "output_type": "execute_result"
    }
   ],
   "source": [
    "import NMarkov.eye\n",
    "function eye(M::AbstractMatrix)\n",
    "    eye(size(M)[1])\n",
    "end"
   ]
  },
  {
   "cell_type": "markdown",
   "metadata": {},
   "source": [
    "# Dekker and Dijkstra"
   ]
  },
  {
   "cell_type": "code",
   "execution_count": 3,
   "metadata": {},
   "outputs": [
    {
     "data": {
      "text/plain": [
       "PProb (generic function with 1 method)"
      ]
     },
     "execution_count": 3,
     "metadata": {},
     "output_type": "execute_result"
    }
   ],
   "source": [
    "function PProb(t0, D0, D1, dist)\n",
    "    Q = D0 + D1\n",
    "    I = eye(D0)\n",
    "    p1 = mexpmix(Q, I; bounds = (0.0, t0), rmax = 10000) do t\n",
    "        pdf(dist, t)\n",
    "    end\n",
    "    p2 = mexp(Q, I, t0, rmax = 10000)\n",
    "    p3 = mexpmix(D0, I; bounds = (0.0, Inf64), rmax = 10000) do t\n",
    "        pdf(dist, t+t0)\n",
    "    end\n",
    "    _, p4 = mexpcmix(D0, I; bounds = (0.0, Inf64), rmax = 10000) do t\n",
    "        pdf(dist, t+t0)\n",
    "    end\n",
    "    gth(p1 + p2 * (p3 + p4*D1))\n",
    "end"
   ]
  },
  {
   "cell_type": "code",
   "execution_count": 4,
   "metadata": {},
   "outputs": [
    {
     "data": {
      "text/plain": [
       "g (generic function with 1 method)"
      ]
     },
     "execution_count": 4,
     "metadata": {},
     "output_type": "execute_result"
    }
   ],
   "source": [
    "function g(t, t0, pss, D0, D1)\n",
    "    Q = D0 + D1\n",
    "    tmp = exp(Q*t0)' * pss\n",
    "    y = exp(D0*t)' * tmp\n",
    "    sum(D1' * y)\n",
    "end"
   ]
  },
  {
   "cell_type": "code",
   "execution_count": 5,
   "metadata": {},
   "outputs": [
    {
     "data": {
      "text/plain": [
       "T (generic function with 1 method)"
      ]
     },
     "execution_count": 5,
     "metadata": {},
     "output_type": "execute_result"
    }
   ],
   "source": [
    "function T(t0, dist)\n",
    "    res = quadgk(x -> ccdf(dist, x), 0, t0, rtol=1e-8)\n",
    "    res[1]\n",
    "end"
   ]
  },
  {
   "cell_type": "code",
   "execution_count": 6,
   "metadata": {},
   "outputs": [
    {
     "data": {
      "text/plain": [
       "C (generic function with 1 method)"
      ]
     },
     "execution_count": 6,
     "metadata": {},
     "output_type": "execute_result"
    }
   ],
   "source": [
    "function C(t0, dist, cp, cf)\n",
    "    cp + (cf - cp)*cdf(dist, t0)\n",
    "end"
   ]
  },
  {
   "cell_type": "code",
   "execution_count": 7,
   "metadata": {},
   "outputs": [
    {
     "data": {
      "text/plain": [
       "As (generic function with 1 method)"
      ]
     },
     "execution_count": 7,
     "metadata": {},
     "output_type": "execute_result"
    }
   ],
   "source": [
    "# standard age replacement\n",
    "As(t0, dist, cp, cf) = C(t0, dist, cp, cf) / T(t0, dist)"
   ]
  },
  {
   "cell_type": "code",
   "execution_count": 8,
   "metadata": {},
   "outputs": [
    {
     "data": {
      "text/plain": [
       "Aop (generic function with 1 method)"
      ]
     },
     "execution_count": 8,
     "metadata": {},
     "output_type": "execute_result"
    }
   ],
   "source": [
    "# opportunity\n",
    "function Aop(t0, dist, cp, cf, D0, D1)\n",
    "    pss = PProb(t0, D0, D1, dist)\n",
    "    res1 = quadgk(x -> T(t0 + x, dist) * g(x, t0, pss, D0, D1), 0, Inf, rtol=1e-8)\n",
    "    res2 = quadgk(x -> C(t0 + x, dist, cp, cf) * g(x, t0, pss, D0, D1), 0, Inf, rtol=1e-8)\n",
    "    res2[1] / res1[1]\n",
    "end"
   ]
  },
  {
   "cell_type": "code",
   "execution_count": 9,
   "metadata": {},
   "outputs": [
    {
     "data": {
      "text/plain": [
       "Aop2 (generic function with 1 method)"
      ]
     },
     "execution_count": 9,
     "metadata": {},
     "output_type": "execute_result"
    }
   ],
   "source": [
    "# opportunity\n",
    "function Aop2(t0, dist, cp, cf, init, D0, D1)\n",
    "    res1 = quadgk(x -> T(t0 + x, dist) * g(x, t0, init, D0, D1), 0, Inf, rtol=1e-8)\n",
    "    res2 = quadgk(x -> C(t0 + x, dist, cp, cf) * g(x, t0, init, D0, D1), 0, Inf, rtol=1e-8)\n",
    "    res2[1] / res1[1]\n",
    "end"
   ]
  },
  {
   "cell_type": "code",
   "execution_count": 10,
   "metadata": {},
   "outputs": [
    {
     "data": {
      "text/plain": [
       "failure_param (generic function with 1 method)"
      ]
     },
     "execution_count": 10,
     "metadata": {},
     "output_type": "execute_result"
    }
   ],
   "source": [
    "function failure_param(;mttf, cv)\n",
    "    m = optimize(m -> (gamma(1+2/m)/gamma(1+1/m)^2 - 1.0 - cv^2)^2, 0.0001, 10.0).minimizer\n",
    "    eta = mttf / gamma(1+1/m)\n",
    "    dist = Weibull(m, eta)\n",
    "\n",
    "    println(\"failure shape parameter \", m)\n",
    "    println(\"failure scale parameter \", eta)\n",
    "    println(\"failure mttf \", mttf)\n",
    "    println(\"failure cv \", cv)\n",
    "    return dist\n",
    "end"
   ]
  },
  {
   "cell_type": "code",
   "execution_count": 11,
   "metadata": {},
   "outputs": [
    {
     "data": {
      "text/plain": [
       "mmpp_param (generic function with 1 method)"
      ]
     },
     "execution_count": 11,
     "metadata": {},
     "output_type": "execute_result"
    }
   ],
   "source": [
    "function poisson_param(;mttop)\n",
    "    # poisson\n",
    "    D0 = Float64[-2 1; 1 -2]\n",
    "    D1 = Float64[1 0; 0 1]\n",
    "\n",
    "    ss = gth(Matrix(D0+D1))\n",
    "    tmp = (-D0)' \\ ss\n",
    "    mo = sum(tmp)\n",
    "\n",
    "    # scale\n",
    "    D0 = D0 .* mo ./ mttop\n",
    "    D1 = D1 .* mo ./ mttop\n",
    "\n",
    "    ss = gth(Matrix(D0+D1))\n",
    "    tmp = (-D0)' \\ ss\n",
    "    mo = sum(tmp)\n",
    "    tmp = (-D0)' \\ tmp\n",
    "    mo2 = 2*sum(tmp)\n",
    "\n",
    "    println(\"mean opportunity interval \", mo)\n",
    "    println(\"cv for opportunity interval \", sqrt(mo2 - mo^2)/mo)\n",
    "    return D0, D1, 1.0\n",
    "end\n",
    "\n",
    "function hyporenewal_param(;mttop, b)\n",
    "    # hypo renewal\n",
    "#     b = Float64[1, 1]\n",
    "    D0 = Float64[-b[1] b[1]; 0 -b[2]]\n",
    "    D1 = Float64[0 0; b[2] 0]\n",
    "\n",
    "    ss = gth(Matrix(D0+D1))\n",
    "    tmp = (-D0)' \\ ss\n",
    "    mo = sum(tmp)\n",
    "\n",
    "    # scale\n",
    "    D0 = D0 .* mo ./ mttop\n",
    "    D1 = D1 .* mo ./ mttop\n",
    "\n",
    "    ss = gth(Matrix(D0+D1))\n",
    "    tmp = (-D0)' \\ ss\n",
    "    mo = sum(tmp)\n",
    "    tmp = (-D0)' \\ tmp\n",
    "    mo2 = 2*sum(tmp)\n",
    "    cv = sqrt(mo2 - mo^2)/mo\n",
    "    println(\"mean opportunity interval \", mo)\n",
    "    println(\"cv for opportunity interval \", cv)\n",
    "    return D0, D1, cv\n",
    "end\n",
    "\n",
    "function hyperrenewal_param(;mttop, u, b)\n",
    "    # hyper exp\n",
    "    D0 = Float64[-b[1] 0; 0 -b[2]]\n",
    "    D1 = reshape(b, 2, 1) * reshape(u, 1, 2)\n",
    "\n",
    "    ss = gth(Matrix(D0+D1))\n",
    "    tmp = (-D0)' \\ ss\n",
    "    mo = sum(tmp)\n",
    "\n",
    "    # scale\n",
    "    D0 = D0 .* mo ./ mttop\n",
    "    D1 = D1 .* mo ./ mttop\n",
    "\n",
    "    ss = gth(Matrix(D0+D1))\n",
    "    tmp = (-D0)' \\ ss\n",
    "    mo = sum(tmp)\n",
    "    tmp = (-D0)' \\ tmp\n",
    "    mo2 = 2*sum(tmp)\n",
    "    cv = sqrt(mo2 - mo^2)/mo\n",
    "    println(\"mean opportunity interval \", mo)\n",
    "    println(\"cv for opportunity interval \", cv)\n",
    "    return D0, D1, cv\n",
    "\n",
    "end\n",
    "\n",
    "function mmpp_param(;mttop, u, b)\n",
    "    # mmpp\n",
    "    D0 = Float64[-(u[1]+b[1]) u[1]; u[2] -(u[2]+b[2])]\n",
    "    D1 = Float64[b[1] 0; 0 b[2]]\n",
    "\n",
    "    ss = gth(Matrix(D0+D1))\n",
    "    tmp = (-D0)' \\ ss\n",
    "    mo = sum(tmp)\n",
    "\n",
    "    # scale\n",
    "    D0 = D0 .* mo ./ mttop\n",
    "    D1 = D1 .* mo ./ mttop\n",
    "\n",
    "    ss = gth(Matrix(D0+D1))\n",
    "    tmp = (-D0)' \\ ss\n",
    "    mo = sum(tmp)\n",
    "    tmp = (-D0)' \\ tmp\n",
    "    mo2 = 2*sum(tmp)\n",
    "\n",
    "    cv = sqrt(mo2 - mo^2)/mo\n",
    "    println(\"mean opportunity interval \", mo)\n",
    "    println(\"cv for opportunity interval \", cv)\n",
    "    return D0, D1, cv\n",
    "end"
   ]
  },
  {
   "cell_type": "code",
   "execution_count": 12,
   "metadata": {},
   "outputs": [
    {
     "name": "stdout",
     "output_type": "stream",
     "text": [
      "failure shape parameter 9.999999703209413\n",
      "failure scale parameter 10.511370074337558\n",
      "failure mttf 10.0\n",
      "failure cv 0.1\n",
      "mean opportunity interval 1.0\n",
      "cv for opportunity interval 1.0\n"
     ]
    }
   ],
   "source": [
    "cp, cf = 1.0, 10.0\n",
    "dist = failure_param(mttf = 10.0, cv = 0.1)\n",
    "D0, D1 = poisson_param(mttop = 1.0)\n",
    "\n",
    "ts = LinRange(1, 20.0, 100)\n",
    "value = [As(t0, dist, cp, cf) for t0 = ts]\n",
    "value1 = [Aop(t0, dist, cp, cf, D0, D1) for t0 = ts];"
   ]
  },
  {
   "cell_type": "code",
   "execution_count": 13,
   "metadata": {},
   "outputs": [
    {
     "data": {
      "image/svg+xml": [
       "<?xml version=\"1.0\" encoding=\"utf-8\"?>\n",
       "<svg xmlns=\"http://www.w3.org/2000/svg\" xmlns:xlink=\"http://www.w3.org/1999/xlink\" width=\"600\" height=\"400\" viewBox=\"0 0 2400 1600\">\n",
       "<defs>\n",
       "  <clipPath id=\"clip1800\">\n",
       "    <rect x=\"0\" y=\"0\" width=\"2400\" height=\"1600\"/>\n",
       "  </clipPath>\n",
       "</defs>\n",
       "<path clip-path=\"url(#clip1800)\" d=\"\n",
       "M0 1600 L2400 1600 L2400 0 L0 0  Z\n",
       "  \" fill=\"#ffffff\" fill-rule=\"evenodd\" fill-opacity=\"1\"/>\n",
       "<defs>\n",
       "  <clipPath id=\"clip1801\">\n",
       "    <rect x=\"480\" y=\"0\" width=\"1681\" height=\"1600\"/>\n",
       "  </clipPath>\n",
       "</defs>\n",
       "<path clip-path=\"url(#clip1800)\" d=\"\n",
       "M153.898 1487.47 L2352.76 1487.47 L2352.76 47.2441 L153.898 47.2441  Z\n",
       "  \" fill=\"#ffffff\" fill-rule=\"evenodd\" fill-opacity=\"1\"/>\n",
       "<defs>\n",
       "  <clipPath id=\"clip1802\">\n",
       "    <rect x=\"153\" y=\"47\" width=\"2200\" height=\"1441\"/>\n",
       "  </clipPath>\n",
       "</defs>\n",
       "<polyline clip-path=\"url(#clip1802)\" style=\"stroke:#000000; stroke-width:2; stroke-opacity:0.1; fill:none\" points=\"\n",
       "  652.844,1487.47 652.844,47.2441 \n",
       "  \"/>\n",
       "<polyline clip-path=\"url(#clip1802)\" style=\"stroke:#000000; stroke-width:2; stroke-opacity:0.1; fill:none\" points=\"\n",
       "  1198.74,1487.47 1198.74,47.2441 \n",
       "  \"/>\n",
       "<polyline clip-path=\"url(#clip1802)\" style=\"stroke:#000000; stroke-width:2; stroke-opacity:0.1; fill:none\" points=\"\n",
       "  1744.63,1487.47 1744.63,47.2441 \n",
       "  \"/>\n",
       "<polyline clip-path=\"url(#clip1802)\" style=\"stroke:#000000; stroke-width:2; stroke-opacity:0.1; fill:none\" points=\"\n",
       "  2290.52,1487.47 2290.52,47.2441 \n",
       "  \"/>\n",
       "<polyline clip-path=\"url(#clip1802)\" style=\"stroke:#000000; stroke-width:2; stroke-opacity:0.1; fill:none\" points=\"\n",
       "  153.898,1388.4 2352.76,1388.4 \n",
       "  \"/>\n",
       "<polyline clip-path=\"url(#clip1802)\" style=\"stroke:#000000; stroke-width:2; stroke-opacity:0.1; fill:none\" points=\"\n",
       "  153.898,1063.3 2352.76,1063.3 \n",
       "  \"/>\n",
       "<polyline clip-path=\"url(#clip1802)\" style=\"stroke:#000000; stroke-width:2; stroke-opacity:0.1; fill:none\" points=\"\n",
       "  153.898,738.203 2352.76,738.203 \n",
       "  \"/>\n",
       "<polyline clip-path=\"url(#clip1802)\" style=\"stroke:#000000; stroke-width:2; stroke-opacity:0.1; fill:none\" points=\"\n",
       "  153.898,413.104 2352.76,413.104 \n",
       "  \"/>\n",
       "<polyline clip-path=\"url(#clip1802)\" style=\"stroke:#000000; stroke-width:2; stroke-opacity:0.1; fill:none\" points=\"\n",
       "  153.898,88.0053 2352.76,88.0053 \n",
       "  \"/>\n",
       "<polyline clip-path=\"url(#clip1800)\" style=\"stroke:#000000; stroke-width:4; stroke-opacity:1; fill:none\" points=\"\n",
       "  153.898,1487.47 2352.76,1487.47 \n",
       "  \"/>\n",
       "<polyline clip-path=\"url(#clip1800)\" style=\"stroke:#000000; stroke-width:4; stroke-opacity:1; fill:none\" points=\"\n",
       "  153.898,1487.47 153.898,47.2441 \n",
       "  \"/>\n",
       "<polyline clip-path=\"url(#clip1800)\" style=\"stroke:#000000; stroke-width:4; stroke-opacity:1; fill:none\" points=\"\n",
       "  652.844,1487.47 652.844,1470.19 \n",
       "  \"/>\n",
       "<polyline clip-path=\"url(#clip1800)\" style=\"stroke:#000000; stroke-width:4; stroke-opacity:1; fill:none\" points=\"\n",
       "  1198.74,1487.47 1198.74,1470.19 \n",
       "  \"/>\n",
       "<polyline clip-path=\"url(#clip1800)\" style=\"stroke:#000000; stroke-width:4; stroke-opacity:1; fill:none\" points=\"\n",
       "  1744.63,1487.47 1744.63,1470.19 \n",
       "  \"/>\n",
       "<polyline clip-path=\"url(#clip1800)\" style=\"stroke:#000000; stroke-width:4; stroke-opacity:1; fill:none\" points=\"\n",
       "  2290.52,1487.47 2290.52,1470.19 \n",
       "  \"/>\n",
       "<polyline clip-path=\"url(#clip1800)\" style=\"stroke:#000000; stroke-width:4; stroke-opacity:1; fill:none\" points=\"\n",
       "  153.898,1388.4 180.284,1388.4 \n",
       "  \"/>\n",
       "<polyline clip-path=\"url(#clip1800)\" style=\"stroke:#000000; stroke-width:4; stroke-opacity:1; fill:none\" points=\"\n",
       "  153.898,1063.3 180.284,1063.3 \n",
       "  \"/>\n",
       "<polyline clip-path=\"url(#clip1800)\" style=\"stroke:#000000; stroke-width:4; stroke-opacity:1; fill:none\" points=\"\n",
       "  153.898,738.203 180.284,738.203 \n",
       "  \"/>\n",
       "<polyline clip-path=\"url(#clip1800)\" style=\"stroke:#000000; stroke-width:4; stroke-opacity:1; fill:none\" points=\"\n",
       "  153.898,413.104 180.284,413.104 \n",
       "  \"/>\n",
       "<polyline clip-path=\"url(#clip1800)\" style=\"stroke:#000000; stroke-width:4; stroke-opacity:1; fill:none\" points=\"\n",
       "  153.898,88.0053 180.284,88.0053 \n",
       "  \"/>\n",
       "<g clip-path=\"url(#clip1800)\">\n",
       "<text style=\"fill:#000000; fill-opacity:1; font-family:Arial,Helvetica Neue,Helvetica,sans-serif; font-size:48px; text-anchor:middle;\" transform=\"rotate(0, 652.844, 1541.47)\" x=\"652.844\" y=\"1541.47\">5</text>\n",
       "</g>\n",
       "<g clip-path=\"url(#clip1800)\">\n",
       "<text style=\"fill:#000000; fill-opacity:1; font-family:Arial,Helvetica Neue,Helvetica,sans-serif; font-size:48px; text-anchor:middle;\" transform=\"rotate(0, 1198.74, 1541.47)\" x=\"1198.74\" y=\"1541.47\">10</text>\n",
       "</g>\n",
       "<g clip-path=\"url(#clip1800)\">\n",
       "<text style=\"fill:#000000; fill-opacity:1; font-family:Arial,Helvetica Neue,Helvetica,sans-serif; font-size:48px; text-anchor:middle;\" transform=\"rotate(0, 1744.63, 1541.47)\" x=\"1744.63\" y=\"1541.47\">15</text>\n",
       "</g>\n",
       "<g clip-path=\"url(#clip1800)\">\n",
       "<text style=\"fill:#000000; fill-opacity:1; font-family:Arial,Helvetica Neue,Helvetica,sans-serif; font-size:48px; text-anchor:middle;\" transform=\"rotate(0, 2290.52, 1541.47)\" x=\"2290.52\" y=\"1541.47\">20</text>\n",
       "</g>\n",
       "<g clip-path=\"url(#clip1800)\">\n",
       "<text style=\"fill:#000000; fill-opacity:1; font-family:Arial,Helvetica Neue,Helvetica,sans-serif; font-size:48px; text-anchor:end;\" transform=\"rotate(0, 129.898, 1405.9)\" x=\"129.898\" y=\"1405.9\">0.2</text>\n",
       "</g>\n",
       "<g clip-path=\"url(#clip1800)\">\n",
       "<text style=\"fill:#000000; fill-opacity:1; font-family:Arial,Helvetica Neue,Helvetica,sans-serif; font-size:48px; text-anchor:end;\" transform=\"rotate(0, 129.898, 1080.8)\" x=\"129.898\" y=\"1080.8\">0.4</text>\n",
       "</g>\n",
       "<g clip-path=\"url(#clip1800)\">\n",
       "<text style=\"fill:#000000; fill-opacity:1; font-family:Arial,Helvetica Neue,Helvetica,sans-serif; font-size:48px; text-anchor:end;\" transform=\"rotate(0, 129.898, 755.703)\" x=\"129.898\" y=\"755.703\">0.6</text>\n",
       "</g>\n",
       "<g clip-path=\"url(#clip1800)\">\n",
       "<text style=\"fill:#000000; fill-opacity:1; font-family:Arial,Helvetica Neue,Helvetica,sans-serif; font-size:48px; text-anchor:end;\" transform=\"rotate(0, 129.898, 430.604)\" x=\"129.898\" y=\"430.604\">0.8</text>\n",
       "</g>\n",
       "<g clip-path=\"url(#clip1800)\">\n",
       "<text style=\"fill:#000000; fill-opacity:1; font-family:Arial,Helvetica Neue,Helvetica,sans-serif; font-size:48px; text-anchor:end;\" transform=\"rotate(0, 129.898, 105.505)\" x=\"129.898\" y=\"105.505\">1.0</text>\n",
       "</g>\n",
       "<polyline clip-path=\"url(#clip1802)\" style=\"stroke:#009af9; stroke-width:4; stroke-opacity:1; fill:none\" points=\"\n",
       "  216.13,88.0053 237.083,349.737 258.037,538.872 278.99,681.936 299.944,793.934 320.897,883.994 341.851,957.987 362.804,1019.86 383.758,1072.36 404.711,1117.48 \n",
       "  425.665,1156.66 446.618,1190.99 467.572,1221.33 488.525,1248.33 509.478,1272.5 530.432,1294.25 551.385,1313.91 572.339,1331.75 593.292,1347.97 614.246,1362.76 \n",
       "  635.199,1376.24 656.153,1388.51 677.106,1399.64 698.06,1409.68 719.013,1418.64 739.967,1426.51 760.92,1433.23 781.874,1438.74 802.827,1442.93 823.781,1445.65 \n",
       "  844.734,1446.71 865.688,1445.89 886.641,1442.89 907.595,1437.4 928.548,1429.03 949.502,1417.34 970.455,1401.83 991.408,1381.97 1012.36,1357.18 1033.32,1326.85 \n",
       "  1054.27,1290.39 1075.22,1247.22 1096.18,1196.87 1117.13,1138.98 1138.08,1073.43 1159.04,1000.39 1179.99,920.386 1200.94,834.436 1221.9,744.056 1242.85,651.297 \n",
       "  1263.8,558.69 1284.76,469.102 1305.71,385.505 1326.66,310.655 1347.62,246.733 1368.57,195.015 1389.52,155.675 1410.48,127.779 1431.43,109.513 1452.38,98.5838 \n",
       "  1473.34,92.6783 1494.29,89.8333 1515.25,88.6287 1536.2,88.1874 1557.15,88.05 1578.11,88.0144 1599.06,88.0068 1620.01,88.0055 1640.97,88.0054 1661.92,88.0053 \n",
       "  1682.87,88.0053 1703.83,88.0053 1724.78,88.0053 1745.73,88.0053 1766.69,88.0053 1787.64,88.0053 1808.59,88.0053 1829.55,88.0053 1850.5,88.0053 1871.45,88.0053 \n",
       "  1892.41,88.0053 1913.36,88.0053 1934.31,88.0053 1955.27,88.0053 1976.22,88.0053 1997.18,88.0053 2018.13,88.0053 2039.08,88.0053 2060.04,88.0053 2080.99,88.0053 \n",
       "  2101.94,88.0053 2122.9,88.0053 2143.85,88.0053 2164.8,88.0053 2185.76,88.0053 2206.71,88.0053 2227.66,88.0053 2248.62,88.0053 2269.57,88.0053 2290.52,88.0053 \n",
       "  \n",
       "  \"/>\n",
       "<polyline clip-path=\"url(#clip1802)\" style=\"stroke:#e26f46; stroke-width:4; stroke-opacity:1; fill:none\" points=\"\n",
       "  216.13,898.272 237.083,969.185 258.037,1028.59 278.99,1079.04 299.944,1122.38 320.897,1159.97 341.851,1192.83 362.804,1221.76 383.758,1247.35 404.711,1270.09 \n",
       "  425.665,1290.34 446.618,1308.42 467.572,1324.54 488.525,1338.9 509.478,1351.64 530.432,1362.85 551.385,1372.61 572.339,1380.97 593.292,1387.94 614.246,1393.52 \n",
       "  635.199,1397.67 656.153,1400.33 677.106,1401.43 698.06,1400.87 719.013,1398.52 739.967,1394.23 760.92,1387.84 781.874,1379.14 802.827,1367.93 823.781,1353.97 \n",
       "  844.734,1337.01 865.688,1316.79 886.641,1293.05 907.595,1265.51 928.548,1233.93 949.502,1198.08 970.455,1157.76 991.408,1112.84 1012.36,1063.25 1033.32,1009.06 \n",
       "  1054.27,950.421 1075.22,887.661 1096.18,821.279 1117.13,751.972 1138.08,680.642 1159.04,608.398 1179.99,536.536 1200.94,466.49 1221.9,399.765 1242.85,337.841 \n",
       "  1263.8,282.048 1284.76,233.443 1305.71,192.686 1326.66,159.964 1347.62,134.953 1368.57,116.874 1389.52,104.606 1410.48,96.8534 1431.43,92.3337 1452.38,89.9273 \n",
       "  1473.34,88.7705 1494.29,88.2747 1515.25,88.0879 1536.2,88.027 1557.15,88.0101 1578.11,88.0062 1599.06,88.0055 1620.01,88.0054 1640.97,88.0053 1661.92,88.0053 \n",
       "  1682.87,88.0053 1703.83,88.0053 1724.78,88.0053 1745.73,88.0053 1766.69,88.0053 1787.64,88.0053 1808.59,88.0053 1829.55,88.0053 1850.5,88.0053 1871.45,88.0053 \n",
       "  1892.41,88.0053 1913.36,88.0053 1934.31,88.0053 1955.27,88.0053 1976.22,88.0053 1997.18,88.0053 2018.13,88.0053 2039.08,88.0053 2060.04,88.0053 2080.99,88.0053 \n",
       "  2101.94,88.0053 2122.9,88.0053 2143.85,88.0053 2164.8,88.0053 2185.76,88.0053 2206.71,88.0053 2227.66,88.0053 2248.62,88.0053 2269.57,88.0053 2290.52,88.0053 \n",
       "  \n",
       "  \"/>\n",
       "<path clip-path=\"url(#clip1800)\" d=\"\n",
       "M1989.93 312.204 L2280.76 312.204 L2280.76 130.764 L1989.93 130.764  Z\n",
       "  \" fill=\"#ffffff\" fill-rule=\"evenodd\" fill-opacity=\"1\"/>\n",
       "<polyline clip-path=\"url(#clip1800)\" style=\"stroke:#000000; stroke-width:4; stroke-opacity:1; fill:none\" points=\"\n",
       "  1989.93,312.204 2280.76,312.204 2280.76,130.764 1989.93,130.764 1989.93,312.204 \n",
       "  \"/>\n",
       "<polyline clip-path=\"url(#clip1800)\" style=\"stroke:#009af9; stroke-width:4; stroke-opacity:1; fill:none\" points=\"\n",
       "  2013.93,191.244 2157.93,191.244 \n",
       "  \"/>\n",
       "<g clip-path=\"url(#clip1800)\">\n",
       "<text style=\"fill:#000000; fill-opacity:1; font-family:Arial,Helvetica Neue,Helvetica,sans-serif; font-size:48px; text-anchor:start;\" transform=\"rotate(0, 2181.93, 208.744)\" x=\"2181.93\" y=\"208.744\">y1</text>\n",
       "</g>\n",
       "<polyline clip-path=\"url(#clip1800)\" style=\"stroke:#e26f46; stroke-width:4; stroke-opacity:1; fill:none\" points=\"\n",
       "  2013.93,251.724 2157.93,251.724 \n",
       "  \"/>\n",
       "<g clip-path=\"url(#clip1800)\">\n",
       "<text style=\"fill:#000000; fill-opacity:1; font-family:Arial,Helvetica Neue,Helvetica,sans-serif; font-size:48px; text-anchor:start;\" transform=\"rotate(0, 2181.93, 269.224)\" x=\"2181.93\" y=\"269.224\">y2</text>\n",
       "</g>\n",
       "</svg>\n"
      ]
     },
     "execution_count": 13,
     "metadata": {},
     "output_type": "execute_result"
    }
   ],
   "source": [
    "plot(ts, value)\n",
    "plot!(ts, value1)"
   ]
  },
  {
   "cell_type": "code",
   "execution_count": null,
   "metadata": {},
   "outputs": [],
   "source": [
    "cp = 1.0\n",
    "cf = 10.0\n",
    "mttf = 10.0\n",
    "result = []\n",
    "for cv in [0.1, 0.5, 0.8]\n",
    "    println(\"cv \", cv)\n",
    "    mttop = 0\n",
    "    ocv = 0\n",
    "    dist = failure_param(mttf = mttf, cv = cv)\n",
    "    result0 = optimize(t0 -> As(t0, dist, cp, cf), 1, mttf*2)\n",
    "    push!(result, (\"st\", cp, cv, mttop, ocv, result0.minimizer, result0.minimum, result0.converged))\n",
    "    for co in [0.5, 0.6, 0.7, 0.8, 0.9, 1.0]\n",
    "        println(\"co \", co)\n",
    "        for mttop in [0.1, 1.0, 2.0, 5.0, 10.0]\n",
    "            println(\"mttop \", mttop)\n",
    "            D0, D1, ocv = poisson_param(mttop = mttop)\n",
    "            result1 = optimize(t0 -> Aop(t0, dist, co, cf, D0, D1), 1, mttf*2)\n",
    "            push!(result, (\"poi\", co, cv, mttop, ocv, result1.minimizer, result1.minimum, result1.converged))\n",
    "            for b in [[1, 5], [1, 2], [1, 1]]\n",
    "                D0, D1, ocv = hyporenewal_param(mttop = mttop, b=b)\n",
    "                result1 = optimize(t0 -> Aop(t0, dist, co, cf, D0, D1), 1, mttf*2)\n",
    "                push!(result, (\"hypo\", co, cv, mttop, ocv, result1.minimizer, result1.minimum, result1.converged))\n",
    "            end\n",
    "            b = [10, 1]\n",
    "            for u in [[0.2, 0.8], [0.5, 0.5], [0.8, 0.2]]\n",
    "                D0, D1, ocv = hyperrenewal_param(mttop = mttop, u=u, b=b)\n",
    "                result1 = optimize(t0 -> Aop(t0, dist, co, cf, D0, D1), 1, mttf*2)\n",
    "                push!(result, (\"hyper\", co, cv, mttop, ocv, result1.minimizer, result1.minimum, result1.converged))\n",
    "            end\n",
    "            u = [1, 1]\n",
    "            for b in [[1, 2], [1, 5], [1, 10]]\n",
    "                D0, D1, ocv = mmpp_param(mttop = mttop, u=u, b=b)\n",
    "                result1 = optimize(t0 -> Aop(t0, dist, co, cf, D0, D1), 1, mttf*2)\n",
    "                push!(result, (\"mmpp\", co, cv, mttop, ocv, result1.minimizer, result1.minimum, result1.converged))\n",
    "            end\n",
    "        end\n",
    "    end\n",
    "end\n",
    "result = DataFrame(result)\n",
    "@show result\n",
    "result |> CSV.write(\"lh.csv\", delim=',', header=false)"
   ]
  },
  {
   "cell_type": "code",
   "execution_count": 20,
   "metadata": {},
   "outputs": [
    {
     "name": "stdout",
     "output_type": "stream",
     "text": [
      "cv 0.1\n",
      "failure shape parameter 9.999999703209413\n",
      "failure scale parameter 10.511370074337558\n",
      "failure mttf 10.0\n",
      "failure cv 0.1\n",
      "co 0.5\n",
      "mttop 1.0\n",
      "mean opportunity interval 1.0\n",
      "cv for opportunity interval 0.8819171036881968\n",
      "mean opportunity interval 1.0\n",
      "cv for opportunity interval 0.9147320339189785\n",
      "mean opportunity interval 1.0\n",
      "cv for opportunity interval 1.0764794285093986\n",
      "mean opportunity interval 1.0\n",
      "cv for opportunity interval 1.2645601709825842\n",
      "co 0.6\n",
      "mttop 1.0\n",
      "mean opportunity interval 1.0\n",
      "cv for opportunity interval 0.8819171036881968\n",
      "mean opportunity interval 1.0\n",
      "cv for opportunity interval 0.9147320339189785\n",
      "mean opportunity interval 1.0\n",
      "cv for opportunity interval 1.0764794285093986\n",
      "mean opportunity interval 1.0\n",
      "cv for opportunity interval 1.2645601709825842\n",
      "co 0.7\n",
      "mttop 1.0\n",
      "mean opportunity interval 1.0\n",
      "cv for opportunity interval 0.8819171036881968\n",
      "mean opportunity interval 1.0\n",
      "cv for opportunity interval 0.9147320339189785\n",
      "mean opportunity interval 1.0\n",
      "cv for opportunity interval 1.0764794285093986\n",
      "mean opportunity interval 1.0\n",
      "cv for opportunity interval 1.2645601709825842\n",
      "co 0.8\n",
      "mttop 1.0\n",
      "mean opportunity interval 1.0\n",
      "cv for opportunity interval 0.8819171036881968\n",
      "mean opportunity interval 1.0\n",
      "cv for opportunity interval 0.9147320339189785\n",
      "mean opportunity interval 1.0\n",
      "cv for opportunity interval 1.0764794285093986\n",
      "mean opportunity interval 1.0\n",
      "cv for opportunity interval 1.2645601709825842\n",
      "co 0.9\n",
      "mttop 1.0\n",
      "mean opportunity interval 1.0\n",
      "cv for opportunity interval 0.8819171036881968\n",
      "mean opportunity interval 1.0\n",
      "cv for opportunity interval 0.9147320339189785\n",
      "mean opportunity interval 1.0\n",
      "cv for opportunity interval 1.0764794285093986\n",
      "mean opportunity interval 1.0\n",
      "cv for opportunity interval 1.2645601709825842\n",
      "co 1.0\n",
      "mttop 1.0\n",
      "mean opportunity interval 1.0\n",
      "cv for opportunity interval 0.8819171036881968\n",
      "mean opportunity interval 1.0\n",
      "cv for opportunity interval 0.9147320339189785\n",
      "mean opportunity interval 1.0\n",
      "cv for opportunity interval 1.0764794285093986\n",
      "mean opportunity interval 1.0\n",
      "cv for opportunity interval 1.2645601709825842\n",
      "result = 24×8 DataFrame\n",
      "│ Row │ 1      │ 2       │ 3       │ 4       │ 5        │ 6       │ 7        │ 8    │\n",
      "│     │ String │ Float64 │ Float64 │ Float64 │ Float64  │ Float64 │ Float64  │ Bool │\n",
      "├─────┼────────┼─────────┼─────────┼─────────┼──────────┼─────────┼──────────┼──────┤\n",
      "│ 1   │ hypo   │ 0.5     │ 0.1     │ 1.0     │ 0.881917 │ 4.73823 │ 0.102442 │ true │\n",
      "│ 2   │ hypo   │ 0.5     │ 0.1     │ 1.0     │ 0.914732 │ 4.70065 │ 0.10446  │ true │\n",
      "│ 3   │ hyper  │ 0.5     │ 0.1     │ 1.0     │ 1.07648  │ 4.52023 │ 0.113188 │ true │\n",
      "│ 4   │ hyper  │ 0.5     │ 0.1     │ 1.0     │ 1.26456  │ 4.33877 │ 0.125199 │ true │\n",
      "│ 5   │ hypo   │ 0.6     │ 0.1     │ 1.0     │ 0.881917 │ 4.88848 │ 0.11949  │ true │\n",
      "│ 6   │ hypo   │ 0.6     │ 0.1     │ 1.0     │ 0.914732 │ 4.8558  │ 0.121602 │ true │\n",
      "│ 7   │ hyper  │ 0.6     │ 0.1     │ 1.0     │ 1.07648  │ 4.69305 │ 0.130816 │ true │\n",
      "│ 8   │ hyper  │ 0.6     │ 0.1     │ 1.0     │ 1.26456  │ 4.53186 │ 0.143329 │ true │\n",
      "│ 9   │ hypo   │ 0.7     │ 0.1     │ 1.0     │ 0.881917 │ 5.01886 │ 0.136113 │ true │\n",
      "│ 10  │ hypo   │ 0.7     │ 0.1     │ 1.0     │ 0.914732 │ 4.99022 │ 0.138299 │ true │\n",
      "│ 11  │ hyper  │ 0.7     │ 0.1     │ 1.0     │ 1.07648  │ 4.84239 │ 0.14792  │ true │\n",
      "│ 12  │ hyper  │ 0.7     │ 0.1     │ 1.0     │ 1.26456  │ 4.69858 │ 0.160842 │ true │\n",
      "│ 13  │ hypo   │ 0.8     │ 0.1     │ 1.0     │ 0.881917 │ 5.13459 │ 0.152374 │ true │\n",
      "│ 14  │ hypo   │ 0.8     │ 0.1     │ 1.0     │ 0.914732 │ 5.10938 │ 0.154621 │ true │\n",
      "│ 15  │ hyper  │ 0.8     │ 0.1     │ 1.0     │ 1.07648  │ 4.97444 │ 0.164588 │ true │\n",
      "│ 16  │ hyper  │ 0.8     │ 0.1     │ 1.0     │ 1.26456  │ 4.84583 │ 0.177842 │ true │\n",
      "│ 17  │ hypo   │ 0.9     │ 0.1     │ 1.0     │ 0.881917 │ 5.23906 │ 0.168321 │ true │\n",
      "│ 18  │ hypo   │ 0.9     │ 0.1     │ 1.0     │ 0.914732 │ 5.21681 │ 0.170617 │ true │\n",
      "│ 19  │ hyper  │ 0.9     │ 0.1     │ 1.0     │ 1.07648  │ 5.09325 │ 0.180878 │ true │\n",
      "│ 20  │ hyper  │ 0.9     │ 0.1     │ 1.0     │ 1.26456  │ 4.97811 │ 0.194403 │ true │\n",
      "│ 21  │ hypo   │ 1.0     │ 0.1     │ 1.0     │ 0.881917 │ 5.33462 │ 0.183989 │ true │\n",
      "│ 22  │ hypo   │ 1.0     │ 0.1     │ 1.0     │ 0.914732 │ 5.31497 │ 0.186324 │ true │\n",
      "│ 23  │ hyper  │ 1.0     │ 0.1     │ 1.0     │ 1.07648  │ 5.20157 │ 0.196837 │ true │\n",
      "│ 24  │ hyper  │ 1.0     │ 0.1     │ 1.0     │ 1.26456  │ 5.09853 │ 0.210583 │ true │\n"
     ]
    },
    {
     "data": {
      "text/plain": [
       "\"lh2.csv\""
      ]
     },
     "execution_count": 20,
     "metadata": {},
     "output_type": "execute_result"
    }
   ],
   "source": [
    "cp = 1.0\n",
    "cf = 10.0\n",
    "mttf = 10.0\n",
    "result = []\n",
    "for cv in [0.1] # [0.1, 0.5, 0.8]\n",
    "    println(\"cv \", cv)\n",
    "    mttop = 0\n",
    "    ocv = 0\n",
    "    dist = failure_param(mttf = mttf, cv = cv)\n",
    "#    result0 = optimize(t0 -> As(t0, dist, cp, cf), 1, mttf*2)\n",
    "#    push!(result, (\"st\", cp, cv, mttop, ocv, result0.minimizer, result0.minimum, result0.converged))\n",
    "    for co in [0.5, 0.6, 0.7, 0.8, 0.9, 1.0]\n",
    "        println(\"co \", co)\n",
    "        for mttop in [1.0] #[0.1, 1.0, 2.0, 5.0, 10.0]\n",
    "            println(\"mttop \", mttop)\n",
    "#            D0, D1, ocv = poisson_param(mttop = mttop)\n",
    "#            result1 = optimize(t0 -> Aop(t0, dist, co, cf, D0, D1), 1, mttf*2)\n",
    "#            push!(result, (\"poi\", co, cv, mttop, ocv, result1.minimizer, result1.minimum, result1.converged))\n",
    "            for b in [[1,1], [1, 2]] # [[1, 5], [1, 2], [1, 1]]\n",
    "                D0, D1, ocv = hyporenewal_param(mttop = mttop, b=b)\n",
    "                init = Float64[1, 0]\n",
    "                result1 = optimize(t0 -> Aop2(t0, dist, co, cf, init, D0, D1), 1, mttf*2)\n",
    "                push!(result, (\"hypo\", co, cv, mttop, ocv, result1.minimizer, result1.minimum, result1.converged))\n",
    "            end\n",
    "            b = [10, 1]\n",
    "            for u in [[0.5, 0.5], [0.8, 0.2]] # [[0.2, 0.8], [0.5, 0.5], [0.8, 0.2]]\n",
    "                D0, D1, ocv = hyperrenewal_param(mttop = mttop, u=u, b=b)\n",
    "                init = u\n",
    "                result1 = optimize(t0 -> Aop2(t0, dist, co, cf, init, D0, D1), 1, mttf*2)\n",
    "                push!(result, (\"hyper\", co, cv, mttop, ocv, result1.minimizer, result1.minimum, result1.converged))\n",
    "            end\n",
    "#             u = [1, 1]\n",
    "#             for b in [[1, 2], [1, 5], [1, 10]]\n",
    "#                 D0, D1, ocv = mmpp_param(mttop = mttop, u=u, b=b)\n",
    "#                 init = Float64[0.5, 0.5]\n",
    "#                 result1 = optimize(t0 -> Aop2(t0, dist, co, cf, init, D0, D1), 1, mttf*2)\n",
    "#                 push!(result, (\"mmpp\", co, cv, mttop, ocv, result1.minimizer, result1.minimum, result1.converged))\n",
    "#             end\n",
    "        end\n",
    "    end\n",
    "end\n",
    "result = DataFrame(result)\n",
    "@show result\n",
    "result |> CSV.write(\"lh2.csv\", delim=',', header=false)"
   ]
  },
  {
   "cell_type": "code",
   "execution_count": 19,
   "metadata": {},
   "outputs": [
    {
     "name": "stdout",
     "output_type": "stream",
     "text": [
      "failure shape parameter 9.999999703209413\n",
      "failure scale parameter 10.511370074337558\n",
      "failure mttf 10.0\n",
      "failure cv 0.1\n",
      "mean opportunity interval 1.0\n",
      "cv for opportunity interval 1.2645601709825842\n",
      "Results of Optimization Algorithm\n",
      " * Algorithm: Brent's Method\n",
      " * Search Interval: [0.000100, 20.000000]\n",
      " * Minimizer: 4.338772e+00\n",
      " * Minimum: 1.251985e-01\n",
      " * Iterations: 10\n",
      " * Convergence: max(|x - x_upper|, |x - x_lower|) <= 2*(1.5e-08*|x|+2.2e-16): true\n",
      " * Objective Function Calls: 11\n"
     ]
    }
   ],
   "source": [
    "cp = 1.0\n",
    "cf = 10.0\n",
    "co = 0.5\n",
    "mttf = 10.0\n",
    "cv = 0.1\n",
    "mttop = 1.0\n",
    "dist = failure_param(mttf = mttf, cv = cv)\n",
    "# D0, D1, ocv = poisson_param(mttop = mttop)\n",
    "# D0, D1, ocv = hyporenewal_param(mttop = mttop, b=[1,2]) # [[1, 5], [1, 2], [1, 1]]\n",
    "# D0, D1, ocv = mmpp_param(mttop = mttop, u=[1,1], b=[1,10]) # u=[1,1] b=[[1, 2], [1, 5], [1, 10]]\n",
    "D0, D1, ocv = hyperrenewal_param(mttop = mttop, u=[0.8,0.2], b=[10,1]) # b = [10, 1], u = [[0.2, 0.8], [0.5, 0.5], [0.8, 0.2]]\n",
    "result1 = optimize(t0 -> Aop(t0, dist, co, cf, D0, D1), 0.0001, mttf*2)\n",
    "println(result1)"
   ]
  },
  {
   "cell_type": "code",
   "execution_count": 20,
   "metadata": {},
   "outputs": [
    {
     "name": "stdout",
     "output_type": "stream",
     "text": [
      "mttop 1.0\n",
      "mean opportunity interval 1.0\n",
      "cv for opportunity interval 1.0\n",
      "poi[-2.0 1.0; 1.0 -2.0][1.0 0.0; 0.0 1.0]\n",
      "mean opportunity interval 1.0\n",
      "cv for opportunity interval 0.9736379530830044\n",
      "hypo[-1.03333 1.03333; 0.0 -5.16667][0.0 0.0; 5.16667 0.0]\n",
      "mean opportunity interval 1.0\n",
      "cv for opportunity interval 0.9147320339189785\n",
      "hypo[-1.16667 1.16667; 0.0 -2.33333][0.0 0.0; 2.33333 0.0]\n",
      "mean opportunity interval 1.0\n",
      "cv for opportunity interval 0.8819171036881968\n",
      "hypo[-1.5 1.5; 0.0 -1.5][0.0 0.0; 1.5 0.0]\n",
      "mean opportunity interval 1.0\n",
      "cv for opportunity interval 1.0199501246882794\n",
      "hyper[-9.78049 0.0; 0.0 -0.978049][1.9561 7.82439; 0.19561 0.782439]\n",
      "mean opportunity interval 1.0\n",
      "cv for opportunity interval 1.0764794285093986\n",
      "hyper[-9.18182 0.0; 0.0 -0.918182][4.59091 4.59091; 0.459091 0.459091]\n",
      "mean opportunity interval 1.0\n",
      "cv for opportunity interval 1.2645601709825842\n",
      "hyper[-7.42857 0.0; 0.0 -0.742857][5.94286 1.48571; 0.594286 0.148571]\n",
      "mean opportunity interval 1.0000000000000002\n",
      "cv for opportunity interval 1.0202040612204069\n",
      "mmpp[-1.4 0.7; 0.7 -2.1][0.7 0.0; 0.0 1.4]\n",
      "mean opportunity interval 1.0\n",
      "cv for opportunity interval 1.148912529307606\n",
      "mmpp[-0.909091 0.454545; 0.454545 -2.72727][0.454545 0.0; 0.0 2.27273]\n",
      "mean opportunity interval 1.0\n",
      "cv for opportunity interval 1.3114877048604003\n",
      "mmpp[-0.714286 0.357143; 0.357143 -3.92857][0.357143 0.0; 0.0 3.57143]\n",
      "mttop 5.0\n",
      "mean opportunity interval 5.0\n",
      "cv for opportunity interval 0.9999999999999998\n",
      "poi[-0.4 0.2; 0.2 -0.4][0.2 0.0; 0.0 0.2]\n",
      "mean opportunity interval 5.0\n",
      "cv for opportunity interval 0.9736379530830043\n",
      "hypo[-0.206667 0.206667; 0.0 -1.03333][0.0 0.0; 1.03333 0.0]\n",
      "mean opportunity interval 5.0\n",
      "cv for opportunity interval 0.9147320339189784\n",
      "hypo[-0.233333 0.233333; 0.0 -0.466667][0.0 0.0; 0.466667 0.0]\n",
      "mean opportunity interval 5.0\n",
      "cv for opportunity interval 0.881917103688197\n",
      "hypo[-0.3 0.3; 0.0 -0.3][0.0 0.0; 0.3 0.0]\n",
      "mean opportunity interval 4.999999999999999\n",
      "cv for opportunity interval 1.0199501246882794\n",
      "hyper[-1.9561 0.0; 0.0 -0.19561][0.39122 1.56488; 0.039122 0.156488]\n",
      "mean opportunity interval 5.0\n",
      "cv for opportunity interval 1.0764794285093986\n",
      "hyper[-1.83636 0.0; 0.0 -0.183636][0.918182 0.918182; 0.0918182 0.0918182]\n",
      "mean opportunity interval 5.0\n",
      "cv for opportunity interval 1.2645601709825842\n",
      "hyper[-1.48571 0.0; 0.0 -0.148571][1.18857 0.297143; 0.118857 0.0297143]\n",
      "mean opportunity interval 5.000000000000001\n",
      "cv for opportunity interval 1.020204061220407\n",
      "mmpp[-0.28 0.14; 0.14 -0.42][0.14 0.0; 0.0 0.28]\n",
      "mean opportunity interval 5.0\n",
      "cv for opportunity interval 1.1489125293076057\n",
      "mmpp[-0.181818 0.0909091; 0.0909091 -0.545455][0.0909091 0.0; 0.0 0.454545]\n",
      "mean opportunity interval 5.0\n",
      "cv for opportunity interval 1.3114877048604001\n",
      "mmpp[-0.142857 0.0714286; 0.0714286 -0.785714][0.0714286 0.0; 0.0 0.714286]\n"
     ]
    }
   ],
   "source": [
    "for mttop in [1.0, 5.0]\n",
    "    println(\"mttop \", mttop)\n",
    "    D0, D1, ocv = poisson_param(mttop = mttop)\n",
    "    println(\"poi\", D0, D1)\n",
    "    for b in [[1, 5], [1, 2], [1, 1]]\n",
    "        D0, D1, ocv = hyporenewal_param(mttop = mttop, b=b)\n",
    "        println(\"hypo\", D0, D1)\n",
    "    end\n",
    "    b = [10, 1]\n",
    "    for u in [[0.2, 0.8], [0.5, 0.5], [0.8, 0.2]]\n",
    "        D0, D1, ocv = hyperrenewal_param(mttop = mttop, u=u, b=b)\n",
    "        println(\"hyper\", D0, D1)\n",
    "    end\n",
    "    u = [1, 1]\n",
    "    for b in [[1, 2], [1, 5], [1, 10]]\n",
    "        D0, D1, ocv = mmpp_param(mttop = mttop, u=u, b=b)\n",
    "        println(\"mmpp\", D0, D1)\n",
    "    end\n",
    "end"
   ]
  },
  {
   "cell_type": "code",
   "execution_count": 22,
   "metadata": {},
   "outputs": [
    {
     "data": {
      "text/plain": [
       "0.800000538461642"
      ]
     },
     "execution_count": 22,
     "metadata": {},
     "output_type": "execute_result"
    }
   ],
   "source": [
    "5.94286/(5.94286+1.48571)"
   ]
  },
  {
   "cell_type": "code",
   "execution_count": null,
   "metadata": {},
   "outputs": [],
   "source": []
  }
 ],
 "metadata": {
  "kernelspec": {
   "display_name": "Julia 1.0.5",
   "language": "julia",
   "name": "julia-1.0"
  },
  "language_info": {
   "file_extension": ".jl",
   "mimetype": "application/julia",
   "name": "julia",
   "version": "1.0.5"
  }
 },
 "nbformat": 4,
 "nbformat_minor": 4
}
