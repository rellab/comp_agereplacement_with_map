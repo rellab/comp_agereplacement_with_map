{
 "cells": [
  {
   "cell_type": "code",
   "execution_count": 1,
   "metadata": {},
   "outputs": [
    {
     "name": "stderr",
     "output_type": "stream",
     "text": [
      "\u001b[32m\u001b[1m   Updating\u001b[22m\u001b[39m registry at `/opt/julia/registries/General`\n",
      "######################################################################### 100.0%                76.1%\n",
      "\u001b[32m\u001b[1m  Resolving\u001b[22m\u001b[39m package versions...\n",
      "\u001b[32m\u001b[1m  Installed\u001b[22m\u001b[39m MbedTLS_jll ────────────────── v2.16.8+1\n",
      "\u001b[32m\u001b[1m  Installed\u001b[22m\u001b[39m Adapt ──────────────────────── v2.3.0\n",
      "\u001b[32m\u001b[1m  Installed\u001b[22m\u001b[39m Measures ───────────────────── v0.3.1\n",
      "\u001b[32m\u001b[1m  Installed\u001b[22m\u001b[39m HDF5_jll ───────────────────── v1.10.5+7\n",
      "\u001b[32m\u001b[1m  Installed\u001b[22m\u001b[39m EarCut_jll ─────────────────── v2.1.5+1\n",
      "\u001b[32m\u001b[1m  Installed\u001b[22m\u001b[39m FreeType2_jll ──────────────── v2.10.1+5\n",
      "\u001b[32m\u001b[1m  Installed\u001b[22m\u001b[39m DataValueInterfaces ────────── v1.0.0\n",
      "\u001b[32m\u001b[1m  Installed\u001b[22m\u001b[39m Plots ──────────────────────── v1.8.1\n",
      "\u001b[32m\u001b[1m  Installed\u001b[22m\u001b[39m Xorg_libXau_jll ────────────── v1.0.9+4\n",
      "\u001b[32m\u001b[1m  Installed\u001b[22m\u001b[39m Ogg_jll ────────────────────── v1.3.4+2\n",
      "\u001b[32m\u001b[1m  Installed\u001b[22m\u001b[39m Xorg_libXi_jll ─────────────── v1.7.10+4\n",
      "\u001b[32m\u001b[1m  Installed\u001b[22m\u001b[39m Xorg_libxcb_jll ────────────── v1.13.0+3\n",
      "\u001b[32m\u001b[1m  Installed\u001b[22m\u001b[39m Missings ───────────────────── v0.4.4\n",
      "\u001b[32m\u001b[1m  Installed\u001b[22m\u001b[39m JpegTurbo_jll ──────────────── v2.0.1+3\n",
      "\u001b[32m\u001b[1m  Installed\u001b[22m\u001b[39m Requires ───────────────────── v1.1.0\n",
      "\u001b[32m\u001b[1m  Installed\u001b[22m\u001b[39m Opus_jll ───────────────────── v1.3.1+3\n",
      "\u001b[32m\u001b[1m  Installed\u001b[22m\u001b[39m Xorg_libXrender_jll ────────── v0.9.10+4\n",
      "\u001b[32m\u001b[1m  Installed\u001b[22m\u001b[39m Xorg_libXrandr_jll ─────────── v1.5.2+4\n",
      "\u001b[32m\u001b[1m  Installed\u001b[22m\u001b[39m LaTeXStrings ───────────────── v1.2.0\n",
      "\u001b[32m\u001b[1m  Installed\u001b[22m\u001b[39m Gettext_jll ────────────────── v0.20.1+7\n",
      "\u001b[32m\u001b[1m  Installed\u001b[22m\u001b[39m Xorg_libpthread_stubs_jll ──── v0.1.0+3\n",
      "\u001b[32m\u001b[1m  Installed\u001b[22m\u001b[39m Formatting ─────────────────── v0.4.1\n",
      "\u001b[32m\u001b[1m  Installed\u001b[22m\u001b[39m DataStructures ─────────────── v0.18.8\n",
      "\u001b[32m\u001b[1m  Installed\u001b[22m\u001b[39m MacroTools ─────────────────── v0.5.6\n",
      "\u001b[32m\u001b[1m  Installed\u001b[22m\u001b[39m Xorg_libX11_jll ────────────── v1.6.9+4\n",
      "\u001b[32m\u001b[1m  Installed\u001b[22m\u001b[39m Xorg_xcb_util_wm_jll ───────── v0.4.1+0\n",
      "\u001b[32m\u001b[1m  Installed\u001b[22m\u001b[39m DataAPI ────────────────────── v1.4.0\n",
      "\u001b[32m\u001b[1m  Installed\u001b[22m\u001b[39m xkbcommon_jll ──────────────── v0.9.1+5\n",
      "\u001b[32m\u001b[1m  Installed\u001b[22m\u001b[39m Compat ─────────────────────── v3.23.0\n",
      "\u001b[32m\u001b[1m  Installed\u001b[22m\u001b[39m Contour ────────────────────── v0.5.5\n",
      "\u001b[32m\u001b[1m  Installed\u001b[22m\u001b[39m libvorbis_jll ──────────────── v1.3.6+6\n",
      "\u001b[32m\u001b[1m  Installed\u001b[22m\u001b[39m x265_jll ───────────────────── v3.0.0+3\n",
      "\u001b[32m\u001b[1m  Installed\u001b[22m\u001b[39m Libtiff_jll ────────────────── v4.1.0+2\n",
      "\u001b[32m\u001b[1m  Installed\u001b[22m\u001b[39m Grisu ──────────────────────── v1.0.0\n",
      "\u001b[32m\u001b[1m  Installed\u001b[22m\u001b[39m Xorg_libxkbfile_jll ────────── v1.1.0+4\n",
      "\u001b[32m\u001b[1m  Installed\u001b[22m\u001b[39m Tables ─────────────────────── v1.2.1\n",
      "\u001b[32m\u001b[1m  Installed\u001b[22m\u001b[39m Fontconfig_jll ─────────────── v2.13.1+14\n",
      "\u001b[32m\u001b[1m  Installed\u001b[22m\u001b[39m IterTools ──────────────────── v1.3.0\n",
      "\u001b[32m\u001b[1m  Installed\u001b[22m\u001b[39m libass_jll ─────────────────── v0.14.0+4\n",
      "\u001b[32m\u001b[1m  Installed\u001b[22m\u001b[39m NaNMath ────────────────────── v0.3.4\n",
      "\u001b[32m\u001b[1m  Installed\u001b[22m\u001b[39m IteratorInterfaceExtensions ── v1.0.0\n",
      "\u001b[32m\u001b[1m  Installed\u001b[22m\u001b[39m Xorg_libXdmcp_jll ──────────── v1.1.3+4\n",
      "\u001b[32m\u001b[1m  Installed\u001b[22m\u001b[39m GeometryBasics ─────────────── v0.3.3\n",
      "\u001b[32m\u001b[1m  Installed\u001b[22m\u001b[39m LAME_jll ───────────────────── v3.100.0+3\n",
      "\u001b[32m\u001b[1m  Installed\u001b[22m\u001b[39m PlotUtils ──────────────────── v1.0.7\n",
      "\u001b[32m\u001b[1m  Installed\u001b[22m\u001b[39m RecipesPipeline ────────────── v0.2.1\n",
      "\u001b[32m\u001b[1m  Installed\u001b[22m\u001b[39m ColorTypes ─────────────────── v0.10.9\n",
      "\u001b[32m\u001b[1m  Installed\u001b[22m\u001b[39m OrderedCollections ─────────── v1.3.2\n",
      "\u001b[32m\u001b[1m  Installed\u001b[22m\u001b[39m Wayland_jll ────────────────── v1.17.0+4\n",
      "\u001b[32m\u001b[1m  Installed\u001b[22m\u001b[39m Xorg_xkeyboard_config_jll ──── v2.27.0+4\n",
      "\u001b[32m\u001b[1m  Installed\u001b[22m\u001b[39m Scratch ────────────────────── v1.0.3\n",
      "\u001b[32m\u001b[1m  Installed\u001b[22m\u001b[39m StructArrays ───────────────── v0.4.4\n",
      "\u001b[32m\u001b[1m  Installed\u001b[22m\u001b[39m FixedPointNumbers ──────────── v0.8.4\n",
      "\u001b[32m\u001b[1m  Installed\u001b[22m\u001b[39m Bzip2_jll ──────────────────── v1.0.6+5\n",
      "\u001b[32m\u001b[1m  Installed\u001b[22m\u001b[39m FFMPEG_jll ─────────────────── v4.3.1+4\n",
      "\u001b[32m\u001b[1m  Installed\u001b[22m\u001b[39m Colors ─────────────────────── v0.12.4\n",
      "\u001b[32m\u001b[1m  Installed\u001b[22m\u001b[39m TableTraits ────────────────── v1.0.0\n",
      "\u001b[32m\u001b[1m  Installed\u001b[22m\u001b[39m PCRE_jll ───────────────────── v8.42.0+4\n",
      "\u001b[32m\u001b[1m  Installed\u001b[22m\u001b[39m Cairo_jll ──────────────────── v1.16.0+6\n",
      "\u001b[32m\u001b[1m  Installed\u001b[22m\u001b[39m StatsBase ──────────────────── v0.33.2\n",
      "\u001b[32m\u001b[1m  Installed\u001b[22m\u001b[39m Xorg_xcb_util_keysyms_jll ──── v0.4.0+0\n",
      "\u001b[32m\u001b[1m  Installed\u001b[22m\u001b[39m Xorg_libXfixes_jll ─────────── v5.0.3+4\n",
      "\u001b[32m\u001b[1m  Installed\u001b[22m\u001b[39m XML2_jll ───────────────────── v2.9.10+3\n",
      "\u001b[32m\u001b[1m  Installed\u001b[22m\u001b[39m Expat_jll ──────────────────── v2.2.7+6\n",
      "\u001b[32m\u001b[1m  Installed\u001b[22m\u001b[39m Libgpg_error_jll ───────────── v1.36.0+3\n",
      "\u001b[32m\u001b[1m  Installed\u001b[22m\u001b[39m Latexify ───────────────────── v0.14.3\n",
      "\u001b[32m\u001b[1m  Installed\u001b[22m\u001b[39m Xorg_libXext_jll ───────────── v1.3.4+4\n",
      "\u001b[32m\u001b[1m  Installed\u001b[22m\u001b[39m Xorg_xcb_util_jll ──────────── v0.4.0+0\n",
      "\u001b[32m\u001b[1m  Installed\u001b[22m\u001b[39m FriBidi_jll ────────────────── v1.0.5+6\n",
      "\u001b[32m\u001b[1m  Installed\u001b[22m\u001b[39m Xorg_libXcursor_jll ────────── v1.2.0+4\n",
      "\u001b[32m\u001b[1m  Installed\u001b[22m\u001b[39m Xorg_xkbcomp_jll ───────────── v1.4.2+4\n",
      "\u001b[32m\u001b[1m  Installed\u001b[22m\u001b[39m libfdk_aac_jll ─────────────── v0.1.6+4\n",
      "\u001b[32m\u001b[1m  Installed\u001b[22m\u001b[39m OpenSSL_jll ────────────────── v1.1.1+6\n",
      "\u001b[32m\u001b[1m  Installed\u001b[22m\u001b[39m FFMPEG ─────────────────────── v0.4.0\n",
      "\u001b[32m\u001b[1m  Installed\u001b[22m\u001b[39m Xorg_xcb_util_image_jll ────── v0.4.0+0\n",
      "\u001b[32m\u001b[1m  Installed\u001b[22m\u001b[39m StaticArrays ───────────────── v0.12.5\n",
      "\u001b[32m\u001b[1m  Installed\u001b[22m\u001b[39m Xorg_xcb_util_renderutil_jll ─ v0.3.9+0\n",
      "\u001b[32m\u001b[1m  Installed\u001b[22m\u001b[39m RecipesBase ────────────────── v1.1.1\n",
      "\u001b[32m\u001b[1m  Installed\u001b[22m\u001b[39m Libiconv_jll ───────────────── v1.16.0+7\n",
      "\u001b[32m\u001b[1m  Installed\u001b[22m\u001b[39m Libgcrypt_jll ──────────────── v1.8.5+4\n",
      "\u001b[32m\u001b[1m  Installed\u001b[22m\u001b[39m Reexport ───────────────────── v0.2.0\n",
      "\u001b[32m\u001b[1m  Installed\u001b[22m\u001b[39m LibVPX_jll ─────────────────── v1.9.0+1\n",
      "\u001b[32m\u001b[1m  Installed\u001b[22m\u001b[39m GR_jll ─────────────────────── v0.52.0+0\n",
      "\u001b[32m\u001b[1m  Installed\u001b[22m\u001b[39m Xorg_xtrans_jll ────────────── v1.4.0+3\n",
      "\u001b[32m\u001b[1m  Installed\u001b[22m\u001b[39m PlotThemes ─────────────────── v2.0.0\n",
      "\u001b[32m\u001b[1m  Installed\u001b[22m\u001b[39m Xorg_libXinerama_jll ───────── v1.1.4+4\n",
      "\u001b[32m\u001b[1m  Installed\u001b[22m\u001b[39m x264_jll ───────────────────── v2020.7.14+2\n",
      "\u001b[32m\u001b[1m  Installed\u001b[22m\u001b[39m Wayland_protocols_jll ──────── v1.18.0+4\n",
      "\u001b[32m\u001b[1m  Installed\u001b[22m\u001b[39m Libglvnd_jll ───────────────── v1.3.0+3\n",
      "\u001b[32m\u001b[1m  Installed\u001b[22m\u001b[39m XSLT_jll ───────────────────── v1.1.33+4\n",
      "\u001b[32m\u001b[1m  Installed\u001b[22m\u001b[39m Qt_jll ─────────────────────── v5.15.0+3\n",
      "\u001b[32m\u001b[1m  Installed\u001b[22m\u001b[39m SortingAlgorithms ──────────── v0.3.1\n",
      "\u001b[32m\u001b[1m  Installed\u001b[22m\u001b[39m GLFW_jll ───────────────────── v3.3.2+1\n",
      "\u001b[32m\u001b[1m  Installed\u001b[22m\u001b[39m libpng_jll ─────────────────── v1.6.37+6\n",
      "\u001b[32m\u001b[1m  Installed\u001b[22m\u001b[39m Libmount_jll ───────────────── v2.34.0+3\n",
      "\u001b[32m\u001b[1m  Installed\u001b[22m\u001b[39m Libffi_jll ─────────────────── v3.2.1+4\n",
      "\u001b[32m\u001b[1m  Installed\u001b[22m\u001b[39m Glib_jll ───────────────────── v2.59.0+4\n",
      "\u001b[32m\u001b[1m  Installed\u001b[22m\u001b[39m Showoff ────────────────────── v0.3.2\n",
      "\u001b[32m\u001b[1m  Installed\u001b[22m\u001b[39m Qhull_jll ──────────────────── v2019.1.0+2\n",
      "\u001b[32m\u001b[1m  Installed\u001b[22m\u001b[39m Pixman_jll ─────────────────── v0.38.4+5\n",
      "\u001b[32m\u001b[1m  Installed\u001b[22m\u001b[39m LZO_jll ────────────────────── v2.10.0+3\n",
      "\u001b[32m\u001b[1m  Installed\u001b[22m\u001b[39m IniFile ────────────────────── v0.5.0\n",
      "\u001b[32m\u001b[1m  Installed\u001b[22m\u001b[39m Libuuid_jll ────────────────── v2.34.0+7\n",
      "\u001b[32m\u001b[1m  Installed\u001b[22m\u001b[39m HTTP ───────────────────────── v0.8.19\n",
      "\u001b[32m\u001b[1m  Installed\u001b[22m\u001b[39m ColorSchemes ───────────────── v3.10.1\n",
      "\u001b[32m\u001b[1m  Installed\u001b[22m\u001b[39m GR ─────────────────────────── v0.53.0\n",
      "\u001b[32m\u001b[1mUpdating\u001b[22m\u001b[39m `/opt/julia/environments/v1.5/Project.toml`\n",
      " \u001b[90m [91a5bcdd] \u001b[39m\u001b[92m+ Plots v1.8.1\u001b[39m\n",
      "\u001b[32m\u001b[1mUpdating\u001b[22m\u001b[39m `/opt/julia/environments/v1.5/Manifest.toml`\n",
      " \u001b[90m [79e6a3ab] \u001b[39m\u001b[92m+ Adapt v2.3.0\u001b[39m\n",
      " \u001b[90m [6e34b625] \u001b[39m\u001b[92m+ Bzip2_jll v1.0.6+5\u001b[39m\n",
      " \u001b[90m [83423d85] \u001b[39m\u001b[92m+ Cairo_jll v1.16.0+6\u001b[39m\n",
      " \u001b[90m [35d6a980] \u001b[39m\u001b[92m+ ColorSchemes v3.10.1\u001b[39m\n",
      " \u001b[90m [3da002f7] \u001b[39m\u001b[92m+ ColorTypes v0.10.9\u001b[39m\n",
      " \u001b[90m [5ae59095] \u001b[39m\u001b[92m+ Colors v0.12.4\u001b[39m\n",
      " \u001b[90m [34da2185] \u001b[39m\u001b[92m+ Compat v3.23.0\u001b[39m\n",
      " \u001b[90m [d38c429a] \u001b[39m\u001b[92m+ Contour v0.5.5\u001b[39m\n",
      " \u001b[90m [9a962f9c] \u001b[39m\u001b[92m+ DataAPI v1.4.0\u001b[39m\n",
      " \u001b[90m [864edb3b] \u001b[39m\u001b[92m+ DataStructures v0.18.8\u001b[39m\n",
      " \u001b[90m [e2d170a0] \u001b[39m\u001b[92m+ DataValueInterfaces v1.0.0\u001b[39m\n",
      " \u001b[90m [5ae413db] \u001b[39m\u001b[92m+ EarCut_jll v2.1.5+1\u001b[39m\n",
      " \u001b[90m [2e619515] \u001b[39m\u001b[92m+ Expat_jll v2.2.7+6\u001b[39m\n",
      " \u001b[90m [c87230d0] \u001b[39m\u001b[92m+ FFMPEG v0.4.0\u001b[39m\n",
      " \u001b[90m [b22a6f82] \u001b[39m\u001b[92m+ FFMPEG_jll v4.3.1+4\u001b[39m\n",
      " \u001b[90m [53c48c17] \u001b[39m\u001b[92m+ FixedPointNumbers v0.8.4\u001b[39m\n",
      " \u001b[90m [a3f928ae] \u001b[39m\u001b[92m+ Fontconfig_jll v2.13.1+14\u001b[39m\n",
      " \u001b[90m [59287772] \u001b[39m\u001b[92m+ Formatting v0.4.1\u001b[39m\n",
      " \u001b[90m [d7e528f0] \u001b[39m\u001b[92m+ FreeType2_jll v2.10.1+5\u001b[39m\n",
      " \u001b[90m [559328eb] \u001b[39m\u001b[92m+ FriBidi_jll v1.0.5+6\u001b[39m\n",
      " \u001b[90m [0656b61e] \u001b[39m\u001b[92m+ GLFW_jll v3.3.2+1\u001b[39m\n",
      " \u001b[90m [28b8d3ca] \u001b[39m\u001b[92m+ GR v0.53.0\u001b[39m\n",
      " \u001b[90m [d2c73de3] \u001b[39m\u001b[92m+ GR_jll v0.52.0+0\u001b[39m\n",
      " \u001b[90m [5c1252a2] \u001b[39m\u001b[92m+ GeometryBasics v0.3.3\u001b[39m\n",
      " \u001b[90m [78b55507] \u001b[39m\u001b[92m+ Gettext_jll v0.20.1+7\u001b[39m\n",
      " \u001b[90m [7746bdde] \u001b[39m\u001b[92m+ Glib_jll v2.59.0+4\u001b[39m\n",
      " \u001b[90m [42e2da0e] \u001b[39m\u001b[92m+ Grisu v1.0.0\u001b[39m\n",
      " \u001b[90m [0234f1f7] \u001b[39m\u001b[93m↑ HDF5_jll v1.10.5+6 ⇒ v1.10.5+7\u001b[39m\n",
      " \u001b[90m [cd3eb016] \u001b[39m\u001b[92m+ HTTP v0.8.19\u001b[39m\n",
      " \u001b[90m [83e8ac13] \u001b[39m\u001b[92m+ IniFile v0.5.0\u001b[39m\n",
      " \u001b[90m [c8e1da08] \u001b[39m\u001b[92m+ IterTools v1.3.0\u001b[39m\n",
      " \u001b[90m [82899510] \u001b[39m\u001b[92m+ IteratorInterfaceExtensions v1.0.0\u001b[39m\n",
      " \u001b[90m [aacddb02] \u001b[39m\u001b[92m+ JpegTurbo_jll v2.0.1+3\u001b[39m\n",
      " \u001b[90m [c1c5ebd0] \u001b[39m\u001b[92m+ LAME_jll v3.100.0+3\u001b[39m\n",
      " \u001b[90m [dd4b983a] \u001b[39m\u001b[92m+ LZO_jll v2.10.0+3\u001b[39m\n",
      " \u001b[90m [b964fa9f] \u001b[39m\u001b[92m+ LaTeXStrings v1.2.0\u001b[39m\n",
      " \u001b[90m [23fbe1c1] \u001b[39m\u001b[92m+ Latexify v0.14.3\u001b[39m\n",
      " \u001b[90m [dd192d2f] \u001b[39m\u001b[92m+ LibVPX_jll v1.9.0+1\u001b[39m\n",
      " \u001b[90m [e9f186c6] \u001b[39m\u001b[92m+ Libffi_jll v3.2.1+4\u001b[39m\n",
      " \u001b[90m [d4300ac3] \u001b[39m\u001b[92m+ Libgcrypt_jll v1.8.5+4\u001b[39m\n",
      " \u001b[90m [7e76a0d4] \u001b[39m\u001b[92m+ Libglvnd_jll v1.3.0+3\u001b[39m\n",
      " \u001b[90m [7add5ba3] \u001b[39m\u001b[92m+ Libgpg_error_jll v1.36.0+3\u001b[39m\n",
      " \u001b[90m [94ce4f54] \u001b[39m\u001b[92m+ Libiconv_jll v1.16.0+7\u001b[39m\n",
      " \u001b[90m [4b2f31a3] \u001b[39m\u001b[92m+ Libmount_jll v2.34.0+3\u001b[39m\n",
      " \u001b[90m [89763e89] \u001b[39m\u001b[92m+ Libtiff_jll v4.1.0+2\u001b[39m\n",
      " \u001b[90m [38a345b3] \u001b[39m\u001b[92m+ Libuuid_jll v2.34.0+7\u001b[39m\n",
      " \u001b[90m [1914dd2f] \u001b[39m\u001b[92m+ MacroTools v0.5.6\u001b[39m\n",
      " \u001b[90m [c8ffd9c3] \u001b[39m\u001b[93m↑ MbedTLS_jll v2.16.8+0 ⇒ v2.16.8+1\u001b[39m\n",
      " \u001b[90m [442fdcdd] \u001b[39m\u001b[92m+ Measures v0.3.1\u001b[39m\n",
      " \u001b[90m [e1d29d7a] \u001b[39m\u001b[92m+ Missings v0.4.4\u001b[39m\n",
      " \u001b[90m [77ba4419] \u001b[39m\u001b[92m+ NaNMath v0.3.4\u001b[39m\n",
      " \u001b[90m [e7412a2a] \u001b[39m\u001b[92m+ Ogg_jll v1.3.4+2\u001b[39m\n",
      " \u001b[90m [458c3c95] \u001b[39m\u001b[92m+ OpenSSL_jll v1.1.1+6\u001b[39m\n",
      " \u001b[90m [91d4177d] \u001b[39m\u001b[92m+ Opus_jll v1.3.1+3\u001b[39m\n",
      " \u001b[90m [bac558e1] \u001b[39m\u001b[92m+ OrderedCollections v1.3.2\u001b[39m\n",
      " \u001b[90m [2f80f16e] \u001b[39m\u001b[92m+ PCRE_jll v8.42.0+4\u001b[39m\n",
      " \u001b[90m [30392449] \u001b[39m\u001b[92m+ Pixman_jll v0.38.4+5\u001b[39m\n",
      " \u001b[90m [ccf2f8ad] \u001b[39m\u001b[92m+ PlotThemes v2.0.0\u001b[39m\n",
      " \u001b[90m [995b91a9] \u001b[39m\u001b[92m+ PlotUtils v1.0.7\u001b[39m\n",
      " \u001b[90m [91a5bcdd] \u001b[39m\u001b[92m+ Plots v1.8.1\u001b[39m\n",
      " \u001b[90m [784f63db] \u001b[39m\u001b[92m+ Qhull_jll v2019.1.0+2\u001b[39m\n",
      " \u001b[90m [ede63266] \u001b[39m\u001b[92m+ Qt_jll v5.15.0+3\u001b[39m\n",
      " \u001b[90m [3cdcf5f2] \u001b[39m\u001b[92m+ RecipesBase v1.1.1\u001b[39m\n",
      " \u001b[90m [01d81517] \u001b[39m\u001b[92m+ RecipesPipeline v0.2.1\u001b[39m\n",
      " \u001b[90m [189a3867] \u001b[39m\u001b[92m+ Reexport v0.2.0\u001b[39m\n",
      " \u001b[90m [ae029012] \u001b[39m\u001b[92m+ Requires v1.1.0\u001b[39m\n",
      " \u001b[90m [6c6a2e73] \u001b[39m\u001b[92m+ Scratch v1.0.3\u001b[39m\n",
      " \u001b[90m [992d4aef] \u001b[39m\u001b[92m+ Showoff v0.3.2\u001b[39m\n",
      " \u001b[90m [a2af1166] \u001b[39m\u001b[92m+ SortingAlgorithms v0.3.1\u001b[39m\n",
      " \u001b[90m [90137ffa] \u001b[39m\u001b[92m+ StaticArrays v0.12.5\u001b[39m\n",
      " \u001b[90m [2913bbd2] \u001b[39m\u001b[92m+ StatsBase v0.33.2\u001b[39m\n",
      " \u001b[90m [09ab397b] \u001b[39m\u001b[92m+ StructArrays v0.4.4\u001b[39m\n",
      " \u001b[90m [3783bdb8] \u001b[39m\u001b[92m+ TableTraits v1.0.0\u001b[39m\n",
      " \u001b[90m [bd369af6] \u001b[39m\u001b[92m+ Tables v1.2.1\u001b[39m\n",
      " \u001b[90m [a2964d1f] \u001b[39m\u001b[92m+ Wayland_jll v1.17.0+4\u001b[39m\n",
      " \u001b[90m [2381bf8a] \u001b[39m\u001b[92m+ Wayland_protocols_jll v1.18.0+4\u001b[39m\n",
      " \u001b[90m [02c8fc9c] \u001b[39m\u001b[92m+ XML2_jll v2.9.10+3\u001b[39m\n",
      " \u001b[90m [aed1982a] \u001b[39m\u001b[92m+ XSLT_jll v1.1.33+4\u001b[39m\n",
      " \u001b[90m [4f6342f7] \u001b[39m\u001b[92m+ Xorg_libX11_jll v1.6.9+4\u001b[39m\n",
      " \u001b[90m [0c0b7dd1] \u001b[39m\u001b[92m+ Xorg_libXau_jll v1.0.9+4\u001b[39m\n",
      " \u001b[90m [935fb764] \u001b[39m\u001b[92m+ Xorg_libXcursor_jll v1.2.0+4\u001b[39m\n",
      " \u001b[90m [a3789734] \u001b[39m\u001b[92m+ Xorg_libXdmcp_jll v1.1.3+4\u001b[39m\n",
      " \u001b[90m [1082639a] \u001b[39m\u001b[92m+ Xorg_libXext_jll v1.3.4+4\u001b[39m\n",
      " \u001b[90m [d091e8ba] \u001b[39m\u001b[92m+ Xorg_libXfixes_jll v5.0.3+4\u001b[39m\n",
      " \u001b[90m [a51aa0fd] \u001b[39m\u001b[92m+ Xorg_libXi_jll v1.7.10+4\u001b[39m\n",
      " \u001b[90m [d1454406] \u001b[39m\u001b[92m+ Xorg_libXinerama_jll v1.1.4+4\u001b[39m\n",
      " \u001b[90m [ec84b674] \u001b[39m\u001b[92m+ Xorg_libXrandr_jll v1.5.2+4\u001b[39m\n",
      " \u001b[90m [ea2f1a96] \u001b[39m\u001b[92m+ Xorg_libXrender_jll v0.9.10+4\u001b[39m\n",
      " \u001b[90m [14d82f49] \u001b[39m\u001b[92m+ Xorg_libpthread_stubs_jll v0.1.0+3\u001b[39m\n",
      " \u001b[90m [c7cfdc94] \u001b[39m\u001b[92m+ Xorg_libxcb_jll v1.13.0+3\u001b[39m\n",
      " \u001b[90m [cc61e674] \u001b[39m\u001b[92m+ Xorg_libxkbfile_jll v1.1.0+4\u001b[39m\n",
      " \u001b[90m [12413925] \u001b[39m\u001b[92m+ Xorg_xcb_util_image_jll v0.4.0+0\u001b[39m\n",
      " \u001b[90m [2def613f] \u001b[39m\u001b[92m+ Xorg_xcb_util_jll v0.4.0+0\u001b[39m\n",
      " \u001b[90m [975044d2] \u001b[39m\u001b[92m+ Xorg_xcb_util_keysyms_jll v0.4.0+0\u001b[39m\n",
      " \u001b[90m [0d47668e] \u001b[39m\u001b[92m+ Xorg_xcb_util_renderutil_jll v0.3.9+0\u001b[39m\n",
      " \u001b[90m [c22f9ab0] \u001b[39m\u001b[92m+ Xorg_xcb_util_wm_jll v0.4.1+0\u001b[39m\n",
      " \u001b[90m [35661453] \u001b[39m\u001b[92m+ Xorg_xkbcomp_jll v1.4.2+4\u001b[39m\n",
      " \u001b[90m [33bec58e] \u001b[39m\u001b[92m+ Xorg_xkeyboard_config_jll v2.27.0+4\u001b[39m\n",
      " \u001b[90m [c5fb5394] \u001b[39m\u001b[92m+ Xorg_xtrans_jll v1.4.0+3\u001b[39m\n",
      " \u001b[90m [0ac62f75] \u001b[39m\u001b[92m+ libass_jll v0.14.0+4\u001b[39m\n",
      " \u001b[90m [f638f0a6] \u001b[39m\u001b[92m+ libfdk_aac_jll v0.1.6+4\u001b[39m\n",
      " \u001b[90m [b53b4c65] \u001b[39m\u001b[92m+ libpng_jll v1.6.37+6\u001b[39m\n",
      " \u001b[90m [f27f6e37] \u001b[39m\u001b[92m+ libvorbis_jll v1.3.6+6\u001b[39m\n",
      " \u001b[90m [1270edf5] \u001b[39m\u001b[92m+ x264_jll v2020.7.14+2\u001b[39m\n",
      " \u001b[90m [dfaa095f] \u001b[39m\u001b[92m+ x265_jll v3.0.0+3\u001b[39m\n",
      " \u001b[90m [d8fb68d0] \u001b[39m\u001b[92m+ xkbcommon_jll v0.9.1+5\u001b[39m\n",
      " \u001b[90m [8bb1440f] \u001b[39m\u001b[92m+ DelimitedFiles\u001b[39m\n",
      " \u001b[90m [37e2e46d] \u001b[39m\u001b[92m+ LinearAlgebra\u001b[39m\n",
      " \u001b[90m [1a1011a3] \u001b[39m\u001b[92m+ SharedArrays\u001b[39m\n",
      " \u001b[90m [2f01184e] \u001b[39m\u001b[92m+ SparseArrays\u001b[39m\n",
      " \u001b[90m [10745b16] \u001b[39m\u001b[92m+ Statistics\u001b[39m\n",
      "\u001b[32m\u001b[1m   Building\u001b[22m\u001b[39m GR → `/opt/julia/packages/GR/RlE5Y/deps/build.log`\n",
      "\u001b[32m\u001b[1m  Resolving\u001b[22m\u001b[39m package versions...\n",
      "\u001b[32m\u001b[1m  Installed\u001b[22m\u001b[39m CompilerSupportLibraries_jll ─ v0.3.4+0\n",
      "\u001b[32m\u001b[1m  Installed\u001b[22m\u001b[39m OpenSpecFun_jll ────────────── v0.5.3+4\n",
      "\u001b[32m\u001b[1m  Installed\u001b[22m\u001b[39m Rmath_jll ──────────────────── v0.2.2+1\n",
      "\u001b[32m\u001b[1m  Installed\u001b[22m\u001b[39m QuadGK ─────────────────────── v2.4.1\n",
      "\u001b[32m\u001b[1m  Installed\u001b[22m\u001b[39m FillArrays ─────────────────── v0.10.0\n",
      "\u001b[32m\u001b[1m  Installed\u001b[22m\u001b[39m StatsFuns ──────────────────── v0.9.5\n",
      "\u001b[32m\u001b[1m  Installed\u001b[22m\u001b[39m SpecialFunctions ───────────── v0.10.3\n",
      "\u001b[32m\u001b[1m  Installed\u001b[22m\u001b[39m Distributions ──────────────── v0.24.3\n",
      "\u001b[32m\u001b[1m  Installed\u001b[22m\u001b[39m Rmath ──────────────────────── v0.6.1\n",
      "\u001b[32m\u001b[1m  Installed\u001b[22m\u001b[39m PDMats ─────────────────────── v0.10.1\n",
      "\u001b[32m\u001b[1mUpdating\u001b[22m\u001b[39m `/opt/julia/environments/v1.5/Project.toml`\n",
      " \u001b[90m [31c24e10] \u001b[39m\u001b[92m+ Distributions v0.24.3\u001b[39m\n",
      "\u001b[32m\u001b[1mUpdating\u001b[22m\u001b[39m `/opt/julia/environments/v1.5/Manifest.toml`\n",
      " \u001b[90m [e66e0078] \u001b[39m\u001b[92m+ CompilerSupportLibraries_jll v0.3.4+0\u001b[39m\n",
      " \u001b[90m [31c24e10] \u001b[39m\u001b[92m+ Distributions v0.24.3\u001b[39m\n",
      " \u001b[90m [1a297f60] \u001b[39m\u001b[92m+ FillArrays v0.10.0\u001b[39m\n",
      " \u001b[90m [efe28fd5] \u001b[39m\u001b[92m+ OpenSpecFun_jll v0.5.3+4\u001b[39m\n",
      " \u001b[90m [90014a1f] \u001b[39m\u001b[92m+ PDMats v0.10.1\u001b[39m\n",
      " \u001b[90m [1fd47b50] \u001b[39m\u001b[92m+ QuadGK v2.4.1\u001b[39m\n",
      " \u001b[90m [79098fc4] \u001b[39m\u001b[92m+ Rmath v0.6.1\u001b[39m\n",
      " \u001b[90m [f50d1b31] \u001b[39m\u001b[92m+ Rmath_jll v0.2.2+1\u001b[39m\n",
      " \u001b[90m [276daf66] \u001b[39m\u001b[92m+ SpecialFunctions v0.10.3\u001b[39m\n",
      " \u001b[90m [4c63d2b9] \u001b[39m\u001b[92m+ StatsFuns v0.9.5\u001b[39m\n",
      " \u001b[90m [4607b0f0] \u001b[39m\u001b[92m+ SuiteSparse\u001b[39m\n",
      "\u001b[32m\u001b[1m  Resolving\u001b[22m\u001b[39m package versions...\n",
      "\u001b[32m\u001b[1mUpdating\u001b[22m\u001b[39m `/opt/julia/environments/v1.5/Project.toml`\n",
      " \u001b[90m [1fd47b50] \u001b[39m\u001b[92m+ QuadGK v2.4.1\u001b[39m\n",
      "\u001b[32m\u001b[1mNo Changes\u001b[22m\u001b[39m to `/opt/julia/environments/v1.5/Manifest.toml`\n",
      "\u001b[32m\u001b[1m  Resolving\u001b[22m\u001b[39m package versions...\n",
      "\u001b[32m\u001b[1mUpdating\u001b[22m\u001b[39m `/opt/julia/environments/v1.5/Project.toml`\n",
      " \u001b[90m [276daf66] \u001b[39m\u001b[92m+ SpecialFunctions v0.10.3\u001b[39m\n",
      "\u001b[32m\u001b[1mNo Changes\u001b[22m\u001b[39m to `/opt/julia/environments/v1.5/Manifest.toml`\n",
      "\u001b[32m\u001b[1m  Resolving\u001b[22m\u001b[39m package versions...\n",
      "\u001b[32m\u001b[1m  Installed\u001b[22m\u001b[39m DiffRules ────────────── v1.0.1\n",
      "\u001b[32m\u001b[1m  Installed\u001b[22m\u001b[39m ArrayInterface ───────── v2.13.7\n",
      "\u001b[32m\u001b[1m  Installed\u001b[22m\u001b[39m FiniteDiff ───────────── v2.7.1\n",
      "\u001b[32m\u001b[1m  Installed\u001b[22m\u001b[39m ForwardDiff ──────────── v0.10.12\n",
      "\u001b[32m\u001b[1m  Installed\u001b[22m\u001b[39m Parameters ───────────── v0.12.1\n",
      "\u001b[32m\u001b[1m  Installed\u001b[22m\u001b[39m FillArrays ───────────── v0.9.7\n",
      "\u001b[32m\u001b[1m  Installed\u001b[22m\u001b[39m JLLWrappers ──────────── v1.1.3\n",
      "\u001b[32m\u001b[1m  Installed\u001b[22m\u001b[39m Parsers ──────────────── v1.0.12\n",
      "\u001b[32m\u001b[1m  Installed\u001b[22m\u001b[39m CommonSubexpressions ─── v0.3.0\n",
      "\u001b[32m\u001b[1m  Installed\u001b[22m\u001b[39m DiffResults ──────────── v1.0.2\n",
      "\u001b[32m\u001b[1m  Installed\u001b[22m\u001b[39m Conda ────────────────── v1.5.0\n",
      "\u001b[32m\u001b[1m  Installed\u001b[22m\u001b[39m MbedTLS ──────────────── v1.0.3\n",
      "\u001b[32m\u001b[1m  Installed\u001b[22m\u001b[39m NLSolversBase ────────── v7.7.1\n",
      "\u001b[32m\u001b[1m  Installed\u001b[22m\u001b[39m UnPack ───────────────── v1.0.2\n",
      "\u001b[32m\u001b[1m  Installed\u001b[22m\u001b[39m PositiveFactorizations ─ v0.2.3\n",
      "\u001b[32m\u001b[1m  Installed\u001b[22m\u001b[39m LineSearches ─────────── v7.1.0\n",
      "\u001b[32m\u001b[1m  Installed\u001b[22m\u001b[39m Optim ────────────────── v1.2.0\n",
      "\u001b[32m\u001b[1mUpdating\u001b[22m\u001b[39m `/opt/julia/environments/v1.5/Project.toml`\n",
      " \u001b[90m [429524aa] \u001b[39m\u001b[92m+ Optim v1.2.0\u001b[39m\n",
      "\u001b[32m\u001b[1mUpdating\u001b[22m\u001b[39m `/opt/julia/environments/v1.5/Manifest.toml`\n",
      " \u001b[90m [4fba245c] \u001b[39m\u001b[92m+ ArrayInterface v2.13.7\u001b[39m\n",
      " \u001b[90m [bbf7d656] \u001b[39m\u001b[92m+ CommonSubexpressions v0.3.0\u001b[39m\n",
      " \u001b[90m [8f4d0f93] \u001b[39m\u001b[93m↑ Conda v1.4.1 ⇒ v1.5.0\u001b[39m\n",
      " \u001b[90m [163ba53b] \u001b[39m\u001b[92m+ DiffResults v1.0.2\u001b[39m\n",
      " \u001b[90m [b552c78f] \u001b[39m\u001b[92m+ DiffRules v1.0.1\u001b[39m\n",
      " \u001b[90m [1a297f60] \u001b[39m\u001b[95m↓ FillArrays v0.10.0 ⇒ v0.9.7\u001b[39m\n",
      " \u001b[90m [6a86dc24] \u001b[39m\u001b[92m+ FiniteDiff v2.7.1\u001b[39m\n",
      " \u001b[90m [f6369f11] \u001b[39m\u001b[92m+ ForwardDiff v0.10.12\u001b[39m\n",
      " \u001b[90m [692b3bcd] \u001b[39m\u001b[93m↑ JLLWrappers v1.1.2 ⇒ v1.1.3\u001b[39m\n",
      " \u001b[90m [d3d80556] \u001b[39m\u001b[92m+ LineSearches v7.1.0\u001b[39m\n",
      " \u001b[90m [739be429] \u001b[39m\u001b[93m↑ MbedTLS v1.0.2 ⇒ v1.0.3\u001b[39m\n",
      " \u001b[90m [d41bc354] \u001b[39m\u001b[92m+ NLSolversBase v7.7.1\u001b[39m\n",
      " \u001b[90m [429524aa] \u001b[39m\u001b[92m+ Optim v1.2.0\u001b[39m\n",
      " \u001b[90m [d96e819e] \u001b[39m\u001b[92m+ Parameters v0.12.1\u001b[39m\n",
      " \u001b[90m [69de0a69] \u001b[39m\u001b[93m↑ Parsers v1.0.11 ⇒ v1.0.12\u001b[39m\n",
      " \u001b[90m [85a6dd25] \u001b[39m\u001b[92m+ PositiveFactorizations v0.2.3\u001b[39m\n",
      " \u001b[90m [3a884ed6] \u001b[39m\u001b[92m+ UnPack v1.0.2\u001b[39m\n",
      "\u001b[32m\u001b[1m   Building\u001b[22m\u001b[39m Conda → `/opt/julia/packages/Conda/x5ml4/deps/build.log`\n",
      "\u001b[32m\u001b[1m  Resolving\u001b[22m\u001b[39m package versions...\n",
      "\u001b[32m\u001b[1mUpdating\u001b[22m\u001b[39m `/opt/julia/environments/v1.5/Project.toml`\n",
      " \u001b[90m [de0858da] \u001b[39m\u001b[92m+ Printf\u001b[39m\n",
      "\u001b[32m\u001b[1mNo Changes\u001b[22m\u001b[39m to `/opt/julia/environments/v1.5/Manifest.toml`\n",
      "\u001b[32m\u001b[1m  Resolving\u001b[22m\u001b[39m package versions...\n",
      "\u001b[32m\u001b[1m  Installed\u001b[22m\u001b[39m PooledArrays ────── v0.5.3\n",
      "\u001b[32m\u001b[1m  Installed\u001b[22m\u001b[39m InvertedIndices ─── v1.0.0\n",
      "\u001b[32m\u001b[1m  Installed\u001b[22m\u001b[39m StructTypes ─────── v1.1.0\n",
      "\u001b[32m\u001b[1m  Installed\u001b[22m\u001b[39m CategoricalArrays ─ v0.8.3\n",
      "\u001b[32m\u001b[1m  Installed\u001b[22m\u001b[39m DataFrames ──────── v0.21.8\n",
      "\u001b[32m\u001b[1mUpdating\u001b[22m\u001b[39m `/opt/julia/environments/v1.5/Project.toml`\n",
      " \u001b[90m [a93c6f00] \u001b[39m\u001b[92m+ DataFrames v0.21.8\u001b[39m\n",
      "\u001b[32m\u001b[1mUpdating\u001b[22m\u001b[39m `/opt/julia/environments/v1.5/Manifest.toml`\n",
      " \u001b[90m [324d7699] \u001b[39m\u001b[92m+ CategoricalArrays v0.8.3\u001b[39m\n",
      " \u001b[90m [a93c6f00] \u001b[39m\u001b[92m+ DataFrames v0.21.8\u001b[39m\n",
      " \u001b[90m [41ab1584] \u001b[39m\u001b[92m+ InvertedIndices v1.0.0\u001b[39m\n",
      " \u001b[90m [2dfb63ee] \u001b[39m\u001b[92m+ PooledArrays v0.5.3\u001b[39m\n",
      " \u001b[90m [856f2bd8] \u001b[39m\u001b[92m+ StructTypes v1.1.0\u001b[39m\n",
      " \u001b[90m [9fa8497b] \u001b[39m\u001b[92m+ Future\u001b[39m\n",
      "\u001b[32m\u001b[1m  Resolving\u001b[22m\u001b[39m package versions...\n",
      "\u001b[32m\u001b[1m  Installed\u001b[22m\u001b[39m SentinelArrays ─ v1.2.16\n",
      "\u001b[32m\u001b[1m  Installed\u001b[22m\u001b[39m CSV ──────────── v0.7.7\n",
      "\u001b[32m\u001b[1mUpdating\u001b[22m\u001b[39m `/opt/julia/environments/v1.5/Project.toml`\n",
      " \u001b[90m [336ed68f] \u001b[39m\u001b[92m+ CSV v0.7.7\u001b[39m\n",
      "\u001b[32m\u001b[1mUpdating\u001b[22m\u001b[39m `/opt/julia/environments/v1.5/Manifest.toml`\n",
      " \u001b[90m [336ed68f] \u001b[39m\u001b[92m+ CSV v0.7.7\u001b[39m\n",
      " \u001b[90m [91c51154] \u001b[39m\u001b[92m+ SentinelArrays v1.2.16\u001b[39m\n",
      "\u001b[32m\u001b[1m  Resolving\u001b[22m\u001b[39m package versions...\n",
      "\u001b[32m\u001b[1mNo Changes\u001b[22m\u001b[39m to `/opt/julia/environments/v1.5/Project.toml`\n",
      "\u001b[32m\u001b[1mNo Changes\u001b[22m\u001b[39m to `/opt/julia/environments/v1.5/Manifest.toml`\n"
     ]
    },
    {
     "name": "stdout",
     "output_type": "stream",
     "text": [
      "\u001b[?25l    "
     ]
    },
    {
     "name": "stderr",
     "output_type": "stream",
     "text": [
      "\u001b[32m\u001b[1m    Cloning\u001b[22m\u001b[39m git-repo `https://github.com/JuliaReliab/Origin.jl.git`\n"
     ]
    },
    {
     "name": "stdout",
     "output_type": "stream",
     "text": [
      "\u001b[2K\u001b[?25h\u001b[?25l\u001b[2Kg:\u001b[22m\u001b[39m [========================================>]  100.0 %"
     ]
    },
    {
     "name": "stderr",
     "output_type": "stream",
     "text": [
      "\u001b[32m\u001b[1m   Updating\u001b[22m\u001b[39m git-repo `https://github.com/JuliaReliab/Origin.jl.git`\n"
     ]
    },
    {
     "name": "stdout",
     "output_type": "stream",
     "text": [
      "\u001b[?25h"
     ]
    },
    {
     "name": "stderr",
     "output_type": "stream",
     "text": [
      "\u001b[32m\u001b[1m  Resolving\u001b[22m\u001b[39m package versions...\n"
     ]
    },
    {
     "name": "stdout",
     "output_type": "stream",
     "text": [
      "\u001b[?25l    "
     ]
    },
    {
     "name": "stderr",
     "output_type": "stream",
     "text": [
      "\u001b[32m\u001b[1mUpdating\u001b[22m\u001b[39m `/opt/julia/environments/v1.5/Project.toml`\n",
      " \u001b[90m [421443cc] \u001b[39m\u001b[92m+ Origin v0.1.2 `https://github.com/JuliaReliab/Origin.jl.git#master`\u001b[39m\n",
      "\u001b[32m\u001b[1mUpdating\u001b[22m\u001b[39m `/opt/julia/environments/v1.5/Manifest.toml`\n",
      " \u001b[90m [421443cc] \u001b[39m\u001b[92m+ Origin v0.1.2 `https://github.com/JuliaReliab/Origin.jl.git#master`\u001b[39m\n",
      "\u001b[32m\u001b[1m    Cloning\u001b[22m\u001b[39m git-repo `https://github.com/JuliaReliab/Deformula.jl.git`\n"
     ]
    },
    {
     "name": "stdout",
     "output_type": "stream",
     "text": [
      "\u001b[2K\u001b[?25h\u001b[?25l\u001b[2Kg:\u001b[22m\u001b[39m [========================================>]  100.0 %"
     ]
    },
    {
     "name": "stderr",
     "output_type": "stream",
     "text": [
      "\u001b[32m\u001b[1m   Updating\u001b[22m\u001b[39m git-repo `https://github.com/JuliaReliab/Deformula.jl.git`\n"
     ]
    },
    {
     "name": "stdout",
     "output_type": "stream",
     "text": [
      "\u001b[?25h"
     ]
    },
    {
     "name": "stderr",
     "output_type": "stream",
     "text": [
      "\u001b[32m\u001b[1m  Resolving\u001b[22m\u001b[39m package versions...\n"
     ]
    },
    {
     "name": "stdout",
     "output_type": "stream",
     "text": [
      "\u001b[?25l    "
     ]
    },
    {
     "name": "stderr",
     "output_type": "stream",
     "text": [
      "\u001b[32m\u001b[1mUpdating\u001b[22m\u001b[39m `/opt/julia/environments/v1.5/Project.toml`\n",
      " \u001b[90m [92955551] \u001b[39m\u001b[92m+ Deformula v0.1.3 `https://github.com/JuliaReliab/Deformula.jl.git#master`\u001b[39m\n",
      "\u001b[32m\u001b[1mUpdating\u001b[22m\u001b[39m `/opt/julia/environments/v1.5/Manifest.toml`\n",
      " \u001b[90m [92955551] \u001b[39m\u001b[92m+ Deformula v0.1.3 `https://github.com/JuliaReliab/Deformula.jl.git#master`\u001b[39m\n",
      "\u001b[32m\u001b[1m    Cloning\u001b[22m\u001b[39m git-repo `https://github.com/JuliaReliab/SparseMatrix.jl.git`\n"
     ]
    },
    {
     "name": "stdout",
     "output_type": "stream",
     "text": [
      "\u001b[2K\u001b[?25h\u001b[?25l\u001b[2Kg:\u001b[22m\u001b[39m [========================================>]  100.0 %"
     ]
    },
    {
     "name": "stderr",
     "output_type": "stream",
     "text": [
      "\u001b[32m\u001b[1m   Updating\u001b[22m\u001b[39m git-repo `https://github.com/JuliaReliab/SparseMatrix.jl.git`\n"
     ]
    },
    {
     "name": "stdout",
     "output_type": "stream",
     "text": [
      "\u001b[?25h"
     ]
    },
    {
     "name": "stderr",
     "output_type": "stream",
     "text": [
      "\u001b[32m\u001b[1m  Resolving\u001b[22m\u001b[39m package versions...\n"
     ]
    },
    {
     "name": "stdout",
     "output_type": "stream",
     "text": [
      "\u001b[?25l    "
     ]
    },
    {
     "name": "stderr",
     "output_type": "stream",
     "text": [
      "\u001b[32m\u001b[1mUpdating\u001b[22m\u001b[39m `/opt/julia/environments/v1.5/Project.toml`\n",
      " \u001b[90m [b2a93422] \u001b[39m\u001b[92m+ SparseMatrix v0.2.1 `https://github.com/JuliaReliab/SparseMatrix.jl.git#master`\u001b[39m\n",
      "\u001b[32m\u001b[1mUpdating\u001b[22m\u001b[39m `/opt/julia/environments/v1.5/Manifest.toml`\n",
      " \u001b[90m [b2a93422] \u001b[39m\u001b[92m+ SparseMatrix v0.2.1 `https://github.com/JuliaReliab/SparseMatrix.jl.git#master`\u001b[39m\n",
      "\u001b[32m\u001b[1m    Cloning\u001b[22m\u001b[39m git-repo `https://github.com/JuliaReliab/NMarkov.jl.git`\n"
     ]
    },
    {
     "name": "stdout",
     "output_type": "stream",
     "text": [
      "\u001b[2K\u001b[?25h\u001b[?25l\u001b[2Kg:\u001b[22m\u001b[39m [========================================>]  100.0 %]  96.4 %.8 %"
     ]
    },
    {
     "name": "stderr",
     "output_type": "stream",
     "text": [
      "\u001b[32m\u001b[1m   Updating\u001b[22m\u001b[39m git-repo `https://github.com/JuliaReliab/NMarkov.jl.git`\n"
     ]
    },
    {
     "name": "stdout",
     "output_type": "stream",
     "text": [
      "\u001b[?25h"
     ]
    },
    {
     "name": "stderr",
     "output_type": "stream",
     "text": [
      "\u001b[32m\u001b[1m  Resolving\u001b[22m\u001b[39m package versions...\n",
      "\u001b[32m\u001b[1mUpdating\u001b[22m\u001b[39m `/opt/julia/environments/v1.5/Project.toml`\n",
      " \u001b[90m [c5cca998] \u001b[39m\u001b[92m+ NMarkov v0.3.2 `https://github.com/JuliaReliab/NMarkov.jl.git#master`\u001b[39m\n",
      "\u001b[32m\u001b[1mUpdating\u001b[22m\u001b[39m `/opt/julia/environments/v1.5/Manifest.toml`\n",
      " \u001b[90m [c5cca998] \u001b[39m\u001b[92m+ NMarkov v0.3.2 `https://github.com/JuliaReliab/NMarkov.jl.git#master`\u001b[39m\n"
     ]
    }
   ],
   "source": [
    "using Pkg\n",
    "Pkg.add(\"Plots\")\n",
    "Pkg.add(\"Distributions\")\n",
    "Pkg.add(\"QuadGK\")\n",
    "Pkg.add(\"SpecialFunctions\")\n",
    "Pkg.add(\"Optim\")\n",
    "Pkg.add(\"Printf\")\n",
    "Pkg.add(\"DataFrames\")\n",
    "Pkg.add(\"CSV\")\n",
    "Pkg.add(\"Plots\")\n",
    "Pkg.add(PackageSpec(url=\"https://github.com/JuliaReliab/Origin.jl.git\"))\n",
    "Pkg.add(PackageSpec(url=\"https://github.com/JuliaReliab/Deformula.jl.git\"))\n",
    "Pkg.add(PackageSpec(url=\"https://github.com/JuliaReliab/SparseMatrix.jl.git\"))\n",
    "Pkg.add(PackageSpec(url=\"https://github.com/JuliaReliab/NMarkov.jl.git\"))"
   ]
  },
  {
   "cell_type": "code",
   "execution_count": 1,
   "metadata": {},
   "outputs": [
    {
     "name": "stderr",
     "output_type": "stream",
     "text": [
      "┌ Info: Precompiling NMarkov [c5cca998-98d3-11ea-1288-bb4300628a81]\n",
      "└ @ Base loading.jl:1278\n",
      "┌ Info: Precompiling Plots [91a5bcdd-55d7-5caf-9e0b-520d859cae80]\n",
      "└ @ Base loading.jl:1278\n",
      "┌ Info: Precompiling Optim [429524aa-4258-5aef-a3af-852621145aeb]\n",
      "└ @ Base loading.jl:1278\n",
      "┌ Info: Precompiling DataFrames [a93c6f00-e57d-5684-b7b6-d8193f3e46c0]\n",
      "└ @ Base loading.jl:1278\n",
      "┌ Info: Precompiling CSV [336ed68f-0bac-5ca0-87d4-7b16caf5d00b]\n",
      "└ @ Base loading.jl:1278\n"
     ]
    }
   ],
   "source": [
    "using SparseArrays\n",
    "using NMarkov\n",
    "using Plots\n",
    "using Distributions\n",
    "using QuadGK\n",
    "using SpecialFunctions\n",
    "using Optim\n",
    "using Printf\n",
    "using DataFrames\n",
    "using CSV\n",
    "using SparseMatrix"
   ]
  },
  {
   "cell_type": "code",
   "execution_count": 2,
   "metadata": {},
   "outputs": [
    {
     "data": {
      "text/plain": [
       "eye (generic function with 3 methods)"
      ]
     },
     "execution_count": 2,
     "metadata": {},
     "output_type": "execute_result"
    }
   ],
   "source": [
    "import NMarkov.eye\n",
    "function eye(M::AbstractMatrix)\n",
    "    eye(size(M)[1])\n",
    "end"
   ]
  },
  {
   "cell_type": "markdown",
   "metadata": {},
   "source": [
    "## Zhao and Nakagawa"
   ]
  },
  {
   "cell_type": "code",
   "execution_count": 3,
   "metadata": {},
   "outputs": [
    {
     "data": {
      "text/plain": [
       "gN (generic function with 1 method)"
      ]
     },
     "execution_count": 3,
     "metadata": {},
     "output_type": "execute_result"
    }
   ],
   "source": [
    "function GN(n, D0, D1)\n",
    "    k = size(D0)[1]\n",
    "    Qn = spzeros(AbstractMatrix{Float64}, n, n) # blockmatrix\n",
    "    I = eye(D0)\n",
    "    b = spzeros(AbstractMatrix{Float64}, n, 1)\n",
    "    for i = 1:n\n",
    "        Qn[i,i] = D0\n",
    "    end\n",
    "    for i = 1:n-1\n",
    "        Qn[i,i+1] = D1\n",
    "    end\n",
    "    a = zeros(k, n*k)\n",
    "    a[1:k,1:k] = I\n",
    "    for i = 1:n\n",
    "        b[i,1] = I\n",
    "    end\n",
    "    a, sparse(block(Qn)), Matrix(sparse(block(b)))\n",
    "end\n",
    "\n",
    "function gN(n, D0, D1)\n",
    "    k = size(D0)[1]\n",
    "    Qn = spzeros(AbstractMatrix{Float64}, n, n) # blockmatrix\n",
    "    I = eye(D0)\n",
    "    for i = 1:n\n",
    "        Qn[i,i] = D0\n",
    "    end\n",
    "    for i = 1:n-1\n",
    "        Qn[i,i+1] = D1\n",
    "    end\n",
    "    a = zeros(k, n*k)\n",
    "    a[1:k,1:k] = I\n",
    "    b = zeros(n*k, k)\n",
    "    b[((n-1)*k)+1:(n*k),1:k] = D1\n",
    "    a, sparse(block(Qn)), b\n",
    "end"
   ]
  },
  {
   "cell_type": "code",
   "execution_count": 11,
   "metadata": {},
   "outputs": [
    {
     "data": {
      "text/plain": [
       "PfProb (generic function with 1 method)"
      ]
     },
     "execution_count": 11,
     "metadata": {},
     "output_type": "execute_result"
    }
   ],
   "source": [
    "function PfProb(t0, n, D0, D1, dist)\n",
    "    a, A, b = GN(n, D0, D1)\n",
    "    p1 = a * mexpmix(A, b, bounds = (0.0, t0), rmax = 10000) do t\n",
    "        pdf(dist, t)\n",
    "    end\n",
    "    p3 = a * mexp(A, b, t0, rmax = 10000)\n",
    "\n",
    "    a, A, b = gN(n, D0, D1)\n",
    "    _, tmp = mexpcmix(A, b, bounds = (0.0, t0), rmax = 10000) do t\n",
    "        pdf(dist, t)\n",
    "    end\n",
    "    p2 = a * tmp\n",
    "    _, tmp = mexpc(A, b, t0, rmax = 10000)\n",
    "    p4 = a * tmp\n",
    "\n",
    "    P = p1 + p2 + ccdf(dist, t0) * (p3 + p4)\n",
    "    gth(P)\n",
    "end"
   ]
  },
  {
   "cell_type": "code",
   "execution_count": 21,
   "metadata": {},
   "outputs": [
    {
     "data": {
      "text/plain": [
       "gbar (generic function with 2 methods)"
      ]
     },
     "execution_count": 21,
     "metadata": {},
     "output_type": "execute_result"
    }
   ],
   "source": [
    "function gbar(t, n, pss, D0, D1)\n",
    "    a, A, b = GN(n, D0, D1)\n",
    "    sum((a * exp(Matrix(A)*t) * b)' * pss)\n",
    "end"
   ]
  },
  {
   "cell_type": "code",
   "execution_count": 8,
   "metadata": {},
   "outputs": [
    {
     "data": {
      "text/plain": [
       "T (generic function with 1 method)"
      ]
     },
     "execution_count": 8,
     "metadata": {},
     "output_type": "execute_result"
    }
   ],
   "source": [
    "function T(t0, dist)\n",
    "    res = quadgk(x -> ccdf(dist, x), 0, t0, rtol=1e-8)\n",
    "    res[1]\n",
    "end"
   ]
  },
  {
   "cell_type": "code",
   "execution_count": 9,
   "metadata": {},
   "outputs": [
    {
     "data": {
      "text/plain": [
       "C (generic function with 1 method)"
      ]
     },
     "execution_count": 9,
     "metadata": {},
     "output_type": "execute_result"
    }
   ],
   "source": [
    "function C(t0, dist, cp, cf)\n",
    "    cp + (cf - cp)*cdf(dist, t0)\n",
    "end"
   ]
  },
  {
   "cell_type": "code",
   "execution_count": 10,
   "metadata": {},
   "outputs": [
    {
     "data": {
      "text/plain": [
       "As (generic function with 1 method)"
      ]
     },
     "execution_count": 10,
     "metadata": {},
     "output_type": "execute_result"
    }
   ],
   "source": [
    "# standard age replacement\n",
    "As(t0, dist, cp, cf) = C(t0, dist, cp, cf) / T(t0, dist)"
   ]
  },
  {
   "cell_type": "code",
   "execution_count": 39,
   "metadata": {},
   "outputs": [
    {
     "data": {
      "text/plain": [
       "Aop (generic function with 1 method)"
      ]
     },
     "execution_count": 39,
     "metadata": {},
     "output_type": "execute_result"
    }
   ],
   "source": [
    "# opportunity\n",
    "function Aop(t0, n, dist, cp, cf, D0, D1)\n",
    "    pss = PfProb(t0, n, D0, D1, dist)\n",
    "    res1 = quadgk(x -> ccdf(dist, x) * gbar(x, n, pss, D0, D1), 0, t0, rtol=1e-8)\n",
    "    res2 = quadgk(x -> pdf(dist, x) * gbar(x, n, pss, D0, D1), 0, t0, rtol=1e-8)\n",
    "    (cp + (cf - cp) * res2[1]) / res1[1]\n",
    "end"
   ]
  },
  {
   "cell_type": "code",
   "execution_count": 14,
   "metadata": {},
   "outputs": [
    {
     "data": {
      "text/plain": [
       "failure_param (generic function with 1 method)"
      ]
     },
     "execution_count": 14,
     "metadata": {},
     "output_type": "execute_result"
    }
   ],
   "source": [
    "function failure_param(;mttf, cv)\n",
    "    m = optimize(m -> (gamma(1+2/m)/gamma(1+1/m)^2 - 1.0 - cv^2)^2, 0.0001, 10.0).minimizer\n",
    "    eta = mttf / gamma(1+1/m)\n",
    "    dist = Weibull(m, eta)\n",
    "\n",
    "    println(\"failure shape parameter \", m)\n",
    "    println(\"failure scale parameter \", eta)\n",
    "    println(\"failure mttf \", mttf)\n",
    "    println(\"failure cv \", cv)\n",
    "    return dist\n",
    "end"
   ]
  },
  {
   "cell_type": "code",
   "execution_count": 13,
   "metadata": {},
   "outputs": [
    {
     "data": {
      "text/plain": [
       "mmpp_param (generic function with 1 method)"
      ]
     },
     "execution_count": 13,
     "metadata": {},
     "output_type": "execute_result"
    }
   ],
   "source": [
    "function poisson_param(;mttop)\n",
    "    # poisson\n",
    "    D0 = Float64[-2 1; 1 -2]\n",
    "    D1 = Float64[1 0; 0 1]\n",
    "\n",
    "    ss = gth(Matrix(D0+D1))\n",
    "    tmp = (-D0)' \\ ss\n",
    "    mo = sum(tmp)\n",
    "\n",
    "    # scale\n",
    "    D0 = D0 .* mo ./ mttop\n",
    "    D1 = D1 .* mo ./ mttop\n",
    "\n",
    "    ss = gth(Matrix(D0+D1))\n",
    "    tmp = (-D0)' \\ ss\n",
    "    mo = sum(tmp)\n",
    "    tmp = (-D0)' \\ tmp\n",
    "    mo2 = 2*sum(tmp)\n",
    "\n",
    "    println(\"mean opportunity interval \", mo)\n",
    "    println(\"cv for opportunity interval \", sqrt(mo2 - mo^2)/mo)\n",
    "    return D0, D1, 1.0\n",
    "end\n",
    "\n",
    "function hyporenewal_param(;mttop, b)\n",
    "    # hypo renewal\n",
    "#     b = Float64[1, 1]\n",
    "    D0 = Float64[-b[1] b[1]; 0 -b[2]]\n",
    "    D1 = Float64[0 0; b[2] 0]\n",
    "\n",
    "    ss = gth(Matrix(D0+D1))\n",
    "    tmp = (-D0)' \\ ss\n",
    "    mo = sum(tmp)\n",
    "\n",
    "    # scale\n",
    "    D0 = D0 .* mo ./ mttop\n",
    "    D1 = D1 .* mo ./ mttop\n",
    "\n",
    "    ss = gth(Matrix(D0+D1))\n",
    "    tmp = (-D0)' \\ ss\n",
    "    mo = sum(tmp)\n",
    "    tmp = (-D0)' \\ tmp\n",
    "    mo2 = 2*sum(tmp)\n",
    "    cv = sqrt(mo2 - mo^2)/mo\n",
    "    println(\"mean opportunity interval \", mo)\n",
    "    println(\"cv for opportunity interval \", cv)\n",
    "    return D0, D1, cv\n",
    "end\n",
    "\n",
    "function hyperrenewal_param(;mttop, u, b)\n",
    "    # hyper exp\n",
    "    D0 = Float64[-b[1] 0; 0 -b[2]]\n",
    "    D1 = reshape(b, 2, 1) * reshape(u, 1, 2)\n",
    "\n",
    "    ss = gth(Matrix(D0+D1))\n",
    "    tmp = (-D0)' \\ ss\n",
    "    mo = sum(tmp)\n",
    "\n",
    "    # scale\n",
    "    D0 = D0 .* mo ./ mttop\n",
    "    D1 = D1 .* mo ./ mttop\n",
    "\n",
    "    ss = gth(Matrix(D0+D1))\n",
    "    tmp = (-D0)' \\ ss\n",
    "    mo = sum(tmp)\n",
    "    tmp = (-D0)' \\ tmp\n",
    "    mo2 = 2*sum(tmp)\n",
    "    cv = sqrt(mo2 - mo^2)/mo\n",
    "    println(\"mean opportunity interval \", mo)\n",
    "    println(\"cv for opportunity interval \", cv)\n",
    "    return D0, D1, cv\n",
    "\n",
    "end\n",
    "\n",
    "function mmpp_param(;mttop, u, b)\n",
    "    # mmpp\n",
    "    D0 = Float64[-(u[1]+b[1]) u[1]; u[2] -(u[2]+b[2])]\n",
    "    D1 = Float64[b[1] 0; 0 b[2]]\n",
    "\n",
    "    ss = gth(Matrix(D0+D1))\n",
    "    tmp = (-D0)' \\ ss\n",
    "    mo = sum(tmp)\n",
    "\n",
    "    # scale\n",
    "    D0 = D0 .* mo ./ mttop\n",
    "    D1 = D1 .* mo ./ mttop\n",
    "\n",
    "    ss = gth(Matrix(D0+D1))\n",
    "    tmp = (-D0)' \\ ss\n",
    "    mo = sum(tmp)\n",
    "    tmp = (-D0)' \\ tmp\n",
    "    mo2 = 2*sum(tmp)\n",
    "\n",
    "    cv = sqrt(mo2 - mo^2)/mo\n",
    "    println(\"mean opportunity interval \", mo)\n",
    "    println(\"cv for opportunity interval \", cv)\n",
    "    return D0, D1, cv\n",
    "end"
   ]
  },
  {
   "cell_type": "code",
   "execution_count": 49,
   "metadata": {},
   "outputs": [
    {
     "name": "stdout",
     "output_type": "stream",
     "text": [
      "failure shape parameter 9.999999703209413\n",
      "failure scale parameter 10.511370074337558\n",
      "failure mttf 10.0\n",
      "failure cv 0.1\n",
      "mean opportunity interval 1.0\n",
      "cv for opportunity interval 0.9147320339189785\n"
     ]
    },
    {
     "data": {
      "text/plain": [
       "([-1.1666666666666665 1.1666666666666665; 0.0 -2.333333333333333], [0.0 0.0; 2.333333333333333 0.0], 0.9147320339189785)"
      ]
     },
     "execution_count": 49,
     "metadata": {},
     "output_type": "execute_result"
    }
   ],
   "source": [
    "cp, cf = 1.0, 10.0\n",
    "dist = failure_param(mttf = 10.0, cv = 0.1)\n",
    "D0, D1 = hyporenewal_param(mttop = 1.0, b=[1,2])"
   ]
  },
  {
   "cell_type": "code",
   "execution_count": 48,
   "metadata": {},
   "outputs": [
    {
     "data": {
      "image/svg+xml": [
       "<?xml version=\"1.0\" encoding=\"utf-8\"?>\n",
       "<svg xmlns=\"http://www.w3.org/2000/svg\" xmlns:xlink=\"http://www.w3.org/1999/xlink\" width=\"600\" height=\"400\" viewBox=\"0 0 2400 1600\">\n",
       "<defs>\n",
       "  <clipPath id=\"clip000\">\n",
       "    <rect x=\"0\" y=\"0\" width=\"2400\" height=\"1600\"/>\n",
       "  </clipPath>\n",
       "</defs>\n",
       "<path clip-path=\"url(#clip000)\" d=\"\n",
       "M0 1600 L2400 1600 L2400 0 L0 0  Z\n",
       "  \" fill=\"#ffffff\" fill-rule=\"evenodd\" fill-opacity=\"1\"/>\n",
       "<defs>\n",
       "  <clipPath id=\"clip001\">\n",
       "    <rect x=\"480\" y=\"0\" width=\"1681\" height=\"1600\"/>\n",
       "  </clipPath>\n",
       "</defs>\n",
       "<path clip-path=\"url(#clip000)\" d=\"\n",
       "M148.334 1486.45 L2352.76 1486.45 L2352.76 47.2441 L148.334 47.2441  Z\n",
       "  \" fill=\"#ffffff\" fill-rule=\"evenodd\" fill-opacity=\"1\"/>\n",
       "<defs>\n",
       "  <clipPath id=\"clip002\">\n",
       "    <rect x=\"148\" y=\"47\" width=\"2205\" height=\"1440\"/>\n",
       "  </clipPath>\n",
       "</defs>\n",
       "<polyline clip-path=\"url(#clip002)\" style=\"stroke:#000000; stroke-width:2; stroke-opacity:0.1; fill:none\" points=\"\n",
       "  648.543,1486.45 648.543,47.2441 \n",
       "  \"/>\n",
       "<polyline clip-path=\"url(#clip002)\" style=\"stroke:#000000; stroke-width:2; stroke-opacity:0.1; fill:none\" points=\"\n",
       "  1195.82,1486.45 1195.82,47.2441 \n",
       "  \"/>\n",
       "<polyline clip-path=\"url(#clip002)\" style=\"stroke:#000000; stroke-width:2; stroke-opacity:0.1; fill:none\" points=\"\n",
       "  1743.09,1486.45 1743.09,47.2441 \n",
       "  \"/>\n",
       "<polyline clip-path=\"url(#clip002)\" style=\"stroke:#000000; stroke-width:2; stroke-opacity:0.1; fill:none\" points=\"\n",
       "  2290.37,1486.45 2290.37,47.2441 \n",
       "  \"/>\n",
       "<polyline clip-path=\"url(#clip000)\" style=\"stroke:#000000; stroke-width:4; stroke-opacity:1; fill:none\" points=\"\n",
       "  148.334,1486.45 2352.76,1486.45 \n",
       "  \"/>\n",
       "<polyline clip-path=\"url(#clip000)\" style=\"stroke:#000000; stroke-width:4; stroke-opacity:1; fill:none\" points=\"\n",
       "  648.543,1486.45 648.543,1469.18 \n",
       "  \"/>\n",
       "<polyline clip-path=\"url(#clip000)\" style=\"stroke:#000000; stroke-width:4; stroke-opacity:1; fill:none\" points=\"\n",
       "  1195.82,1486.45 1195.82,1469.18 \n",
       "  \"/>\n",
       "<polyline clip-path=\"url(#clip000)\" style=\"stroke:#000000; stroke-width:4; stroke-opacity:1; fill:none\" points=\"\n",
       "  1743.09,1486.45 1743.09,1469.18 \n",
       "  \"/>\n",
       "<polyline clip-path=\"url(#clip000)\" style=\"stroke:#000000; stroke-width:4; stroke-opacity:1; fill:none\" points=\"\n",
       "  2290.37,1486.45 2290.37,1469.18 \n",
       "  \"/>\n",
       "<path clip-path=\"url(#clip000)\" d=\"M 0 0 M638.821 1512.56 L657.177 1512.56 L657.177 1516.5 L643.103 1516.5 L643.103 1524.97 Q644.122 1524.62 645.14 1524.46 Q646.159 1524.27 647.178 1524.27 Q652.965 1524.27 656.344 1527.44 Q659.724 1530.62 659.724 1536.03 Q659.724 1541.61 656.252 1544.71 Q652.779 1547.79 646.46 1547.79 Q644.284 1547.79 642.016 1547.42 Q639.77 1547.05 637.363 1546.31 L637.363 1541.61 Q639.446 1542.74 641.668 1543.3 Q643.89 1543.86 646.367 1543.86 Q650.372 1543.86 652.71 1541.75 Q655.048 1539.64 655.048 1536.03 Q655.048 1532.42 652.71 1530.31 Q650.372 1528.21 646.367 1528.21 Q644.492 1528.21 642.617 1528.62 Q640.766 1529.04 638.821 1529.92 L638.821 1512.56 Z\" fill=\"#000000\" fill-rule=\"evenodd\" fill-opacity=\"1\" /><path clip-path=\"url(#clip000)\" d=\"M 0 0 M1172.69 1543.18 L1180.33 1543.18 L1180.33 1516.82 L1172.02 1518.49 L1172.02 1514.23 L1180.29 1512.56 L1184.96 1512.56 L1184.96 1543.18 L1192.6 1543.18 L1192.6 1547.12 L1172.69 1547.12 L1172.69 1543.18 Z\" fill=\"#000000\" fill-rule=\"evenodd\" fill-opacity=\"1\" /><path clip-path=\"url(#clip000)\" d=\"M 0 0 M1207.67 1515.64 Q1204.06 1515.64 1202.23 1519.2 Q1200.42 1522.75 1200.42 1529.87 Q1200.42 1536.98 1202.23 1540.55 Q1204.06 1544.09 1207.67 1544.09 Q1211.3 1544.09 1213.11 1540.55 Q1214.94 1536.98 1214.94 1529.87 Q1214.94 1522.75 1213.11 1519.2 Q1211.3 1515.64 1207.67 1515.64 M1207.67 1511.93 Q1213.48 1511.93 1216.54 1516.54 Q1219.61 1521.12 1219.61 1529.87 Q1219.61 1538.6 1216.54 1543.21 Q1213.48 1547.79 1207.67 1547.79 Q1201.86 1547.79 1198.78 1543.21 Q1195.73 1538.6 1195.73 1529.87 Q1195.73 1521.12 1198.78 1516.54 Q1201.86 1511.93 1207.67 1511.93 Z\" fill=\"#000000\" fill-rule=\"evenodd\" fill-opacity=\"1\" /><path clip-path=\"url(#clip000)\" d=\"M 0 0 M1720.46 1543.18 L1728.1 1543.18 L1728.1 1516.82 L1719.79 1518.49 L1719.79 1514.23 L1728.06 1512.56 L1732.73 1512.56 L1732.73 1543.18 L1740.37 1543.18 L1740.37 1547.12 L1720.46 1547.12 L1720.46 1543.18 Z\" fill=\"#000000\" fill-rule=\"evenodd\" fill-opacity=\"1\" /><path clip-path=\"url(#clip000)\" d=\"M 0 0 M1745.49 1512.56 L1763.84 1512.56 L1763.84 1516.5 L1749.77 1516.5 L1749.77 1524.97 Q1750.79 1524.62 1751.81 1524.46 Q1752.83 1524.27 1753.84 1524.27 Q1759.63 1524.27 1763.01 1527.44 Q1766.39 1530.62 1766.39 1536.03 Q1766.39 1541.61 1762.92 1544.71 Q1759.45 1547.79 1753.13 1547.79 Q1750.95 1547.79 1748.68 1547.42 Q1746.44 1547.05 1744.03 1546.31 L1744.03 1541.61 Q1746.11 1542.74 1748.34 1543.3 Q1750.56 1543.86 1753.03 1543.86 Q1757.04 1543.86 1759.38 1541.75 Q1761.71 1539.64 1761.71 1536.03 Q1761.71 1532.42 1759.38 1530.31 Q1757.04 1528.21 1753.03 1528.21 Q1751.16 1528.21 1749.28 1528.62 Q1747.43 1529.04 1745.49 1529.92 L1745.49 1512.56 Z\" fill=\"#000000\" fill-rule=\"evenodd\" fill-opacity=\"1\" /><path clip-path=\"url(#clip000)\" d=\"M 0 0 M2271.51 1543.18 L2287.83 1543.18 L2287.83 1547.12 L2265.89 1547.12 L2265.89 1543.18 Q2268.55 1540.43 2273.13 1535.8 Q2277.74 1531.15 2278.92 1529.81 Q2281.17 1527.28 2282.04 1525.55 Q2282.95 1523.79 2282.95 1522.1 Q2282.95 1519.34 2281 1517.61 Q2279.08 1515.87 2275.98 1515.87 Q2273.78 1515.87 2271.33 1516.63 Q2268.9 1517.4 2266.12 1518.95 L2266.12 1514.23 Q2268.94 1513.09 2271.4 1512.51 Q2273.85 1511.93 2275.89 1511.93 Q2281.26 1511.93 2284.45 1514.62 Q2287.65 1517.31 2287.65 1521.8 Q2287.65 1523.93 2286.84 1525.85 Q2286.05 1527.74 2283.94 1530.34 Q2283.36 1531.01 2280.26 1534.23 Q2277.16 1537.42 2271.51 1543.18 Z\" fill=\"#000000\" fill-rule=\"evenodd\" fill-opacity=\"1\" /><path clip-path=\"url(#clip000)\" d=\"M 0 0 M2302.9 1515.64 Q2299.29 1515.64 2297.46 1519.2 Q2295.66 1522.75 2295.66 1529.87 Q2295.66 1536.98 2297.46 1540.55 Q2299.29 1544.09 2302.9 1544.09 Q2306.54 1544.09 2308.34 1540.55 Q2310.17 1536.98 2310.17 1529.87 Q2310.17 1522.75 2308.34 1519.2 Q2306.54 1515.64 2302.9 1515.64 M2302.9 1511.93 Q2308.71 1511.93 2311.77 1516.54 Q2314.85 1521.12 2314.85 1529.87 Q2314.85 1538.6 2311.77 1543.21 Q2308.71 1547.79 2302.9 1547.79 Q2297.09 1547.79 2294.01 1543.21 Q2290.96 1538.6 2290.96 1529.87 Q2290.96 1521.12 2294.01 1516.54 Q2297.09 1511.93 2302.9 1511.93 Z\" fill=\"#000000\" fill-rule=\"evenodd\" fill-opacity=\"1\" /><polyline clip-path=\"url(#clip002)\" style=\"stroke:#000000; stroke-width:2; stroke-opacity:0.1; fill:none\" points=\"\n",
       "  148.334,1387.44 2352.76,1387.44 \n",
       "  \"/>\n",
       "<polyline clip-path=\"url(#clip002)\" style=\"stroke:#000000; stroke-width:2; stroke-opacity:0.1; fill:none\" points=\"\n",
       "  148.334,1062.58 2352.76,1062.58 \n",
       "  \"/>\n",
       "<polyline clip-path=\"url(#clip002)\" style=\"stroke:#000000; stroke-width:2; stroke-opacity:0.1; fill:none\" points=\"\n",
       "  148.334,737.713 2352.76,737.713 \n",
       "  \"/>\n",
       "<polyline clip-path=\"url(#clip002)\" style=\"stroke:#000000; stroke-width:2; stroke-opacity:0.1; fill:none\" points=\"\n",
       "  148.334,412.847 2352.76,412.847 \n",
       "  \"/>\n",
       "<polyline clip-path=\"url(#clip002)\" style=\"stroke:#000000; stroke-width:2; stroke-opacity:0.1; fill:none\" points=\"\n",
       "  148.334,87.9817 2352.76,87.9817 \n",
       "  \"/>\n",
       "<polyline clip-path=\"url(#clip000)\" style=\"stroke:#000000; stroke-width:4; stroke-opacity:1; fill:none\" points=\"\n",
       "  148.334,1486.45 148.334,47.2441 \n",
       "  \"/>\n",
       "<polyline clip-path=\"url(#clip000)\" style=\"stroke:#000000; stroke-width:4; stroke-opacity:1; fill:none\" points=\"\n",
       "  148.334,1387.44 174.787,1387.44 \n",
       "  \"/>\n",
       "<polyline clip-path=\"url(#clip000)\" style=\"stroke:#000000; stroke-width:4; stroke-opacity:1; fill:none\" points=\"\n",
       "  148.334,1062.58 174.787,1062.58 \n",
       "  \"/>\n",
       "<polyline clip-path=\"url(#clip000)\" style=\"stroke:#000000; stroke-width:4; stroke-opacity:1; fill:none\" points=\"\n",
       "  148.334,737.713 174.787,737.713 \n",
       "  \"/>\n",
       "<polyline clip-path=\"url(#clip000)\" style=\"stroke:#000000; stroke-width:4; stroke-opacity:1; fill:none\" points=\"\n",
       "  148.334,412.847 174.787,412.847 \n",
       "  \"/>\n",
       "<polyline clip-path=\"url(#clip000)\" style=\"stroke:#000000; stroke-width:4; stroke-opacity:1; fill:none\" points=\"\n",
       "  148.334,87.9817 174.787,87.9817 \n",
       "  \"/>\n",
       "<path clip-path=\"url(#clip000)\" d=\"M 0 0 M65.0198 1373.24 Q61.4087 1373.24 59.58 1376.81 Q57.7745 1380.35 57.7745 1387.48 Q57.7745 1394.59 59.58 1398.15 Q61.4087 1401.69 65.0198 1401.69 Q68.6541 1401.69 70.4596 1398.15 Q72.2883 1394.59 72.2883 1387.48 Q72.2883 1380.35 70.4596 1376.81 Q68.6541 1373.24 65.0198 1373.24 M65.0198 1369.54 Q70.83 1369.54 73.8855 1374.15 Q76.9642 1378.73 76.9642 1387.48 Q76.9642 1396.21 73.8855 1400.81 Q70.83 1405.4 65.0198 1405.4 Q59.2097 1405.4 56.131 1400.81 Q53.0754 1396.21 53.0754 1387.48 Q53.0754 1378.73 56.131 1374.15 Q59.2097 1369.54 65.0198 1369.54 Z\" fill=\"#000000\" fill-rule=\"evenodd\" fill-opacity=\"1\" /><path clip-path=\"url(#clip000)\" d=\"M 0 0 M82.0336 1398.84 L86.9179 1398.84 L86.9179 1404.72 L82.0336 1404.72 L82.0336 1398.84 Z\" fill=\"#000000\" fill-rule=\"evenodd\" fill-opacity=\"1\" /><path clip-path=\"url(#clip000)\" d=\"M 0 0 M96.015 1400.79 L112.334 1400.79 L112.334 1404.72 L90.3901 1404.72 L90.3901 1400.79 Q93.0521 1398.03 97.6354 1393.4 Q102.242 1388.75 103.422 1387.41 Q105.668 1384.89 106.547 1383.15 Q107.45 1381.39 107.45 1379.7 Q107.45 1376.95 105.506 1375.21 Q103.584 1373.47 100.483 1373.47 Q98.2835 1373.47 95.8298 1374.24 Q93.3993 1375 90.6215 1376.55 L90.6215 1371.83 Q93.4456 1370.7 95.8993 1370.12 Q98.353 1369.54 100.39 1369.54 Q105.76 1369.54 108.955 1372.22 Q112.149 1374.91 112.149 1379.4 Q112.149 1381.53 111.339 1383.45 Q110.552 1385.35 108.446 1387.94 Q107.867 1388.61 104.765 1391.83 Q101.663 1395.03 96.015 1400.79 Z\" fill=\"#000000\" fill-rule=\"evenodd\" fill-opacity=\"1\" /><path clip-path=\"url(#clip000)\" d=\"M 0 0 M62.9365 1048.38 Q59.3254 1048.38 57.4967 1051.94 Q55.6912 1055.48 55.6912 1062.61 Q55.6912 1069.72 57.4967 1073.28 Q59.3254 1076.83 62.9365 1076.83 Q66.5707 1076.83 68.3763 1073.28 Q70.205 1069.72 70.205 1062.61 Q70.205 1055.48 68.3763 1051.94 Q66.5707 1048.38 62.9365 1048.38 M62.9365 1044.67 Q68.7467 1044.67 71.8022 1049.28 Q74.8809 1053.86 74.8809 1062.61 Q74.8809 1071.34 71.8022 1075.95 Q68.7467 1080.53 62.9365 1080.53 Q57.1264 1080.53 54.0477 1075.95 Q50.9921 1071.34 50.9921 1062.61 Q50.9921 1053.86 54.0477 1049.28 Q57.1264 1044.67 62.9365 1044.67 Z\" fill=\"#000000\" fill-rule=\"evenodd\" fill-opacity=\"1\" /><path clip-path=\"url(#clip000)\" d=\"M 0 0 M79.9503 1073.98 L84.8345 1073.98 L84.8345 1079.86 L79.9503 1079.86 L79.9503 1073.98 Z\" fill=\"#000000\" fill-rule=\"evenodd\" fill-opacity=\"1\" /><path clip-path=\"url(#clip000)\" d=\"M 0 0 M102.751 1049.37 L90.9456 1067.82 L102.751 1067.82 L102.751 1049.37 M101.524 1045.3 L107.404 1045.3 L107.404 1067.82 L112.334 1067.82 L112.334 1071.71 L107.404 1071.71 L107.404 1079.86 L102.751 1079.86 L102.751 1071.71 L87.1493 1071.71 L87.1493 1067.2 L101.524 1045.3 Z\" fill=\"#000000\" fill-rule=\"evenodd\" fill-opacity=\"1\" /><path clip-path=\"url(#clip000)\" d=\"M 0 0 M63.2606 723.512 Q59.6495 723.512 57.8208 727.076 Q56.0152 730.618 56.0152 737.748 Q56.0152 744.854 57.8208 748.419 Q59.6495 751.961 63.2606 751.961 Q66.8948 751.961 68.7004 748.419 Q70.5291 744.854 70.5291 737.748 Q70.5291 730.618 68.7004 727.076 Q66.8948 723.512 63.2606 723.512 M63.2606 719.808 Q69.0707 719.808 72.1263 724.414 Q75.205 728.998 75.205 737.748 Q75.205 746.474 72.1263 751.081 Q69.0707 755.664 63.2606 755.664 Q57.4504 755.664 54.3717 751.081 Q51.3162 746.474 51.3162 737.748 Q51.3162 728.998 54.3717 724.414 Q57.4504 719.808 63.2606 719.808 Z\" fill=\"#000000\" fill-rule=\"evenodd\" fill-opacity=\"1\" /><path clip-path=\"url(#clip000)\" d=\"M 0 0 M80.2744 749.113 L85.1586 749.113 L85.1586 754.993 L80.2744 754.993 L80.2744 749.113 Z\" fill=\"#000000\" fill-rule=\"evenodd\" fill-opacity=\"1\" /><path clip-path=\"url(#clip000)\" d=\"M 0 0 M100.807 735.85 Q97.6585 735.85 95.8067 738.002 Q93.978 740.155 93.978 743.905 Q93.978 747.632 95.8067 749.808 Q97.6585 751.961 100.807 751.961 Q103.955 751.961 105.783 749.808 Q107.635 747.632 107.635 743.905 Q107.635 740.155 105.783 738.002 Q103.955 735.85 100.807 735.85 M110.089 721.197 L110.089 725.456 Q108.33 724.623 106.524 724.183 Q104.742 723.743 102.983 723.743 Q98.353 723.743 95.8993 726.868 Q93.4688 729.993 93.1215 736.313 Q94.4873 734.299 96.5474 733.234 Q98.6076 732.146 101.084 732.146 Q106.293 732.146 109.302 735.317 Q112.334 738.465 112.334 743.905 Q112.334 749.229 109.186 752.447 Q106.038 755.664 100.807 755.664 Q94.8113 755.664 91.6401 751.081 Q88.4688 746.474 88.4688 737.748 Q88.4688 729.553 92.3576 724.692 Q96.2465 719.808 102.797 719.808 Q104.557 719.808 106.339 720.155 Q108.145 720.502 110.089 721.197 Z\" fill=\"#000000\" fill-rule=\"evenodd\" fill-opacity=\"1\" /><path clip-path=\"url(#clip000)\" d=\"M 0 0 M63.5152 398.646 Q59.9041 398.646 58.0754 402.211 Q56.2699 405.752 56.2699 412.882 Q56.2699 419.989 58.0754 423.553 Q59.9041 427.095 63.5152 427.095 Q67.1494 427.095 68.955 423.553 Q70.7837 419.989 70.7837 412.882 Q70.7837 405.752 68.955 402.211 Q67.1494 398.646 63.5152 398.646 M63.5152 394.942 Q69.3254 394.942 72.3809 399.549 Q75.4596 404.132 75.4596 412.882 Q75.4596 421.609 72.3809 426.215 Q69.3254 430.799 63.5152 430.799 Q57.7051 430.799 54.6264 426.215 Q51.5708 421.609 51.5708 412.882 Q51.5708 404.132 54.6264 399.549 Q57.7051 394.942 63.5152 394.942 Z\" fill=\"#000000\" fill-rule=\"evenodd\" fill-opacity=\"1\" /><path clip-path=\"url(#clip000)\" d=\"M 0 0 M80.529 424.248 L85.4132 424.248 L85.4132 430.127 L80.529 430.127 L80.529 424.248 Z\" fill=\"#000000\" fill-rule=\"evenodd\" fill-opacity=\"1\" /><path clip-path=\"url(#clip000)\" d=\"M 0 0 M100.483 413.715 Q97.1493 413.715 95.228 415.498 Q93.3299 417.28 93.3299 420.405 Q93.3299 423.53 95.228 425.313 Q97.1493 427.095 100.483 427.095 Q103.816 427.095 105.737 425.313 Q107.658 423.507 107.658 420.405 Q107.658 417.28 105.737 415.498 Q103.839 413.715 100.483 413.715 M95.8067 411.725 Q92.7975 410.984 91.1077 408.924 Q89.441 406.864 89.441 403.901 Q89.441 399.757 92.3808 397.35 Q95.3437 394.942 100.483 394.942 Q105.645 394.942 108.584 397.35 Q111.524 399.757 111.524 403.901 Q111.524 406.864 109.834 408.924 Q108.168 410.984 105.182 411.725 Q108.561 412.512 110.436 414.803 Q112.334 417.095 112.334 420.405 Q112.334 425.428 109.256 428.113 Q106.2 430.799 100.483 430.799 Q94.765 430.799 91.6864 428.113 Q88.6308 425.428 88.6308 420.405 Q88.6308 417.095 90.529 414.803 Q92.4271 412.512 95.8067 411.725 M94.0937 404.34 Q94.0937 407.026 95.7604 408.53 Q97.4502 410.035 100.483 410.035 Q103.492 410.035 105.182 408.53 Q106.895 407.026 106.895 404.34 Q106.895 401.655 105.182 400.151 Q103.492 398.646 100.483 398.646 Q97.4502 398.646 95.7604 400.151 Q94.0937 401.655 94.0937 404.34 Z\" fill=\"#000000\" fill-rule=\"evenodd\" fill-opacity=\"1\" /><path clip-path=\"url(#clip000)\" d=\"M 0 0 M55.4597 101.327 L63.0985 101.327 L63.0985 74.961 L54.7884 76.6276 L54.7884 72.3684 L63.0522 70.7017 L67.7281 70.7017 L67.7281 101.327 L75.367 101.327 L75.367 105.262 L55.4597 105.262 L55.4597 101.327 Z\" fill=\"#000000\" fill-rule=\"evenodd\" fill-opacity=\"1\" /><path clip-path=\"url(#clip000)\" d=\"M 0 0 M80.4364 99.3821 L85.3206 99.3821 L85.3206 105.262 L80.4364 105.262 L80.4364 99.3821 Z\" fill=\"#000000\" fill-rule=\"evenodd\" fill-opacity=\"1\" /><path clip-path=\"url(#clip000)\" d=\"M 0 0 M100.39 73.7804 Q96.7789 73.7804 94.9502 77.3452 Q93.1447 80.8869 93.1447 88.0164 Q93.1447 95.1229 94.9502 98.6877 Q96.7789 102.229 100.39 102.229 Q104.024 102.229 105.83 98.6877 Q107.658 95.1229 107.658 88.0164 Q107.658 80.8869 105.83 77.3452 Q104.024 73.7804 100.39 73.7804 M100.39 70.0767 Q106.2 70.0767 109.256 74.6832 Q112.334 79.2665 112.334 88.0164 Q112.334 96.7432 109.256 101.35 Q106.2 105.933 100.39 105.933 Q94.5799 105.933 91.5012 101.35 Q88.4456 96.7432 88.4456 88.0164 Q88.4456 79.2665 91.5012 74.6832 Q94.5799 70.0767 100.39 70.0767 Z\" fill=\"#000000\" fill-rule=\"evenodd\" fill-opacity=\"1\" /><polyline clip-path=\"url(#clip002)\" style=\"stroke:#009af9; stroke-width:4; stroke-opacity:1; fill:none\" points=\"\n",
       "  210.724,87.9817 231.73,349.526 252.737,538.525 273.743,681.486 294.75,793.404 315.756,883.4 336.763,957.34 357.769,1019.17 378.776,1071.63 399.782,1116.72 \n",
       "  420.789,1155.87 441.795,1190.18 462.802,1220.5 483.808,1247.48 504.815,1271.63 525.821,1293.36 546.828,1313.01 567.834,1330.83 588.841,1347.05 609.847,1361.82 \n",
       "  630.854,1375.29 651.86,1387.55 672.867,1398.68 693.873,1408.71 714.88,1417.66 735.886,1425.52 756.893,1432.24 777.899,1437.75 798.906,1441.94 819.912,1444.65 \n",
       "  840.919,1445.72 861.925,1444.89 882.931,1441.9 903.938,1436.41 924.944,1428.05 945.951,1416.36 966.957,1400.87 987.964,1381.02 1008.97,1356.25 1029.98,1325.94 \n",
       "  1050.98,1289.51 1071.99,1246.37 1093,1196.05 1114,1138.2 1135.01,1072.7 1156.02,999.709 1177.02,919.766 1198.03,833.877 1219.04,743.562 1240.04,650.87 \n",
       "  1261.05,558.329 1282.05,468.805 1303.06,385.268 1324.07,310.472 1345.07,246.595 1366.08,194.915 1387.09,155.603 1408.09,127.727 1429.1,109.474 1450.11,98.5526 \n",
       "  1471.11,92.6514 1492.12,89.8084 1513.13,88.6046 1534.13,88.1637 1555.14,88.0264 1576.15,87.9907 1597.15,87.9832 1618.16,87.9819 1639.17,87.9817 1660.17,87.9817 \n",
       "  1681.18,87.9817 1702.18,87.9817 1723.19,87.9817 1744.2,87.9817 1765.2,87.9817 1786.21,87.9817 1807.22,87.9817 1828.22,87.9817 1849.23,87.9817 1870.24,87.9817 \n",
       "  1891.24,87.9817 1912.25,87.9817 1933.26,87.9817 1954.26,87.9817 1975.27,87.9817 1996.28,87.9817 2017.28,87.9817 2038.29,87.9817 2059.3,87.9817 2080.3,87.9817 \n",
       "  2101.31,87.9817 2122.31,87.9817 2143.32,87.9817 2164.33,87.9817 2185.33,87.9817 2206.34,87.9817 2227.35,87.9817 2248.35,87.9817 2269.36,87.9817 2290.37,87.9817 \n",
       "  \n",
       "  \"/>\n",
       "<polyline clip-path=\"url(#clip002)\" style=\"stroke:#e26f46; stroke-width:4; stroke-opacity:1; fill:none\" points=\"\n",
       "  210.724,87.9763 231.73,349.509 252.737,538.48 273.743,681.384 294.75,793.201 315.756,883.032 336.763,956.722 357.769,1018.19 378.776,1070.18 399.782,1114.63 \n",
       "  420.789,1152.99 441.795,1186.34 462.802,1215.52 483.808,1241.18 504.815,1263.84 525.821,1283.92 546.828,1301.75 567.834,1317.62 588.841,1331.76 609.847,1344.35 \n",
       "  630.854,1355.56 651.86,1365.51 672.867,1374.3 693.873,1382.02 714.88,1388.72 735.886,1394.47 756.893,1399.29 777.899,1403.2 798.906,1406.21 819.912,1408.33 \n",
       "  840.919,1409.55 861.925,1409.86 882.931,1409.26 903.938,1407.73 924.944,1405.26 945.951,1401.86 966.957,1397.52 987.964,1392.28 1008.97,1386.16 1029.98,1379.21 \n",
       "  1050.98,1371.52 1071.99,1363.17 1093,1354.3 1114,1345.05 1135.01,1335.58 1156.02,1326.1 1177.02,1316.81 1198.03,1307.9 1219.04,1299.59 1240.04,1292.05 \n",
       "  1261.05,1285.41 1282.05,1279.78 1303.06,1275.19 1324.07,1271.6 1345.07,1268.94 1366.08,1267.07 1387.09,1265.84 1408.09,1265.08 1429.1,1264.66 1450.11,1264.44 \n",
       "  1471.11,1264.33 1492.12,1264.29 1513.13,1264.28 1534.13,1264.27 1555.14,1264.27 1576.15,1264.27 1597.15,1264.27 1618.16,1264.27 1639.17,1264.27 1660.17,1264.27 \n",
       "  1681.18,1264.27 1702.18,1264.27 1723.19,1264.27 1744.2,1264.27 1765.2,1264.27 1786.21,1264.27 1807.22,1264.27 1828.22,1264.27 1849.23,1264.27 1870.24,1264.27 \n",
       "  1891.24,1264.27 1912.25,1264.27 1933.26,1264.27 1954.26,1264.27 1975.27,1264.27 1996.28,1264.27 2017.28,1264.27 2038.29,1264.27 2059.3,1264.27 2080.3,1264.27 \n",
       "  2101.31,1264.27 2122.31,1264.27 2143.32,1264.27 2164.33,1264.27 2185.33,1264.27 2206.34,1264.27 2227.35,1264.27 2248.35,1264.27 2269.36,1264.27 2290.37,1264.27 \n",
       "  \n",
       "  \"/>\n",
       "<path clip-path=\"url(#clip000)\" d=\"\n",
       "M1983.32 276.658 L2279.28 276.658 L2279.28 95.2176 L1983.32 95.2176  Z\n",
       "  \" fill=\"#ffffff\" fill-rule=\"evenodd\" fill-opacity=\"1\"/>\n",
       "<polyline clip-path=\"url(#clip000)\" style=\"stroke:#000000; stroke-width:4; stroke-opacity:1; fill:none\" points=\"\n",
       "  1983.32,276.658 2279.28,276.658 2279.28,95.2176 1983.32,95.2176 1983.32,276.658 \n",
       "  \"/>\n",
       "<polyline clip-path=\"url(#clip000)\" style=\"stroke:#009af9; stroke-width:4; stroke-opacity:1; fill:none\" points=\"\n",
       "  2007.81,155.698 2154.78,155.698 \n",
       "  \"/>\n",
       "<path clip-path=\"url(#clip000)\" d=\"M 0 0 M2193.11 175.385 Q2191.31 180.015 2189.59 181.427 Q2187.88 182.839 2185.01 182.839 L2181.61 182.839 L2181.61 179.274 L2184.11 179.274 Q2185.87 179.274 2186.84 178.44 Q2187.81 177.607 2188.99 174.505 L2189.76 172.561 L2179.27 147.052 L2183.78 147.052 L2191.89 167.329 L2199.99 147.052 L2204.5 147.052 L2193.11 175.385 Z\" fill=\"#000000\" fill-rule=\"evenodd\" fill-opacity=\"1\" /><path clip-path=\"url(#clip000)\" d=\"M 0 0 M2210.38 169.042 L2218.02 169.042 L2218.02 142.677 L2209.71 144.343 L2209.71 140.084 L2217.97 138.418 L2222.65 138.418 L2222.65 169.042 L2230.29 169.042 L2230.29 172.978 L2210.38 172.978 L2210.38 169.042 Z\" fill=\"#000000\" fill-rule=\"evenodd\" fill-opacity=\"1\" /><polyline clip-path=\"url(#clip000)\" style=\"stroke:#e26f46; stroke-width:4; stroke-opacity:1; fill:none\" points=\"\n",
       "  2007.81,216.178 2154.78,216.178 \n",
       "  \"/>\n",
       "<path clip-path=\"url(#clip000)\" d=\"M 0 0 M2193.11 235.865 Q2191.31 240.495 2189.59 241.907 Q2187.88 243.319 2185.01 243.319 L2181.61 243.319 L2181.61 239.754 L2184.11 239.754 Q2185.87 239.754 2186.84 238.92 Q2187.81 238.087 2188.99 234.985 L2189.76 233.041 L2179.27 207.532 L2183.78 207.532 L2191.89 227.809 L2199.99 207.532 L2204.5 207.532 L2193.11 235.865 Z\" fill=\"#000000\" fill-rule=\"evenodd\" fill-opacity=\"1\" /><path clip-path=\"url(#clip000)\" d=\"M 0 0 M2213.6 229.522 L2229.92 229.522 L2229.92 233.458 L2207.97 233.458 L2207.97 229.522 Q2210.64 226.768 2215.22 222.138 Q2219.83 217.485 2221.01 216.143 Q2223.25 213.62 2224.13 211.884 Q2225.03 210.124 2225.03 208.435 Q2225.03 205.68 2223.09 203.944 Q2221.17 202.208 2218.07 202.208 Q2215.87 202.208 2213.41 202.972 Q2210.98 203.735 2208.2 205.286 L2208.2 200.564 Q2211.03 199.43 2213.48 198.851 Q2215.94 198.273 2217.97 198.273 Q2223.34 198.273 2226.54 200.958 Q2229.73 203.643 2229.73 208.134 Q2229.73 210.263 2228.92 212.185 Q2228.14 214.083 2226.03 216.675 Q2225.45 217.347 2222.35 220.564 Q2219.25 223.759 2213.6 229.522 Z\" fill=\"#000000\" fill-rule=\"evenodd\" fill-opacity=\"1\" /></svg>\n"
      ]
     },
     "execution_count": 48,
     "metadata": {},
     "output_type": "execute_result"
    }
   ],
   "source": [
    "ts = LinRange(1, 20.0, 100)\n",
    "value = [As(t0, dist, cp, cf) for t0 = ts]\n",
    "value1 = [Aop(t0, 5, dist, cp, cf, D0, D1) for t0 = ts];\n",
    "plot(ts, value)\n",
    "plot!(ts, value1)"
   ]
  },
  {
   "cell_type": "code",
   "execution_count": 47,
   "metadata": {},
   "outputs": [
    {
     "data": {
      "image/svg+xml": [
       "<?xml version=\"1.0\" encoding=\"utf-8\"?>\n",
       "<svg xmlns=\"http://www.w3.org/2000/svg\" xmlns:xlink=\"http://www.w3.org/1999/xlink\" width=\"600\" height=\"400\" viewBox=\"0 0 2400 1600\">\n",
       "<defs>\n",
       "  <clipPath id=\"clip960\">\n",
       "    <rect x=\"0\" y=\"0\" width=\"2400\" height=\"1600\"/>\n",
       "  </clipPath>\n",
       "</defs>\n",
       "<path clip-path=\"url(#clip960)\" d=\"\n",
       "M0 1600 L2400 1600 L2400 0 L0 0  Z\n",
       "  \" fill=\"#ffffff\" fill-rule=\"evenodd\" fill-opacity=\"1\"/>\n",
       "<defs>\n",
       "  <clipPath id=\"clip961\">\n",
       "    <rect x=\"480\" y=\"0\" width=\"1681\" height=\"1600\"/>\n",
       "  </clipPath>\n",
       "</defs>\n",
       "<path clip-path=\"url(#clip960)\" d=\"\n",
       "M148.334 1486.45 L2352.76 1486.45 L2352.76 47.2441 L148.334 47.2441  Z\n",
       "  \" fill=\"#ffffff\" fill-rule=\"evenodd\" fill-opacity=\"1\"/>\n",
       "<defs>\n",
       "  <clipPath id=\"clip962\">\n",
       "    <rect x=\"148\" y=\"47\" width=\"2205\" height=\"1440\"/>\n",
       "  </clipPath>\n",
       "</defs>\n",
       "<polyline clip-path=\"url(#clip962)\" style=\"stroke:#000000; stroke-width:2; stroke-opacity:0.1; fill:none\" points=\"\n",
       "  648.543,1486.45 648.543,47.2441 \n",
       "  \"/>\n",
       "<polyline clip-path=\"url(#clip962)\" style=\"stroke:#000000; stroke-width:2; stroke-opacity:0.1; fill:none\" points=\"\n",
       "  1195.82,1486.45 1195.82,47.2441 \n",
       "  \"/>\n",
       "<polyline clip-path=\"url(#clip962)\" style=\"stroke:#000000; stroke-width:2; stroke-opacity:0.1; fill:none\" points=\"\n",
       "  1743.09,1486.45 1743.09,47.2441 \n",
       "  \"/>\n",
       "<polyline clip-path=\"url(#clip962)\" style=\"stroke:#000000; stroke-width:2; stroke-opacity:0.1; fill:none\" points=\"\n",
       "  2290.37,1486.45 2290.37,47.2441 \n",
       "  \"/>\n",
       "<polyline clip-path=\"url(#clip960)\" style=\"stroke:#000000; stroke-width:4; stroke-opacity:1; fill:none\" points=\"\n",
       "  148.334,1486.45 2352.76,1486.45 \n",
       "  \"/>\n",
       "<polyline clip-path=\"url(#clip960)\" style=\"stroke:#000000; stroke-width:4; stroke-opacity:1; fill:none\" points=\"\n",
       "  648.543,1486.45 648.543,1469.18 \n",
       "  \"/>\n",
       "<polyline clip-path=\"url(#clip960)\" style=\"stroke:#000000; stroke-width:4; stroke-opacity:1; fill:none\" points=\"\n",
       "  1195.82,1486.45 1195.82,1469.18 \n",
       "  \"/>\n",
       "<polyline clip-path=\"url(#clip960)\" style=\"stroke:#000000; stroke-width:4; stroke-opacity:1; fill:none\" points=\"\n",
       "  1743.09,1486.45 1743.09,1469.18 \n",
       "  \"/>\n",
       "<polyline clip-path=\"url(#clip960)\" style=\"stroke:#000000; stroke-width:4; stroke-opacity:1; fill:none\" points=\"\n",
       "  2290.37,1486.45 2290.37,1469.18 \n",
       "  \"/>\n",
       "<path clip-path=\"url(#clip960)\" d=\"M 0 0 M638.821 1512.56 L657.177 1512.56 L657.177 1516.5 L643.103 1516.5 L643.103 1524.97 Q644.122 1524.62 645.14 1524.46 Q646.159 1524.27 647.178 1524.27 Q652.965 1524.27 656.344 1527.44 Q659.724 1530.62 659.724 1536.03 Q659.724 1541.61 656.252 1544.71 Q652.779 1547.79 646.46 1547.79 Q644.284 1547.79 642.016 1547.42 Q639.77 1547.05 637.363 1546.31 L637.363 1541.61 Q639.446 1542.74 641.668 1543.3 Q643.89 1543.86 646.367 1543.86 Q650.372 1543.86 652.71 1541.75 Q655.048 1539.64 655.048 1536.03 Q655.048 1532.42 652.71 1530.31 Q650.372 1528.21 646.367 1528.21 Q644.492 1528.21 642.617 1528.62 Q640.766 1529.04 638.821 1529.92 L638.821 1512.56 Z\" fill=\"#000000\" fill-rule=\"evenodd\" fill-opacity=\"1\" /><path clip-path=\"url(#clip960)\" d=\"M 0 0 M1172.69 1543.18 L1180.33 1543.18 L1180.33 1516.82 L1172.02 1518.49 L1172.02 1514.23 L1180.29 1512.56 L1184.96 1512.56 L1184.96 1543.18 L1192.6 1543.18 L1192.6 1547.12 L1172.69 1547.12 L1172.69 1543.18 Z\" fill=\"#000000\" fill-rule=\"evenodd\" fill-opacity=\"1\" /><path clip-path=\"url(#clip960)\" d=\"M 0 0 M1207.67 1515.64 Q1204.06 1515.64 1202.23 1519.2 Q1200.42 1522.75 1200.42 1529.87 Q1200.42 1536.98 1202.23 1540.55 Q1204.06 1544.09 1207.67 1544.09 Q1211.3 1544.09 1213.11 1540.55 Q1214.94 1536.98 1214.94 1529.87 Q1214.94 1522.75 1213.11 1519.2 Q1211.3 1515.64 1207.67 1515.64 M1207.67 1511.93 Q1213.48 1511.93 1216.54 1516.54 Q1219.61 1521.12 1219.61 1529.87 Q1219.61 1538.6 1216.54 1543.21 Q1213.48 1547.79 1207.67 1547.79 Q1201.86 1547.79 1198.78 1543.21 Q1195.73 1538.6 1195.73 1529.87 Q1195.73 1521.12 1198.78 1516.54 Q1201.86 1511.93 1207.67 1511.93 Z\" fill=\"#000000\" fill-rule=\"evenodd\" fill-opacity=\"1\" /><path clip-path=\"url(#clip960)\" d=\"M 0 0 M1720.46 1543.18 L1728.1 1543.18 L1728.1 1516.82 L1719.79 1518.49 L1719.79 1514.23 L1728.06 1512.56 L1732.73 1512.56 L1732.73 1543.18 L1740.37 1543.18 L1740.37 1547.12 L1720.46 1547.12 L1720.46 1543.18 Z\" fill=\"#000000\" fill-rule=\"evenodd\" fill-opacity=\"1\" /><path clip-path=\"url(#clip960)\" d=\"M 0 0 M1745.49 1512.56 L1763.84 1512.56 L1763.84 1516.5 L1749.77 1516.5 L1749.77 1524.97 Q1750.79 1524.62 1751.81 1524.46 Q1752.83 1524.27 1753.84 1524.27 Q1759.63 1524.27 1763.01 1527.44 Q1766.39 1530.62 1766.39 1536.03 Q1766.39 1541.61 1762.92 1544.71 Q1759.45 1547.79 1753.13 1547.79 Q1750.95 1547.79 1748.68 1547.42 Q1746.44 1547.05 1744.03 1546.31 L1744.03 1541.61 Q1746.11 1542.74 1748.34 1543.3 Q1750.56 1543.86 1753.03 1543.86 Q1757.04 1543.86 1759.38 1541.75 Q1761.71 1539.64 1761.71 1536.03 Q1761.71 1532.42 1759.38 1530.31 Q1757.04 1528.21 1753.03 1528.21 Q1751.16 1528.21 1749.28 1528.62 Q1747.43 1529.04 1745.49 1529.92 L1745.49 1512.56 Z\" fill=\"#000000\" fill-rule=\"evenodd\" fill-opacity=\"1\" /><path clip-path=\"url(#clip960)\" d=\"M 0 0 M2271.51 1543.18 L2287.83 1543.18 L2287.83 1547.12 L2265.89 1547.12 L2265.89 1543.18 Q2268.55 1540.43 2273.13 1535.8 Q2277.74 1531.15 2278.92 1529.81 Q2281.17 1527.28 2282.04 1525.55 Q2282.95 1523.79 2282.95 1522.1 Q2282.95 1519.34 2281 1517.61 Q2279.08 1515.87 2275.98 1515.87 Q2273.78 1515.87 2271.33 1516.63 Q2268.9 1517.4 2266.12 1518.95 L2266.12 1514.23 Q2268.94 1513.09 2271.4 1512.51 Q2273.85 1511.93 2275.89 1511.93 Q2281.26 1511.93 2284.45 1514.62 Q2287.65 1517.31 2287.65 1521.8 Q2287.65 1523.93 2286.84 1525.85 Q2286.05 1527.74 2283.94 1530.34 Q2283.36 1531.01 2280.26 1534.23 Q2277.16 1537.42 2271.51 1543.18 Z\" fill=\"#000000\" fill-rule=\"evenodd\" fill-opacity=\"1\" /><path clip-path=\"url(#clip960)\" d=\"M 0 0 M2302.9 1515.64 Q2299.29 1515.64 2297.46 1519.2 Q2295.66 1522.75 2295.66 1529.87 Q2295.66 1536.98 2297.46 1540.55 Q2299.29 1544.09 2302.9 1544.09 Q2306.54 1544.09 2308.34 1540.55 Q2310.17 1536.98 2310.17 1529.87 Q2310.17 1522.75 2308.34 1519.2 Q2306.54 1515.64 2302.9 1515.64 M2302.9 1511.93 Q2308.71 1511.93 2311.77 1516.54 Q2314.85 1521.12 2314.85 1529.87 Q2314.85 1538.6 2311.77 1543.21 Q2308.71 1547.79 2302.9 1547.79 Q2297.09 1547.79 2294.01 1543.21 Q2290.96 1538.6 2290.96 1529.87 Q2290.96 1521.12 2294.01 1516.54 Q2297.09 1511.93 2302.9 1511.93 Z\" fill=\"#000000\" fill-rule=\"evenodd\" fill-opacity=\"1\" /><polyline clip-path=\"url(#clip962)\" style=\"stroke:#000000; stroke-width:2; stroke-opacity:0.1; fill:none\" points=\"\n",
       "  148.334,1387.44 2352.76,1387.44 \n",
       "  \"/>\n",
       "<polyline clip-path=\"url(#clip962)\" style=\"stroke:#000000; stroke-width:2; stroke-opacity:0.1; fill:none\" points=\"\n",
       "  148.334,1062.58 2352.76,1062.58 \n",
       "  \"/>\n",
       "<polyline clip-path=\"url(#clip962)\" style=\"stroke:#000000; stroke-width:2; stroke-opacity:0.1; fill:none\" points=\"\n",
       "  148.334,737.713 2352.76,737.713 \n",
       "  \"/>\n",
       "<polyline clip-path=\"url(#clip962)\" style=\"stroke:#000000; stroke-width:2; stroke-opacity:0.1; fill:none\" points=\"\n",
       "  148.334,412.847 2352.76,412.847 \n",
       "  \"/>\n",
       "<polyline clip-path=\"url(#clip962)\" style=\"stroke:#000000; stroke-width:2; stroke-opacity:0.1; fill:none\" points=\"\n",
       "  148.334,87.9817 2352.76,87.9817 \n",
       "  \"/>\n",
       "<polyline clip-path=\"url(#clip960)\" style=\"stroke:#000000; stroke-width:4; stroke-opacity:1; fill:none\" points=\"\n",
       "  148.334,1486.45 148.334,47.2441 \n",
       "  \"/>\n",
       "<polyline clip-path=\"url(#clip960)\" style=\"stroke:#000000; stroke-width:4; stroke-opacity:1; fill:none\" points=\"\n",
       "  148.334,1387.44 174.787,1387.44 \n",
       "  \"/>\n",
       "<polyline clip-path=\"url(#clip960)\" style=\"stroke:#000000; stroke-width:4; stroke-opacity:1; fill:none\" points=\"\n",
       "  148.334,1062.58 174.787,1062.58 \n",
       "  \"/>\n",
       "<polyline clip-path=\"url(#clip960)\" style=\"stroke:#000000; stroke-width:4; stroke-opacity:1; fill:none\" points=\"\n",
       "  148.334,737.713 174.787,737.713 \n",
       "  \"/>\n",
       "<polyline clip-path=\"url(#clip960)\" style=\"stroke:#000000; stroke-width:4; stroke-opacity:1; fill:none\" points=\"\n",
       "  148.334,412.847 174.787,412.847 \n",
       "  \"/>\n",
       "<polyline clip-path=\"url(#clip960)\" style=\"stroke:#000000; stroke-width:4; stroke-opacity:1; fill:none\" points=\"\n",
       "  148.334,87.9817 174.787,87.9817 \n",
       "  \"/>\n",
       "<path clip-path=\"url(#clip960)\" d=\"M 0 0 M65.0198 1373.24 Q61.4087 1373.24 59.58 1376.81 Q57.7745 1380.35 57.7745 1387.48 Q57.7745 1394.59 59.58 1398.15 Q61.4087 1401.69 65.0198 1401.69 Q68.6541 1401.69 70.4596 1398.15 Q72.2883 1394.59 72.2883 1387.48 Q72.2883 1380.35 70.4596 1376.81 Q68.6541 1373.24 65.0198 1373.24 M65.0198 1369.54 Q70.83 1369.54 73.8855 1374.15 Q76.9642 1378.73 76.9642 1387.48 Q76.9642 1396.21 73.8855 1400.81 Q70.83 1405.4 65.0198 1405.4 Q59.2097 1405.4 56.131 1400.81 Q53.0754 1396.21 53.0754 1387.48 Q53.0754 1378.73 56.131 1374.15 Q59.2097 1369.54 65.0198 1369.54 Z\" fill=\"#000000\" fill-rule=\"evenodd\" fill-opacity=\"1\" /><path clip-path=\"url(#clip960)\" d=\"M 0 0 M82.0336 1398.84 L86.9179 1398.84 L86.9179 1404.72 L82.0336 1404.72 L82.0336 1398.84 Z\" fill=\"#000000\" fill-rule=\"evenodd\" fill-opacity=\"1\" /><path clip-path=\"url(#clip960)\" d=\"M 0 0 M96.015 1400.79 L112.334 1400.79 L112.334 1404.72 L90.3901 1404.72 L90.3901 1400.79 Q93.0521 1398.03 97.6354 1393.4 Q102.242 1388.75 103.422 1387.41 Q105.668 1384.89 106.547 1383.15 Q107.45 1381.39 107.45 1379.7 Q107.45 1376.95 105.506 1375.21 Q103.584 1373.47 100.483 1373.47 Q98.2835 1373.47 95.8298 1374.24 Q93.3993 1375 90.6215 1376.55 L90.6215 1371.83 Q93.4456 1370.7 95.8993 1370.12 Q98.353 1369.54 100.39 1369.54 Q105.76 1369.54 108.955 1372.22 Q112.149 1374.91 112.149 1379.4 Q112.149 1381.53 111.339 1383.45 Q110.552 1385.35 108.446 1387.94 Q107.867 1388.61 104.765 1391.83 Q101.663 1395.03 96.015 1400.79 Z\" fill=\"#000000\" fill-rule=\"evenodd\" fill-opacity=\"1\" /><path clip-path=\"url(#clip960)\" d=\"M 0 0 M62.9365 1048.38 Q59.3254 1048.38 57.4967 1051.94 Q55.6912 1055.48 55.6912 1062.61 Q55.6912 1069.72 57.4967 1073.28 Q59.3254 1076.83 62.9365 1076.83 Q66.5707 1076.83 68.3763 1073.28 Q70.205 1069.72 70.205 1062.61 Q70.205 1055.48 68.3763 1051.94 Q66.5707 1048.38 62.9365 1048.38 M62.9365 1044.67 Q68.7467 1044.67 71.8022 1049.28 Q74.8809 1053.86 74.8809 1062.61 Q74.8809 1071.34 71.8022 1075.95 Q68.7467 1080.53 62.9365 1080.53 Q57.1264 1080.53 54.0477 1075.95 Q50.9921 1071.34 50.9921 1062.61 Q50.9921 1053.86 54.0477 1049.28 Q57.1264 1044.67 62.9365 1044.67 Z\" fill=\"#000000\" fill-rule=\"evenodd\" fill-opacity=\"1\" /><path clip-path=\"url(#clip960)\" d=\"M 0 0 M79.9503 1073.98 L84.8345 1073.98 L84.8345 1079.86 L79.9503 1079.86 L79.9503 1073.98 Z\" fill=\"#000000\" fill-rule=\"evenodd\" fill-opacity=\"1\" /><path clip-path=\"url(#clip960)\" d=\"M 0 0 M102.751 1049.37 L90.9456 1067.82 L102.751 1067.82 L102.751 1049.37 M101.524 1045.3 L107.404 1045.3 L107.404 1067.82 L112.334 1067.82 L112.334 1071.71 L107.404 1071.71 L107.404 1079.86 L102.751 1079.86 L102.751 1071.71 L87.1493 1071.71 L87.1493 1067.2 L101.524 1045.3 Z\" fill=\"#000000\" fill-rule=\"evenodd\" fill-opacity=\"1\" /><path clip-path=\"url(#clip960)\" d=\"M 0 0 M63.2606 723.512 Q59.6495 723.512 57.8208 727.076 Q56.0152 730.618 56.0152 737.748 Q56.0152 744.854 57.8208 748.419 Q59.6495 751.961 63.2606 751.961 Q66.8948 751.961 68.7004 748.419 Q70.5291 744.854 70.5291 737.748 Q70.5291 730.618 68.7004 727.076 Q66.8948 723.512 63.2606 723.512 M63.2606 719.808 Q69.0707 719.808 72.1263 724.414 Q75.205 728.998 75.205 737.748 Q75.205 746.474 72.1263 751.081 Q69.0707 755.664 63.2606 755.664 Q57.4504 755.664 54.3717 751.081 Q51.3162 746.474 51.3162 737.748 Q51.3162 728.998 54.3717 724.414 Q57.4504 719.808 63.2606 719.808 Z\" fill=\"#000000\" fill-rule=\"evenodd\" fill-opacity=\"1\" /><path clip-path=\"url(#clip960)\" d=\"M 0 0 M80.2744 749.113 L85.1586 749.113 L85.1586 754.993 L80.2744 754.993 L80.2744 749.113 Z\" fill=\"#000000\" fill-rule=\"evenodd\" fill-opacity=\"1\" /><path clip-path=\"url(#clip960)\" d=\"M 0 0 M100.807 735.85 Q97.6585 735.85 95.8067 738.002 Q93.978 740.155 93.978 743.905 Q93.978 747.632 95.8067 749.808 Q97.6585 751.961 100.807 751.961 Q103.955 751.961 105.783 749.808 Q107.635 747.632 107.635 743.905 Q107.635 740.155 105.783 738.002 Q103.955 735.85 100.807 735.85 M110.089 721.197 L110.089 725.456 Q108.33 724.623 106.524 724.183 Q104.742 723.743 102.983 723.743 Q98.353 723.743 95.8993 726.868 Q93.4688 729.993 93.1215 736.313 Q94.4873 734.299 96.5474 733.234 Q98.6076 732.146 101.084 732.146 Q106.293 732.146 109.302 735.317 Q112.334 738.465 112.334 743.905 Q112.334 749.229 109.186 752.447 Q106.038 755.664 100.807 755.664 Q94.8113 755.664 91.6401 751.081 Q88.4688 746.474 88.4688 737.748 Q88.4688 729.553 92.3576 724.692 Q96.2465 719.808 102.797 719.808 Q104.557 719.808 106.339 720.155 Q108.145 720.502 110.089 721.197 Z\" fill=\"#000000\" fill-rule=\"evenodd\" fill-opacity=\"1\" /><path clip-path=\"url(#clip960)\" d=\"M 0 0 M63.5152 398.646 Q59.9041 398.646 58.0754 402.211 Q56.2699 405.752 56.2699 412.882 Q56.2699 419.989 58.0754 423.553 Q59.9041 427.095 63.5152 427.095 Q67.1494 427.095 68.955 423.553 Q70.7837 419.989 70.7837 412.882 Q70.7837 405.752 68.955 402.211 Q67.1494 398.646 63.5152 398.646 M63.5152 394.942 Q69.3254 394.942 72.3809 399.549 Q75.4596 404.132 75.4596 412.882 Q75.4596 421.609 72.3809 426.215 Q69.3254 430.799 63.5152 430.799 Q57.7051 430.799 54.6264 426.215 Q51.5708 421.609 51.5708 412.882 Q51.5708 404.132 54.6264 399.549 Q57.7051 394.942 63.5152 394.942 Z\" fill=\"#000000\" fill-rule=\"evenodd\" fill-opacity=\"1\" /><path clip-path=\"url(#clip960)\" d=\"M 0 0 M80.529 424.248 L85.4132 424.248 L85.4132 430.127 L80.529 430.127 L80.529 424.248 Z\" fill=\"#000000\" fill-rule=\"evenodd\" fill-opacity=\"1\" /><path clip-path=\"url(#clip960)\" d=\"M 0 0 M100.483 413.715 Q97.1493 413.715 95.228 415.498 Q93.3299 417.28 93.3299 420.405 Q93.3299 423.53 95.228 425.313 Q97.1493 427.095 100.483 427.095 Q103.816 427.095 105.737 425.313 Q107.658 423.507 107.658 420.405 Q107.658 417.28 105.737 415.498 Q103.839 413.715 100.483 413.715 M95.8067 411.725 Q92.7975 410.984 91.1077 408.924 Q89.441 406.864 89.441 403.901 Q89.441 399.757 92.3808 397.35 Q95.3437 394.942 100.483 394.942 Q105.645 394.942 108.584 397.35 Q111.524 399.757 111.524 403.901 Q111.524 406.864 109.834 408.924 Q108.168 410.984 105.182 411.725 Q108.561 412.512 110.436 414.803 Q112.334 417.095 112.334 420.405 Q112.334 425.428 109.256 428.113 Q106.2 430.799 100.483 430.799 Q94.765 430.799 91.6864 428.113 Q88.6308 425.428 88.6308 420.405 Q88.6308 417.095 90.529 414.803 Q92.4271 412.512 95.8067 411.725 M94.0937 404.34 Q94.0937 407.026 95.7604 408.53 Q97.4502 410.035 100.483 410.035 Q103.492 410.035 105.182 408.53 Q106.895 407.026 106.895 404.34 Q106.895 401.655 105.182 400.151 Q103.492 398.646 100.483 398.646 Q97.4502 398.646 95.7604 400.151 Q94.0937 401.655 94.0937 404.34 Z\" fill=\"#000000\" fill-rule=\"evenodd\" fill-opacity=\"1\" /><path clip-path=\"url(#clip960)\" d=\"M 0 0 M55.4597 101.327 L63.0985 101.327 L63.0985 74.961 L54.7884 76.6276 L54.7884 72.3684 L63.0522 70.7017 L67.7281 70.7017 L67.7281 101.327 L75.367 101.327 L75.367 105.262 L55.4597 105.262 L55.4597 101.327 Z\" fill=\"#000000\" fill-rule=\"evenodd\" fill-opacity=\"1\" /><path clip-path=\"url(#clip960)\" d=\"M 0 0 M80.4364 99.3821 L85.3206 99.3821 L85.3206 105.262 L80.4364 105.262 L80.4364 99.3821 Z\" fill=\"#000000\" fill-rule=\"evenodd\" fill-opacity=\"1\" /><path clip-path=\"url(#clip960)\" d=\"M 0 0 M100.39 73.7804 Q96.7789 73.7804 94.9502 77.3452 Q93.1447 80.8869 93.1447 88.0164 Q93.1447 95.1229 94.9502 98.6877 Q96.7789 102.229 100.39 102.229 Q104.024 102.229 105.83 98.6877 Q107.658 95.1229 107.658 88.0164 Q107.658 80.8869 105.83 77.3452 Q104.024 73.7804 100.39 73.7804 M100.39 70.0767 Q106.2 70.0767 109.256 74.6832 Q112.334 79.2665 112.334 88.0164 Q112.334 96.7432 109.256 101.35 Q106.2 105.933 100.39 105.933 Q94.5799 105.933 91.5012 101.35 Q88.4456 96.7432 88.4456 88.0164 Q88.4456 79.2665 91.5012 74.6832 Q94.5799 70.0767 100.39 70.0767 Z\" fill=\"#000000\" fill-rule=\"evenodd\" fill-opacity=\"1\" /><polyline clip-path=\"url(#clip962)\" style=\"stroke:#009af9; stroke-width:4; stroke-opacity:1; fill:none\" points=\"\n",
       "  210.724,87.9817 231.73,349.526 252.737,538.525 273.743,681.486 294.75,793.404 315.756,883.4 336.763,957.34 357.769,1019.17 378.776,1071.63 399.782,1116.72 \n",
       "  420.789,1155.87 441.795,1190.18 462.802,1220.5 483.808,1247.48 504.815,1271.63 525.821,1293.36 546.828,1313.01 567.834,1330.83 588.841,1347.05 609.847,1361.82 \n",
       "  630.854,1375.29 651.86,1387.55 672.867,1398.68 693.873,1408.71 714.88,1417.66 735.886,1425.52 756.893,1432.24 777.899,1437.75 798.906,1441.94 819.912,1444.65 \n",
       "  840.919,1445.72 861.925,1444.89 882.931,1441.9 903.938,1436.41 924.944,1428.05 945.951,1416.36 966.957,1400.87 987.964,1381.02 1008.97,1356.25 1029.98,1325.94 \n",
       "  1050.98,1289.51 1071.99,1246.37 1093,1196.05 1114,1138.2 1135.01,1072.7 1156.02,999.709 1177.02,919.766 1198.03,833.877 1219.04,743.562 1240.04,650.87 \n",
       "  1261.05,558.329 1282.05,468.805 1303.06,385.268 1324.07,310.472 1345.07,246.595 1366.08,194.915 1387.09,155.603 1408.09,127.727 1429.1,109.474 1450.11,98.5526 \n",
       "  1471.11,92.6514 1492.12,89.8084 1513.13,88.6046 1534.13,88.1637 1555.14,88.0264 1576.15,87.9907 1597.15,87.9832 1618.16,87.9819 1639.17,87.9817 1660.17,87.9817 \n",
       "  1681.18,87.9817 1702.18,87.9817 1723.19,87.9817 1744.2,87.9817 1765.2,87.9817 1786.21,87.9817 1807.22,87.9817 1828.22,87.9817 1849.23,87.9817 1870.24,87.9817 \n",
       "  1891.24,87.9817 1912.25,87.9817 1933.26,87.9817 1954.26,87.9817 1975.27,87.9817 1996.28,87.9817 2017.28,87.9817 2038.29,87.9817 2059.3,87.9817 2080.3,87.9817 \n",
       "  2101.31,87.9817 2122.31,87.9817 2143.32,87.9817 2164.33,87.9817 2185.33,87.9817 2206.34,87.9817 2227.35,87.9817 2248.35,87.9817 2269.36,87.9817 2290.37,87.9817 \n",
       "  \n",
       "  \"/>\n",
       "<polyline clip-path=\"url(#clip962)\" style=\"stroke:#e26f46; stroke-width:4; stroke-opacity:1; fill:none\" points=\"\n",
       "  210.724,87.9763 231.73,349.509 252.737,538.48 273.743,681.384 294.75,793.201 315.756,883.032 336.763,956.722 357.769,1018.19 378.776,1070.18 399.782,1114.63 \n",
       "  420.789,1152.99 441.795,1186.34 462.802,1215.52 483.808,1241.18 504.815,1263.84 525.821,1283.92 546.828,1301.75 567.834,1317.62 588.841,1331.76 609.847,1344.35 \n",
       "  630.854,1355.56 651.86,1365.51 672.867,1374.3 693.873,1382.02 714.88,1388.72 735.886,1394.47 756.893,1399.29 777.899,1403.2 798.906,1406.21 819.912,1408.33 \n",
       "  840.919,1409.55 861.925,1409.86 882.931,1409.26 903.938,1407.73 924.944,1405.26 945.951,1401.86 966.957,1397.52 987.964,1392.28 1008.97,1386.16 1029.98,1379.21 \n",
       "  1050.98,1371.52 1071.99,1363.17 1093,1354.3 1114,1345.05 1135.01,1335.58 1156.02,1326.1 1177.02,1316.81 1198.03,1307.9 1219.04,1299.59 1240.04,1292.05 \n",
       "  1261.05,1285.41 1282.05,1279.78 1303.06,1275.19 1324.07,1271.6 1345.07,1268.94 1366.08,1267.07 1387.09,1265.84 1408.09,1265.08 1429.1,1264.66 1450.11,1264.44 \n",
       "  1471.11,1264.33 1492.12,1264.29 1513.13,1264.28 1534.13,1264.27 1555.14,1264.27 1576.15,1264.27 1597.15,1264.27 1618.16,1264.27 1639.17,1264.27 1660.17,1264.27 \n",
       "  1681.18,1264.27 1702.18,1264.27 1723.19,1264.27 1744.2,1264.27 1765.2,1264.27 1786.21,1264.27 1807.22,1264.27 1828.22,1264.27 1849.23,1264.27 1870.24,1264.27 \n",
       "  1891.24,1264.27 1912.25,1264.27 1933.26,1264.27 1954.26,1264.27 1975.27,1264.27 1996.28,1264.27 2017.28,1264.27 2038.29,1264.27 2059.3,1264.27 2080.3,1264.27 \n",
       "  2101.31,1264.27 2122.31,1264.27 2143.32,1264.27 2164.33,1264.27 2185.33,1264.27 2206.34,1264.27 2227.35,1264.27 2248.35,1264.27 2269.36,1264.27 2290.37,1264.27 \n",
       "  \n",
       "  \"/>\n",
       "<path clip-path=\"url(#clip960)\" d=\"\n",
       "M1983.32 276.658 L2279.28 276.658 L2279.28 95.2176 L1983.32 95.2176  Z\n",
       "  \" fill=\"#ffffff\" fill-rule=\"evenodd\" fill-opacity=\"1\"/>\n",
       "<polyline clip-path=\"url(#clip960)\" style=\"stroke:#000000; stroke-width:4; stroke-opacity:1; fill:none\" points=\"\n",
       "  1983.32,276.658 2279.28,276.658 2279.28,95.2176 1983.32,95.2176 1983.32,276.658 \n",
       "  \"/>\n",
       "<polyline clip-path=\"url(#clip960)\" style=\"stroke:#009af9; stroke-width:4; stroke-opacity:1; fill:none\" points=\"\n",
       "  2007.81,155.698 2154.78,155.698 \n",
       "  \"/>\n",
       "<path clip-path=\"url(#clip960)\" d=\"M 0 0 M2193.11 175.385 Q2191.31 180.015 2189.59 181.427 Q2187.88 182.839 2185.01 182.839 L2181.61 182.839 L2181.61 179.274 L2184.11 179.274 Q2185.87 179.274 2186.84 178.44 Q2187.81 177.607 2188.99 174.505 L2189.76 172.561 L2179.27 147.052 L2183.78 147.052 L2191.89 167.329 L2199.99 147.052 L2204.5 147.052 L2193.11 175.385 Z\" fill=\"#000000\" fill-rule=\"evenodd\" fill-opacity=\"1\" /><path clip-path=\"url(#clip960)\" d=\"M 0 0 M2210.38 169.042 L2218.02 169.042 L2218.02 142.677 L2209.71 144.343 L2209.71 140.084 L2217.97 138.418 L2222.65 138.418 L2222.65 169.042 L2230.29 169.042 L2230.29 172.978 L2210.38 172.978 L2210.38 169.042 Z\" fill=\"#000000\" fill-rule=\"evenodd\" fill-opacity=\"1\" /><polyline clip-path=\"url(#clip960)\" style=\"stroke:#e26f46; stroke-width:4; stroke-opacity:1; fill:none\" points=\"\n",
       "  2007.81,216.178 2154.78,216.178 \n",
       "  \"/>\n",
       "<path clip-path=\"url(#clip960)\" d=\"M 0 0 M2193.11 235.865 Q2191.31 240.495 2189.59 241.907 Q2187.88 243.319 2185.01 243.319 L2181.61 243.319 L2181.61 239.754 L2184.11 239.754 Q2185.87 239.754 2186.84 238.92 Q2187.81 238.087 2188.99 234.985 L2189.76 233.041 L2179.27 207.532 L2183.78 207.532 L2191.89 227.809 L2199.99 207.532 L2204.5 207.532 L2193.11 235.865 Z\" fill=\"#000000\" fill-rule=\"evenodd\" fill-opacity=\"1\" /><path clip-path=\"url(#clip960)\" d=\"M 0 0 M2213.6 229.522 L2229.92 229.522 L2229.92 233.458 L2207.97 233.458 L2207.97 229.522 Q2210.64 226.768 2215.22 222.138 Q2219.83 217.485 2221.01 216.143 Q2223.25 213.62 2224.13 211.884 Q2225.03 210.124 2225.03 208.435 Q2225.03 205.68 2223.09 203.944 Q2221.17 202.208 2218.07 202.208 Q2215.87 202.208 2213.41 202.972 Q2210.98 203.735 2208.2 205.286 L2208.2 200.564 Q2211.03 199.43 2213.48 198.851 Q2215.94 198.273 2217.97 198.273 Q2223.34 198.273 2226.54 200.958 Q2229.73 203.643 2229.73 208.134 Q2229.73 210.263 2228.92 212.185 Q2228.14 214.083 2226.03 216.675 Q2225.45 217.347 2222.35 220.564 Q2219.25 223.759 2213.6 229.522 Z\" fill=\"#000000\" fill-rule=\"evenodd\" fill-opacity=\"1\" /></svg>\n"
      ]
     },
     "execution_count": 47,
     "metadata": {},
     "output_type": "execute_result"
    }
   ],
   "source": []
  },
  {
   "cell_type": "code",
   "execution_count": null,
   "metadata": {},
   "outputs": [],
   "source": []
  }
 ],
 "metadata": {
  "kernelspec": {
   "display_name": "Julia 1.5.2",
   "language": "julia",
   "name": "julia-1.5"
  },
  "language_info": {
   "file_extension": ".jl",
   "mimetype": "application/julia",
   "name": "julia",
   "version": "1.5.2"
  }
 },
 "nbformat": 4,
 "nbformat_minor": 4
}
