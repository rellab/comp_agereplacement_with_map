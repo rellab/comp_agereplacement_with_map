{
 "cells": [
  {
   "cell_type": "code",
   "execution_count": null,
   "metadata": {},
   "outputs": [],
   "source": [
    "using Pkg\n",
    "Pkg.add(\"Plots\")\n",
    "Pkg.add(\"Distributions\")\n",
    "Pkg.add(\"QuadGK\")\n",
    "Pkg.add(\"SpecialFunctions\")\n",
    "Pkg.add(\"Optim\")\n",
    "Pkg.add(\"Printf\")\n",
    "Pkg.add(\"DataFrames\")\n",
    "Pkg.add(\"CSV\")\n",
    "Pkg.add(\"Plots\")\n",
    "Pkg.add(PackageSpec(url=\"https://github.com/JuliaReliab/Origin.jl.git\"))\n",
    "Pkg.add(PackageSpec(url=\"https://github.com/JuliaReliab/Deformula.jl.git\"))\n",
    "Pkg.add(PackageSpec(url=\"https://github.com/JuliaReliab/SparseMatrix.jl.git\"))\n",
    "Pkg.add(PackageSpec(url=\"https://github.com/JuliaReliab/NMarkov.jl.git\"))"
   ]
  },
  {
   "cell_type": "code",
   "execution_count": 2,
   "metadata": {},
   "outputs": [
    {
     "name": "stderr",
     "output_type": "stream",
     "text": [
      "WARNING: using Distributions.cf in module Main conflicts with an existing identifier.\n"
     ]
    }
   ],
   "source": [
    "using SparseArrays\n",
    "using NMarkov\n",
    "using Plots\n",
    "using Distributions\n",
    "using QuadGK\n",
    "using SpecialFunctions\n",
    "using Optim\n",
    "using Printf\n",
    "using DataFrames\n",
    "using CSV\n",
    "using SparseMatrix"
   ]
  },
  {
   "cell_type": "code",
   "execution_count": 3,
   "metadata": {},
   "outputs": [
    {
     "data": {
      "text/plain": [
       "eye (generic function with 3 methods)"
      ]
     },
     "execution_count": 3,
     "metadata": {},
     "output_type": "execute_result"
    }
   ],
   "source": [
    "import NMarkov.eye\n",
    "function eye(M::AbstractMatrix)\n",
    "    eye(size(M)[1])\n",
    "end"
   ]
  },
  {
   "cell_type": "markdown",
   "metadata": {},
   "source": [
    "## Zhao and Nakagawa"
   ]
  },
  {
   "cell_type": "code",
   "execution_count": 4,
   "metadata": {},
   "outputs": [
    {
     "data": {
      "text/plain": [
       "g2N (generic function with 1 method)"
      ]
     },
     "execution_count": 4,
     "metadata": {},
     "output_type": "execute_result"
    }
   ],
   "source": [
    "function GN(n, D0, D1)\n",
    "    k = size(D0)[1]\n",
    "    Qn = spzeros(AbstractMatrix{Float64}, n, n) # blockmatrix\n",
    "    I = eye(D0)\n",
    "    b = spzeros(AbstractMatrix{Float64}, n, 1)\n",
    "    for i = 1:n\n",
    "        Qn[i,i] = D0\n",
    "    end\n",
    "    for i = 1:n-1\n",
    "        Qn[i,i+1] = D1\n",
    "    end\n",
    "    a = zeros(k, n*k)\n",
    "    a[1:k,1:k] = I\n",
    "    for i = 1:n\n",
    "        b[i,1] = I\n",
    "    end\n",
    "    a, sparse(block(Qn)), Matrix(sparse(block(b)))\n",
    "end\n",
    "\n",
    "function gN(n, D0, D1)\n",
    "    k = size(D0)[1]\n",
    "    Qn = spzeros(AbstractMatrix{Float64}, n, n) # blockmatrix\n",
    "    I = eye(D0)\n",
    "    for i = 1:n\n",
    "        Qn[i,i] = D0\n",
    "    end\n",
    "    for i = 1:n-1\n",
    "        Qn[i,i+1] = D1\n",
    "    end\n",
    "    a = zeros(k, n*k)\n",
    "    a[1:k,1:k] = I\n",
    "    b = zeros(n*k, k)\n",
    "    b[((n-1)*k)+1:(n*k),1:k] = D1\n",
    "    a, sparse(block(Qn)), b\n",
    "end\n",
    "\n",
    "function g2N(n, D0, D1)\n",
    "    k = size(D0)[1]\n",
    "    Qn = spzeros(AbstractMatrix{Float64}, n+1, n+1) # blockmatrix\n",
    "    I = eye(D0)\n",
    "    for i = 1:n\n",
    "        Qn[i,i] = D0\n",
    "    end\n",
    "    for i = 1:n\n",
    "        Qn[i,i+1] = D1\n",
    "    end\n",
    "    Qn[n+1,n+1] = D0 + D1\n",
    "    a = zeros(k, (n+1)*k)\n",
    "    a[1:k,1:k] = I\n",
    "    b = zeros((n+1)*k, k)\n",
    "    b[(n*k)+1:((n+1)*k),1:k] = I\n",
    "    a, sparse(block(Qn)), b\n",
    "end"
   ]
  },
  {
   "cell_type": "code",
   "execution_count": 5,
   "metadata": {},
   "outputs": [
    {
     "data": {
      "text/plain": [
       "PfProb (generic function with 1 method)"
      ]
     },
     "execution_count": 5,
     "metadata": {},
     "output_type": "execute_result"
    }
   ],
   "source": [
    "function PfProb(t0, n, D0, D1, dist)\n",
    "    Q = D0 + D1\n",
    "    I = eye(D0)\n",
    "    p0 = mexpmix(Q, I, bounds = (0.0, t0), rmax = 10000) do t\n",
    "        pdf(dist, t)\n",
    "    end\n",
    "\n",
    "    a, A, b = g2N(n, D0, D1)\n",
    "    p1 = ccdf(dist, t0) * a * mexp(A, b, t0, rmax = 10000)\n",
    "\n",
    "    a, A, b = GN(n, D0, D1)\n",
    "    bdash = mexp(A, b, t0, rmax = 10000)\n",
    "    p2 = a * mexpmix(A, bdash, bounds = (0.0, Inf64), rmax = 10000) do t\n",
    "        pdf(dist, t + t0)\n",
    "    end\n",
    "\n",
    "    a, A, b = gN(n, D0, D1)\n",
    "    bdash = mexp(A, b, t0, rmax = 10000)\n",
    "    _, tmp = mexpcmix(A, bdash, bounds = (0.0, Inf64), rmax = 10000) do t\n",
    "        pdf(dist, t + t0)\n",
    "    end\n",
    "    p3 = a * tmp\n",
    "    \n",
    "    P = p0 + p1 + p2 + p3\n",
    "    gth(P)\n",
    "end"
   ]
  },
  {
   "cell_type": "code",
   "execution_count": 6,
   "metadata": {},
   "outputs": [
    {
     "data": {
      "text/plain": [
       "gbar (generic function with 1 method)"
      ]
     },
     "execution_count": 6,
     "metadata": {},
     "output_type": "execute_result"
    }
   ],
   "source": [
    "function gbar(t, n, pss, D0, D1)\n",
    "    a, A, b = GN(n, D0, D1)\n",
    "    sum((a * exp(Matrix(A)*t) * b)' * pss)\n",
    "end"
   ]
  },
  {
   "cell_type": "code",
   "execution_count": 7,
   "metadata": {},
   "outputs": [
    {
     "data": {
      "text/plain": [
       "T (generic function with 1 method)"
      ]
     },
     "execution_count": 7,
     "metadata": {},
     "output_type": "execute_result"
    }
   ],
   "source": [
    "function T(t0, dist)\n",
    "    res = quadgk(x -> ccdf(dist, x), 0, t0, rtol=1e-8)\n",
    "    res[1]\n",
    "end"
   ]
  },
  {
   "cell_type": "code",
   "execution_count": 8,
   "metadata": {},
   "outputs": [
    {
     "data": {
      "text/plain": [
       "C (generic function with 1 method)"
      ]
     },
     "execution_count": 8,
     "metadata": {},
     "output_type": "execute_result"
    }
   ],
   "source": [
    "function C(t0, dist, cp, cf)\n",
    "    cp + (cf - cp)*cdf(dist, t0)\n",
    "end"
   ]
  },
  {
   "cell_type": "code",
   "execution_count": 9,
   "metadata": {},
   "outputs": [
    {
     "data": {
      "text/plain": [
       "As (generic function with 1 method)"
      ]
     },
     "execution_count": 9,
     "metadata": {},
     "output_type": "execute_result"
    }
   ],
   "source": [
    "# standard age replacement\n",
    "As(t0, dist, cp, cf) = C(t0, dist, cp, cf) / T(t0, dist)"
   ]
  },
  {
   "cell_type": "code",
   "execution_count": 10,
   "metadata": {},
   "outputs": [
    {
     "data": {
      "text/plain": [
       "Top (generic function with 1 method)"
      ]
     },
     "execution_count": 10,
     "metadata": {},
     "output_type": "execute_result"
    }
   ],
   "source": [
    "function Top(t0, n, dist, pss, D0, D1)\n",
    "    t1 = quadgk(x -> ccdf(dist, x), 0, t0, rtol=1e-8)\n",
    "    a, A, b = GN(n, D0, D1)\n",
    "    bdash = mexp(A, b, t0, rmax = 10000)\n",
    "    tmp = mexpmix(A, bdash, bounds = (0.0, Inf64), rmax = 10000) do t\n",
    "        ccdf(dist, t + t0)\n",
    "    end\n",
    "    t2 = sum((a * tmp)' * pss)\n",
    "    t1[1] + t2\n",
    "end"
   ]
  },
  {
   "cell_type": "code",
   "execution_count": 11,
   "metadata": {},
   "outputs": [
    {
     "data": {
      "text/plain": [
       "Cop (generic function with 1 method)"
      ]
     },
     "execution_count": 11,
     "metadata": {},
     "output_type": "execute_result"
    }
   ],
   "source": [
    "function Cop(t0, n, dist, co, cp, cf, pss, D0, D1)\n",
    "    a, A, b = GN(n, D0, D1)\n",
    "    tmp = mexp(A, b, t0, rmax = 10000)\n",
    "    t1 = sum((a * tmp)' * pss)\n",
    "    a, A, b = gN(n, D0, D1)\n",
    "    bdash = mexp(A, b, t0, rmax = 10000)\n",
    "    tmp = mexpmix(A, bdash, bounds = (0.0, Inf64), rmax = 10000) do t\n",
    "        ccdf(dist, t + t0)\n",
    "    end\n",
    "    t2 = sum((a * tmp)' * pss)\n",
    "    cf - (cf - cp) * ccdf(dist, t0) * (1-t1) - (cf - co) * t2\n",
    "end"
   ]
  },
  {
   "cell_type": "code",
   "execution_count": 12,
   "metadata": {},
   "outputs": [
    {
     "data": {
      "text/plain": [
       "Aop (generic function with 1 method)"
      ]
     },
     "execution_count": 12,
     "metadata": {},
     "output_type": "execute_result"
    }
   ],
   "source": [
    "# opportunity\n",
    "function Aop(t0, n, dist, co, cp, cf, D0, D1)\n",
    "    if n != 0\n",
    "        pss = PfProb(t0, n, D0, D1, dist)\n",
    "        Cop(t0, n, dist, co, cp, cf, pss, D0, D1) / Top(t0, n, dist, pss, D0, D1)\n",
    "    else\n",
    "        As(t0, dist, cp, cf)\n",
    "    end\n",
    "end"
   ]
  },
  {
   "cell_type": "code",
   "execution_count": 13,
   "metadata": {},
   "outputs": [
    {
     "data": {
      "text/plain": [
       "Aop2 (generic function with 1 method)"
      ]
     },
     "execution_count": 13,
     "metadata": {},
     "output_type": "execute_result"
    }
   ],
   "source": [
    "# opportunity\n",
    "function Aop2(t0, n, dist, co, cp, cf, init, D0, D1)\n",
    "    if n != 0\n",
    "        Cop(t0, n, dist, co, cp, cf, init, D0, D1) / Top(t0, n, dist, init, D0, D1)\n",
    "    else\n",
    "        As(t0, dist, cp, cf)\n",
    "    end\n",
    "end"
   ]
  },
  {
   "cell_type": "code",
   "execution_count": 14,
   "metadata": {},
   "outputs": [
    {
     "data": {
      "text/plain": [
       "failure_param (generic function with 1 method)"
      ]
     },
     "execution_count": 14,
     "metadata": {},
     "output_type": "execute_result"
    }
   ],
   "source": [
    "function failure_param(;mttf, cv)\n",
    "    m = optimize(m -> (gamma(1+2/m)/gamma(1+1/m)^2 - 1.0 - cv^2)^2, 0.0001, 10.0).minimizer\n",
    "    eta = mttf / gamma(1+1/m)\n",
    "    dist = Weibull(m, eta)\n",
    "\n",
    "    println(\"failure shape parameter \", m)\n",
    "    println(\"failure scale parameter \", eta)\n",
    "    println(\"failure mttf \", mttf)\n",
    "    println(\"failure cv \", cv)\n",
    "    return dist\n",
    "end"
   ]
  },
  {
   "cell_type": "code",
   "execution_count": 15,
   "metadata": {},
   "outputs": [
    {
     "data": {
      "text/plain": [
       "mmpp_param (generic function with 1 method)"
      ]
     },
     "execution_count": 15,
     "metadata": {},
     "output_type": "execute_result"
    }
   ],
   "source": [
    "function poisson_param(;mttop)\n",
    "    # poisson\n",
    "    D0 = Float64[-2 1; 1 -2]\n",
    "    D1 = Float64[1 0; 0 1]\n",
    "\n",
    "    ss = gth(Matrix(D0+D1))\n",
    "    tmp = (-D0)' \\ ss\n",
    "    mo = sum(tmp)\n",
    "\n",
    "    # scale\n",
    "    D0 = D0 .* mo ./ mttop\n",
    "    D1 = D1 .* mo ./ mttop\n",
    "\n",
    "    ss = gth(Matrix(D0+D1))\n",
    "    tmp = (-D0)' \\ ss\n",
    "    mo = sum(tmp)\n",
    "    tmp = (-D0)' \\ tmp\n",
    "    mo2 = 2*sum(tmp)\n",
    "\n",
    "    println(\"mean opportunity interval \", mo)\n",
    "    println(\"cv for opportunity interval \", sqrt(mo2 - mo^2)/mo)\n",
    "    return D0, D1, 1.0\n",
    "end\n",
    "\n",
    "function hyporenewal_param(;mttop, b)\n",
    "    # hypo renewal\n",
    "#     b = Float64[1, 1]\n",
    "    D0 = Float64[-b[1] b[1]; 0 -b[2]]\n",
    "    D1 = Float64[0 0; b[2] 0]\n",
    "\n",
    "    ss = gth(Matrix(D0+D1))\n",
    "    tmp = (-D0)' \\ ss\n",
    "    mo = sum(tmp)\n",
    "\n",
    "    # scale\n",
    "    D0 = D0 .* mo ./ mttop\n",
    "    D1 = D1 .* mo ./ mttop\n",
    "\n",
    "    ss = gth(Matrix(D0+D1))\n",
    "    tmp = (-D0)' \\ ss\n",
    "    mo = sum(tmp)\n",
    "    tmp = (-D0)' \\ tmp\n",
    "    mo2 = 2*sum(tmp)\n",
    "    cv = sqrt(mo2 - mo^2)/mo\n",
    "    println(\"mean opportunity interval \", mo)\n",
    "    println(\"cv for opportunity interval \", cv)\n",
    "    return D0, D1, cv\n",
    "end\n",
    "\n",
    "function hyperrenewal_param(;mttop, u, b)\n",
    "    # hyper exp\n",
    "    D0 = Float64[-b[1] 0; 0 -b[2]]\n",
    "    D1 = reshape(b, 2, 1) * reshape(u, 1, 2)\n",
    "\n",
    "    ss = gth(Matrix(D0+D1))\n",
    "    tmp = (-D0)' \\ ss\n",
    "    mo = sum(tmp)\n",
    "\n",
    "    # scale\n",
    "    D0 = D0 .* mo ./ mttop\n",
    "    D1 = D1 .* mo ./ mttop\n",
    "\n",
    "    ss = gth(Matrix(D0+D1))\n",
    "    tmp = (-D0)' \\ ss\n",
    "    mo = sum(tmp)\n",
    "    tmp = (-D0)' \\ tmp\n",
    "    mo2 = 2*sum(tmp)\n",
    "    cv = sqrt(mo2 - mo^2)/mo\n",
    "    println(\"mean opportunity interval \", mo)\n",
    "    println(\"cv for opportunity interval \", cv)\n",
    "    return D0, D1, cv\n",
    "\n",
    "end\n",
    "\n",
    "function mmpp_param(;mttop, u, b)\n",
    "    # mmpp\n",
    "    D0 = Float64[-(u[1]+b[1]) u[1]; u[2] -(u[2]+b[2])]\n",
    "    D1 = Float64[b[1] 0; 0 b[2]]\n",
    "\n",
    "    ss = gth(Matrix(D0+D1))\n",
    "    tmp = (-D0)' \\ ss\n",
    "    mo = sum(tmp)\n",
    "\n",
    "    # scale\n",
    "    D0 = D0 .* mo ./ mttop\n",
    "    D1 = D1 .* mo ./ mttop\n",
    "\n",
    "    ss = gth(Matrix(D0+D1))\n",
    "    tmp = (-D0)' \\ ss\n",
    "    mo = sum(tmp)\n",
    "    tmp = (-D0)' \\ tmp\n",
    "    mo2 = 2*sum(tmp)\n",
    "\n",
    "    cv = sqrt(mo2 - mo^2)/mo\n",
    "    println(\"mean opportunity interval \", mo)\n",
    "    println(\"cv for opportunity interval \", cv)\n",
    "    return D0, D1, cv\n",
    "end"
   ]
  },
  {
   "cell_type": "code",
   "execution_count": 16,
   "metadata": {},
   "outputs": [
    {
     "data": {
      "text/plain": [
       "optim (generic function with 1 method)"
      ]
     },
     "execution_count": 16,
     "metadata": {},
     "output_type": "execute_result"
    }
   ],
   "source": [
    "function optim(;maxn = 30, mint=1.0, maxt=20.0, dist, co, cp, cf, D0, D1)\n",
    "    minvalue = 1.0\n",
    "    local minresult, minn\n",
    "    for n = 0:maxn\n",
    "        result = optimize(x -> Aop(x, n, dist, co, cp, cf, D0, D1), mint, maxt)\n",
    "        if result.minimum <= minvalue\n",
    "            minvalue = result.minimum\n",
    "            minresult = result\n",
    "            minn = n\n",
    "        end\n",
    "    end\n",
    "    minn, minresult\n",
    "end"
   ]
  },
  {
   "cell_type": "code",
   "execution_count": 17,
   "metadata": {},
   "outputs": [
    {
     "data": {
      "text/plain": [
       "optim2 (generic function with 1 method)"
      ]
     },
     "execution_count": 17,
     "metadata": {},
     "output_type": "execute_result"
    }
   ],
   "source": [
    "function optim2(;maxn = 30, mint=1.0, maxt=20.0, dist, co, cp, cf, init, D0, D1)\n",
    "    minvalue = 1.0\n",
    "    local minresult, minn\n",
    "    for n = 0:maxn\n",
    "        result = optimize(x -> Aop2(x, n, dist, co, cp, cf, init, D0, D1), mint, maxt)\n",
    "        if result.minimum <= minvalue\n",
    "            minvalue = result.minimum\n",
    "            minresult = result\n",
    "            minn = n\n",
    "        end\n",
    "    end\n",
    "    if isapprox(minresult.minimizer, 1.0, atol=1e-3)\n",
    "        n, res = optim2(mint=1e-5, maxt=10.0, dist=dist, co=co, cp=cp, cf=cf, init=init, D0=D0, D1=D1)\n",
    "        if res.minimum < minresult.minimum\n",
    "            n, res\n",
    "        else\n",
    "            minn, minresult\n",
    "        end\n",
    "    else\n",
    "        minn, minresult\n",
    "    end\n",
    "end"
   ]
  },
  {
   "cell_type": "code",
   "execution_count": 18,
   "metadata": {},
   "outputs": [
    {
     "name": "stdout",
     "output_type": "stream",
     "text": [
      "failure shape parameter 9.999999703209413\n",
      "failure scale parameter 10.511370074337558\n",
      "failure mttf 10.0\n",
      "failure cv 0.1\n",
      "mean opportunity interval 1.0\n",
      "cv for opportunity interval 0.9147320339189785\n"
     ]
    },
    {
     "data": {
      "text/plain": [
       "([-1.16667 1.16667; 0.0 -2.33333], [0.0 0.0; 2.33333 0.0], 0.9147320339189785)"
      ]
     },
     "execution_count": 18,
     "metadata": {},
     "output_type": "execute_result"
    }
   ],
   "source": [
    "co, cp, cf = 1.0, 1.0, 10.0\n",
    "mttf = 10.0\n",
    "dist = failure_param(mttf = mttf, cv = 0.1)\n",
    "D0, D1 = hyporenewal_param(mttop = 1.0, b=[1,2])"
   ]
  },
  {
   "cell_type": "code",
   "execution_count": 19,
   "metadata": {},
   "outputs": [
    {
     "data": {
      "image/svg+xml": [
       "<?xml version=\"1.0\" encoding=\"utf-8\"?>\n",
       "<svg xmlns=\"http://www.w3.org/2000/svg\" xmlns:xlink=\"http://www.w3.org/1999/xlink\" width=\"600\" height=\"400\" viewBox=\"0 0 2400 1600\">\n",
       "<defs>\n",
       "  <clipPath id=\"clip6400\">\n",
       "    <rect x=\"0\" y=\"0\" width=\"2400\" height=\"1600\"/>\n",
       "  </clipPath>\n",
       "</defs>\n",
       "<path clip-path=\"url(#clip6400)\" d=\"\n",
       "M0 1600 L2400 1600 L2400 0 L0 0  Z\n",
       "  \" fill=\"#ffffff\" fill-rule=\"evenodd\" fill-opacity=\"1\"/>\n",
       "<defs>\n",
       "  <clipPath id=\"clip6401\">\n",
       "    <rect x=\"480\" y=\"0\" width=\"1681\" height=\"1600\"/>\n",
       "  </clipPath>\n",
       "</defs>\n",
       "<path clip-path=\"url(#clip6400)\" d=\"\n",
       "M153.898 1487.47 L2352.76 1487.47 L2352.76 47.2441 L153.898 47.2441  Z\n",
       "  \" fill=\"#ffffff\" fill-rule=\"evenodd\" fill-opacity=\"1\"/>\n",
       "<defs>\n",
       "  <clipPath id=\"clip6402\">\n",
       "    <rect x=\"153\" y=\"47\" width=\"2200\" height=\"1441\"/>\n",
       "  </clipPath>\n",
       "</defs>\n",
       "<polyline clip-path=\"url(#clip6402)\" style=\"stroke:#000000; stroke-width:2; stroke-opacity:0.1; fill:none\" points=\"\n",
       "  652.844,1487.47 652.844,47.2441 \n",
       "  \"/>\n",
       "<polyline clip-path=\"url(#clip6402)\" style=\"stroke:#000000; stroke-width:2; stroke-opacity:0.1; fill:none\" points=\"\n",
       "  1198.74,1487.47 1198.74,47.2441 \n",
       "  \"/>\n",
       "<polyline clip-path=\"url(#clip6402)\" style=\"stroke:#000000; stroke-width:2; stroke-opacity:0.1; fill:none\" points=\"\n",
       "  1744.63,1487.47 1744.63,47.2441 \n",
       "  \"/>\n",
       "<polyline clip-path=\"url(#clip6402)\" style=\"stroke:#000000; stroke-width:2; stroke-opacity:0.1; fill:none\" points=\"\n",
       "  2290.52,1487.47 2290.52,47.2441 \n",
       "  \"/>\n",
       "<polyline clip-path=\"url(#clip6402)\" style=\"stroke:#000000; stroke-width:2; stroke-opacity:0.1; fill:none\" points=\"\n",
       "  153.898,1388.4 2352.76,1388.4 \n",
       "  \"/>\n",
       "<polyline clip-path=\"url(#clip6402)\" style=\"stroke:#000000; stroke-width:2; stroke-opacity:0.1; fill:none\" points=\"\n",
       "  153.898,1063.3 2352.76,1063.3 \n",
       "  \"/>\n",
       "<polyline clip-path=\"url(#clip6402)\" style=\"stroke:#000000; stroke-width:2; stroke-opacity:0.1; fill:none\" points=\"\n",
       "  153.898,738.203 2352.76,738.203 \n",
       "  \"/>\n",
       "<polyline clip-path=\"url(#clip6402)\" style=\"stroke:#000000; stroke-width:2; stroke-opacity:0.1; fill:none\" points=\"\n",
       "  153.898,413.104 2352.76,413.104 \n",
       "  \"/>\n",
       "<polyline clip-path=\"url(#clip6402)\" style=\"stroke:#000000; stroke-width:2; stroke-opacity:0.1; fill:none\" points=\"\n",
       "  153.898,88.0053 2352.76,88.0053 \n",
       "  \"/>\n",
       "<polyline clip-path=\"url(#clip6400)\" style=\"stroke:#000000; stroke-width:4; stroke-opacity:1; fill:none\" points=\"\n",
       "  153.898,1487.47 2352.76,1487.47 \n",
       "  \"/>\n",
       "<polyline clip-path=\"url(#clip6400)\" style=\"stroke:#000000; stroke-width:4; stroke-opacity:1; fill:none\" points=\"\n",
       "  153.898,1487.47 153.898,47.2441 \n",
       "  \"/>\n",
       "<polyline clip-path=\"url(#clip6400)\" style=\"stroke:#000000; stroke-width:4; stroke-opacity:1; fill:none\" points=\"\n",
       "  652.844,1487.47 652.844,1470.19 \n",
       "  \"/>\n",
       "<polyline clip-path=\"url(#clip6400)\" style=\"stroke:#000000; stroke-width:4; stroke-opacity:1; fill:none\" points=\"\n",
       "  1198.74,1487.47 1198.74,1470.19 \n",
       "  \"/>\n",
       "<polyline clip-path=\"url(#clip6400)\" style=\"stroke:#000000; stroke-width:4; stroke-opacity:1; fill:none\" points=\"\n",
       "  1744.63,1487.47 1744.63,1470.19 \n",
       "  \"/>\n",
       "<polyline clip-path=\"url(#clip6400)\" style=\"stroke:#000000; stroke-width:4; stroke-opacity:1; fill:none\" points=\"\n",
       "  2290.52,1487.47 2290.52,1470.19 \n",
       "  \"/>\n",
       "<polyline clip-path=\"url(#clip6400)\" style=\"stroke:#000000; stroke-width:4; stroke-opacity:1; fill:none\" points=\"\n",
       "  153.898,1388.4 180.284,1388.4 \n",
       "  \"/>\n",
       "<polyline clip-path=\"url(#clip6400)\" style=\"stroke:#000000; stroke-width:4; stroke-opacity:1; fill:none\" points=\"\n",
       "  153.898,1063.3 180.284,1063.3 \n",
       "  \"/>\n",
       "<polyline clip-path=\"url(#clip6400)\" style=\"stroke:#000000; stroke-width:4; stroke-opacity:1; fill:none\" points=\"\n",
       "  153.898,738.203 180.284,738.203 \n",
       "  \"/>\n",
       "<polyline clip-path=\"url(#clip6400)\" style=\"stroke:#000000; stroke-width:4; stroke-opacity:1; fill:none\" points=\"\n",
       "  153.898,413.104 180.284,413.104 \n",
       "  \"/>\n",
       "<polyline clip-path=\"url(#clip6400)\" style=\"stroke:#000000; stroke-width:4; stroke-opacity:1; fill:none\" points=\"\n",
       "  153.898,88.0053 180.284,88.0053 \n",
       "  \"/>\n",
       "<g clip-path=\"url(#clip6400)\">\n",
       "<text style=\"fill:#000000; fill-opacity:1; font-family:Arial,Helvetica Neue,Helvetica,sans-serif; font-size:48px; text-anchor:middle;\" transform=\"rotate(0, 652.844, 1541.47)\" x=\"652.844\" y=\"1541.47\">5</text>\n",
       "</g>\n",
       "<g clip-path=\"url(#clip6400)\">\n",
       "<text style=\"fill:#000000; fill-opacity:1; font-family:Arial,Helvetica Neue,Helvetica,sans-serif; font-size:48px; text-anchor:middle;\" transform=\"rotate(0, 1198.74, 1541.47)\" x=\"1198.74\" y=\"1541.47\">10</text>\n",
       "</g>\n",
       "<g clip-path=\"url(#clip6400)\">\n",
       "<text style=\"fill:#000000; fill-opacity:1; font-family:Arial,Helvetica Neue,Helvetica,sans-serif; font-size:48px; text-anchor:middle;\" transform=\"rotate(0, 1744.63, 1541.47)\" x=\"1744.63\" y=\"1541.47\">15</text>\n",
       "</g>\n",
       "<g clip-path=\"url(#clip6400)\">\n",
       "<text style=\"fill:#000000; fill-opacity:1; font-family:Arial,Helvetica Neue,Helvetica,sans-serif; font-size:48px; text-anchor:middle;\" transform=\"rotate(0, 2290.52, 1541.47)\" x=\"2290.52\" y=\"1541.47\">20</text>\n",
       "</g>\n",
       "<g clip-path=\"url(#clip6400)\">\n",
       "<text style=\"fill:#000000; fill-opacity:1; font-family:Arial,Helvetica Neue,Helvetica,sans-serif; font-size:48px; text-anchor:end;\" transform=\"rotate(0, 129.898, 1405.9)\" x=\"129.898\" y=\"1405.9\">0.2</text>\n",
       "</g>\n",
       "<g clip-path=\"url(#clip6400)\">\n",
       "<text style=\"fill:#000000; fill-opacity:1; font-family:Arial,Helvetica Neue,Helvetica,sans-serif; font-size:48px; text-anchor:end;\" transform=\"rotate(0, 129.898, 1080.8)\" x=\"129.898\" y=\"1080.8\">0.4</text>\n",
       "</g>\n",
       "<g clip-path=\"url(#clip6400)\">\n",
       "<text style=\"fill:#000000; fill-opacity:1; font-family:Arial,Helvetica Neue,Helvetica,sans-serif; font-size:48px; text-anchor:end;\" transform=\"rotate(0, 129.898, 755.703)\" x=\"129.898\" y=\"755.703\">0.6</text>\n",
       "</g>\n",
       "<g clip-path=\"url(#clip6400)\">\n",
       "<text style=\"fill:#000000; fill-opacity:1; font-family:Arial,Helvetica Neue,Helvetica,sans-serif; font-size:48px; text-anchor:end;\" transform=\"rotate(0, 129.898, 430.604)\" x=\"129.898\" y=\"430.604\">0.8</text>\n",
       "</g>\n",
       "<g clip-path=\"url(#clip6400)\">\n",
       "<text style=\"fill:#000000; fill-opacity:1; font-family:Arial,Helvetica Neue,Helvetica,sans-serif; font-size:48px; text-anchor:end;\" transform=\"rotate(0, 129.898, 105.505)\" x=\"129.898\" y=\"105.505\">1.0</text>\n",
       "</g>\n",
       "<polyline clip-path=\"url(#clip6402)\" style=\"stroke:#009af9; stroke-width:4; stroke-opacity:1; fill:none\" points=\"\n",
       "  216.13,88.0053 237.083,349.737 258.037,538.872 278.99,681.936 299.944,793.934 320.897,883.994 341.851,957.987 362.804,1019.86 383.758,1072.36 404.711,1117.48 \n",
       "  425.665,1156.66 446.618,1190.99 467.572,1221.33 488.525,1248.33 509.478,1272.5 530.432,1294.25 551.385,1313.91 572.339,1331.75 593.292,1347.97 614.246,1362.76 \n",
       "  635.199,1376.24 656.153,1388.51 677.106,1399.64 698.06,1409.68 719.013,1418.64 739.967,1426.51 760.92,1433.23 781.874,1438.74 802.827,1442.93 823.781,1445.65 \n",
       "  844.734,1446.71 865.688,1445.89 886.641,1442.89 907.595,1437.4 928.548,1429.03 949.502,1417.34 970.455,1401.83 991.408,1381.97 1012.36,1357.18 1033.32,1326.85 \n",
       "  1054.27,1290.39 1075.22,1247.22 1096.18,1196.87 1117.13,1138.98 1138.08,1073.43 1159.04,1000.39 1179.99,920.386 1200.94,834.436 1221.9,744.056 1242.85,651.297 \n",
       "  1263.8,558.69 1284.76,469.102 1305.71,385.505 1326.66,310.655 1347.62,246.733 1368.57,195.015 1389.52,155.675 1410.48,127.779 1431.43,109.513 1452.38,98.5838 \n",
       "  1473.34,92.6783 1494.29,89.8333 1515.25,88.6287 1536.2,88.1874 1557.15,88.05 1578.11,88.0144 1599.06,88.0068 1620.01,88.0055 1640.97,88.0054 1661.92,88.0053 \n",
       "  1682.87,88.0053 1703.83,88.0053 1724.78,88.0053 1745.73,88.0053 1766.69,88.0053 1787.64,88.0053 1808.59,88.0053 1829.55,88.0053 1850.5,88.0053 1871.45,88.0053 \n",
       "  1892.41,88.0053 1913.36,88.0053 1934.31,88.0053 1955.27,88.0053 1976.22,88.0053 1997.18,88.0053 2018.13,88.0053 2039.08,88.0053 2060.04,88.0053 2080.99,88.0053 \n",
       "  2101.94,88.0053 2122.9,88.0053 2143.85,88.0053 2164.8,88.0053 2185.76,88.0053 2206.71,88.0053 2227.66,88.0053 2248.62,88.0053 2269.57,88.0053 2290.52,88.0053 \n",
       "  \n",
       "  \"/>\n",
       "<polyline clip-path=\"url(#clip6402)\" style=\"stroke:#e26f46; stroke-width:4; stroke-opacity:1; fill:none\" points=\"\n",
       "  216.13,1077.66 237.083,1080.65 258.037,1085.69 278.99,1093.24 299.944,1103.59 320.897,1116.72 341.851,1132.38 362.804,1150.09 383.758,1169.28 404.711,1189.37 \n",
       "  425.665,1209.81 446.618,1230.17 467.572,1250.09 488.525,1269.33 509.478,1287.73 530.432,1305.19 551.385,1321.67 572.339,1337.13 593.292,1351.6 614.246,1365.09 \n",
       "  635.199,1377.6 656.153,1389.17 677.106,1399.79 698.06,1409.46 719.013,1418.16 739.967,1425.85 760.92,1432.46 781.874,1437.9 802.827,1442.06 823.781,1444.77 \n",
       "  844.734,1445.85 865.688,1445.06 886.641,1442.1 907.595,1436.66 928.548,1428.34 949.502,1416.7 970.455,1401.26 991.408,1381.45 1012.36,1356.72 1033.32,1326.45 \n",
       "  1054.27,1290.04 1075.22,1246.92 1096.18,1196.61 1117.13,1138.76 1138.08,1073.25 1159.04,1000.24 1179.99,920.27 1200.94,834.345 1221.9,743.986 1242.85,651.246 \n",
       "  1263.8,558.653 1284.76,469.076 1305.71,385.488 1326.66,310.645 1347.62,246.726 1368.57,195.012 1389.52,155.673 1410.48,127.778 1431.43,109.512 1452.38,98.5836 \n",
       "  1473.34,92.6783 1494.29,89.8333 1515.25,88.6287 1536.2,88.1874 1557.15,88.05 1578.11,88.0144 1599.06,88.0068 1620.01,88.0055 1640.97,88.0054 1661.92,88.0053 \n",
       "  1682.87,88.0053 1703.83,88.0053 1724.78,88.0053 1745.73,88.0053 1766.69,88.0053 1787.64,88.0053 1808.59,88.0053 1829.55,88.0053 1850.5,88.0053 1871.45,88.0053 \n",
       "  1892.41,88.0053 1913.36,88.0053 1934.31,88.0053 1955.27,88.0053 1976.22,88.0053 1997.18,88.0053 2018.13,88.0053 2039.08,88.0053 2060.04,88.0053 2080.99,88.0053 \n",
       "  2101.94,88.0053 2122.9,88.0053 2143.85,88.0053 2164.8,88.0053 2185.76,88.0053 2206.71,88.0053 2227.66,88.0053 2248.62,88.0053 2269.57,88.0053 2290.52,88.0053 \n",
       "  \n",
       "  \"/>\n",
       "<path clip-path=\"url(#clip6400)\" d=\"\n",
       "M1989.93 312.204 L2280.76 312.204 L2280.76 130.764 L1989.93 130.764  Z\n",
       "  \" fill=\"#ffffff\" fill-rule=\"evenodd\" fill-opacity=\"1\"/>\n",
       "<polyline clip-path=\"url(#clip6400)\" style=\"stroke:#000000; stroke-width:4; stroke-opacity:1; fill:none\" points=\"\n",
       "  1989.93,312.204 2280.76,312.204 2280.76,130.764 1989.93,130.764 1989.93,312.204 \n",
       "  \"/>\n",
       "<polyline clip-path=\"url(#clip6400)\" style=\"stroke:#009af9; stroke-width:4; stroke-opacity:1; fill:none\" points=\"\n",
       "  2013.93,191.244 2157.93,191.244 \n",
       "  \"/>\n",
       "<g clip-path=\"url(#clip6400)\">\n",
       "<text style=\"fill:#000000; fill-opacity:1; font-family:Arial,Helvetica Neue,Helvetica,sans-serif; font-size:48px; text-anchor:start;\" transform=\"rotate(0, 2181.93, 208.744)\" x=\"2181.93\" y=\"208.744\">y1</text>\n",
       "</g>\n",
       "<polyline clip-path=\"url(#clip6400)\" style=\"stroke:#e26f46; stroke-width:4; stroke-opacity:1; fill:none\" points=\"\n",
       "  2013.93,251.724 2157.93,251.724 \n",
       "  \"/>\n",
       "<g clip-path=\"url(#clip6400)\">\n",
       "<text style=\"fill:#000000; fill-opacity:1; font-family:Arial,Helvetica Neue,Helvetica,sans-serif; font-size:48px; text-anchor:start;\" transform=\"rotate(0, 2181.93, 269.224)\" x=\"2181.93\" y=\"269.224\">y2</text>\n",
       "</g>\n",
       "</svg>\n"
      ]
     },
     "execution_count": 19,
     "metadata": {},
     "output_type": "execute_result"
    }
   ],
   "source": [
    "ts = LinRange(1, 20.0, 100)\n",
    "value = [As(t0, dist, cp, cf) for t0 = ts]\n",
    "value1 = [Aop(t0, 2, dist, co, cp, cf, D0, D1) for t0 = ts];\n",
    "plot(ts, value)\n",
    "plot!(ts, value1)"
   ]
  },
  {
   "cell_type": "code",
   "execution_count": null,
   "metadata": {},
   "outputs": [],
   "source": [
    "cp = 1.0\n",
    "cf = 10.0\n",
    "mttf = 10.0\n",
    "result = []\n",
    "for cv in [0.1, 0.5, 0.8]\n",
    "    println(\"cv \", cv)\n",
    "    mttop = 0\n",
    "    ocv = 0\n",
    "    dist = failure_param(mttf = mttf, cv = cv)\n",
    "    result0 = optimize(t0 -> As(t0, dist, cp, cf), 1, mttf*2)\n",
    "    push!(result, (\"st\", cp, cv, mttop, ocv, 0, result0.minimizer, result0.minimum, result0.converged))\n",
    "    for co in [0.5, 0.6, 0.7, 0.8, 0.9, 1.0]\n",
    "        println(\"co \", co)\n",
    "        for mttop in [0.1, 1.0, 2.0, 5.0, 10.0]\n",
    "            println(\"mttop \", mttop)\n",
    "            D0, D1, ocv = poisson_param(mttop = mttop)\n",
    "            opn, result1 = optim(dist=dist, co=co, cp=cp, cf=cf, D0=D0, D1=D1)\n",
    "            push!(result, (\"poi\", co, cv, mttop, ocv, opn, result1.minimizer, result1.minimum, result1.converged))\n",
    "            for b in [[1, 5], [1, 2], [1, 1]]\n",
    "                D0, D1, ocv = hyporenewal_param(mttop = mttop, b=b)\n",
    "                opn, result1 = optim(dist=dist, co=co, cp=cp, cf=cf, D0=D0, D1=D1)\n",
    "                push!(result, (\"hypo\", co, cv, mttop, ocv, opn, result1.minimizer, result1.minimum, result1.converged))\n",
    "            end\n",
    "            b = [10, 1]\n",
    "            for u in [[0.2, 0.8], [0.5, 0.5], [0.8, 0.2]]\n",
    "                D0, D1, ocv = hyperrenewal_param(mttop = mttop, u=u, b=b)\n",
    "                opn, result1 = optim(dist=dist, co=co, cp=cp, cf=cf, D0=D0, D1=D1)\n",
    "                push!(result, (\"hyper\", co, cv, mttop, ocv, opn, result1.minimizer, result1.minimum, result1.converged))\n",
    "            end\n",
    "            u = [1, 1]\n",
    "            for b in [[1, 2], [1, 5], [1, 10]]\n",
    "                D0, D1, ocv = mmpp_param(mttop = mttop, u=u, b=b)\n",
    "                opn, result1 = optim(dist=dist, co=co, cp=cp, cf=cf, D0=D0, D1=D1)\n",
    "                push!(result, (\"mmpp\", co, cv, mttop, ocv, opn, result1.minimizer, result1.minimum, result1.converged))\n",
    "            end\n",
    "        end\n",
    "    end\n",
    "end\n",
    "result = DataFrame(result)\n",
    "@show result\n",
    "result |> CSV.write(\"rl.csv\", delim=',', header=false)"
   ]
  },
  {
   "cell_type": "code",
   "execution_count": null,
   "metadata": {},
   "outputs": [],
   "source": [
    "cp = 1.0\n",
    "cf = 10.0\n",
    "mttf = 10.0\n",
    "result = []\n",
    "for cv in [0.1] # [0.1, 0.5, 0.8]\n",
    "    println(\"cv \", cv)\n",
    "    mttop = 0\n",
    "    ocv = 0\n",
    "    dist = failure_param(mttf = mttf, cv = cv)\n",
    "#     result0 = optimize(t0 -> As(t0, dist, cp, cf), 1, mttf*2)\n",
    "#     push!(result, (\"st\", cp, cv, mttop, ocv, 0, result0.minimizer, result0.minimum, result0.converged))\n",
    "    for co in [0.5, 0.6, 0.7, 0.8, 0.9, 1.0]\n",
    "        println(\"co \", co)\n",
    "        for mttop in [1.0] # [0.1, 1.0, 2.0, 5.0, 10.0]\n",
    "            println(\"mttop \", mttop)\n",
    "#             D0, D1, ocv = poisson_param(mttop = mttop)\n",
    "#             opn, result1 = optim(dist=dist, co=co, cp=cp, cf=cf, D0=D0, D1=D1)\n",
    "#             push!(result, (\"poi\", co, cv, mttop, ocv, opn, result1.minimizer, result1.minimum, result1.converged))\n",
    "            for b in [[1, 1], [1, 2]] # [[1, 5], [1, 2], [1, 1]]\n",
    "                D0, D1, ocv = hyporenewal_param(mttop = mttop, b=b)\n",
    "                init = Float64[1,0]\n",
    "                opn, result1 = optim2(dist=dist, co=co, cp=cp, cf=cf, init=init, D0=D0, D1=D1)\n",
    "                push!(result, (\"hypo\", co, cv, mttop, ocv, opn, result1.minimizer, result1.minimum, result1.converged))\n",
    "            end\n",
    "            b = [10, 1]\n",
    "            for u in [[0.5, 0.5], [0.8, 0.2]] # [[0.2, 0.8], [0.5, 0.5], [0.8, 0.2]]\n",
    "                D0, D1, ocv = hyperrenewal_param(mttop = mttop, u=u, b=b)\n",
    "                init = u\n",
    "                opn, result1 = optim2(dist=dist, co=co, cp=cp, cf=cf, init=init, D0=D0, D1=D1)\n",
    "                push!(result, (\"hyper\", co, cv, mttop, ocv, opn, result1.minimizer, result1.minimum, result1.converged))\n",
    "            end\n",
    "#             u = [1, 1]\n",
    "#             for b in [[1, 2], [1, 5], [1, 10]]\n",
    "#                 D0, D1, ocv = mmpp_param(mttop = mttop, u=u, b=b)\n",
    "#                 init = Float64[0.5,0.5]\n",
    "#                 opn, result1 = optim2(dist=dist, co=co, cp=cp, cf=cf, init=init, D0=D0, D1=D1)\n",
    "#                 push!(result, (\"mmpp\", co, cv, mttop, ocv, opn, result1.minimizer, result1.minimum, result1.converged))\n",
    "#             end\n",
    "        end\n",
    "    end\n",
    "end\n",
    "result = DataFrame(result)\n",
    "@show result\n",
    "result |> CSV.write(\"rl2.csv\", delim=',', header=false)"
   ]
  },
  {
   "cell_type": "code",
   "execution_count": 20,
   "metadata": {},
   "outputs": [
    {
     "name": "stdout",
     "output_type": "stream",
     "text": [
      "failure shape parameter 2.1013490844203857\n",
      "failure scale parameter 11.290633895036326\n",
      "failure mttf 10.0\n",
      "failure cv 0.5\n",
      "mean opportunity interval 1.0\n",
      "cv for opportunity interval 1.0199501246882794\n",
      "10Results of Optimization Algorithm\n",
      " * Algorithm: Brent's Method\n",
      " * Search Interval: [1.000000, 20.000000]\n",
      " * Minimizer: 2.000000e+01\n",
      " * Minimum: 1.203776e-01\n",
      " * Iterations: 36\n",
      " * Convergence: max(|x - x_upper|, |x - x_lower|) <= 2*(1.5e-08*|x|+2.2e-16): true\n",
      " * Objective Function Calls: 37\n"
     ]
    }
   ],
   "source": [
    "cp = 1.0\n",
    "cf = 1.2\n",
    "co = 0.8\n",
    "mttf = 10.0\n",
    "cv = 0.5\n",
    "mttop = 1.0\n",
    "dist = failure_param(mttf = mttf, cv = cv)\n",
    "# D0, D1, ocv = poisson_param(mttop = mttop)\n",
    "# D0, D1, ocv = hyporenewal_param(mttop = mttop, b=[1,5]) # [[1, 5], [1, 2], [1, 1]]\n",
    "# D0, D1, ocv = mmpp_param(mttop = mttop, u=[1,1], b=[1,10]) # u=[1,1] b=[[1, 2], [1, 5], [1, 10]]\n",
    "D0, D1, ocv = hyperrenewal_param(mttop = mttop, u=[0.2,0.8], b=[10,1]) # b = [10, 1], u = [[0.2, 0.8], [0.5, 0.5], [0.8, 0.2]]\n",
    "opn, result1 = optim(dist=dist, co=co, cp=cp, cf=cf, D0=D0, D1=D1, maxn=10, maxt=20.0)\n",
    "println(opn, result1)"
   ]
  },
  {
   "cell_type": "code",
   "execution_count": 90,
   "metadata": {},
   "outputs": [
    {
     "name": "stdout",
     "output_type": "stream",
     "text": [
      "4Results of Optimization Algorithm\n",
      " * Algorithm: Brent's Method\n",
      " * Search Interval: [0.000010, 10.000000]\n",
      " * Minimizer: 3.468632e-03\n",
      " * Minimum: 4.736311e-01\n",
      " * Iterations: 40\n",
      " * Convergence: max(|x - x_upper|, |x - x_lower|) <= 2*(1.5e-08*|x|+2.2e-16): true\n",
      " * Objective Function Calls: 41\n"
     ]
    }
   ],
   "source": [
    "opn, result1 = optim(dist=dist, co=co, cp=cp, cf=cf, D0=D0, D1=D1, maxn=10, maxt=10.0, mint=1e-5)\n",
    "println(opn, result1)"
   ]
  },
  {
   "cell_type": "code",
   "execution_count": 93,
   "metadata": {},
   "outputs": [
    {
     "data": {
      "image/svg+xml": [
       "<?xml version=\"1.0\" encoding=\"utf-8\"?>\n",
       "<svg xmlns=\"http://www.w3.org/2000/svg\" xmlns:xlink=\"http://www.w3.org/1999/xlink\" width=\"600\" height=\"400\" viewBox=\"0 0 2400 1600\">\n",
       "<defs>\n",
       "  <clipPath id=\"clip7300\">\n",
       "    <rect x=\"0\" y=\"0\" width=\"2400\" height=\"1600\"/>\n",
       "  </clipPath>\n",
       "</defs>\n",
       "<path clip-path=\"url(#clip7300)\" d=\"\n",
       "M0 1600 L2400 1600 L2400 0 L0 0  Z\n",
       "  \" fill=\"#ffffff\" fill-rule=\"evenodd\" fill-opacity=\"1\"/>\n",
       "<defs>\n",
       "  <clipPath id=\"clip7301\">\n",
       "    <rect x=\"480\" y=\"0\" width=\"1681\" height=\"1600\"/>\n",
       "  </clipPath>\n",
       "</defs>\n",
       "<path clip-path=\"url(#clip7300)\" d=\"\n",
       "M180.66 1487.47 L2352.76 1487.47 L2352.76 47.2441 L180.66 47.2441  Z\n",
       "  \" fill=\"#ffffff\" fill-rule=\"evenodd\" fill-opacity=\"1\"/>\n",
       "<defs>\n",
       "  <clipPath id=\"clip7302\">\n",
       "    <rect x=\"180\" y=\"47\" width=\"2173\" height=\"1441\"/>\n",
       "  </clipPath>\n",
       "</defs>\n",
       "<polyline clip-path=\"url(#clip7302)\" style=\"stroke:#000000; stroke-width:2; stroke-opacity:0.1; fill:none\" points=\"\n",
       "  242.133,1487.47 242.133,47.2441 \n",
       "  \"/>\n",
       "<polyline clip-path=\"url(#clip7302)\" style=\"stroke:#000000; stroke-width:2; stroke-opacity:0.1; fill:none\" points=\"\n",
       "  754.42,1487.47 754.42,47.2441 \n",
       "  \"/>\n",
       "<polyline clip-path=\"url(#clip7302)\" style=\"stroke:#000000; stroke-width:2; stroke-opacity:0.1; fill:none\" points=\"\n",
       "  1266.71,1487.47 1266.71,47.2441 \n",
       "  \"/>\n",
       "<polyline clip-path=\"url(#clip7302)\" style=\"stroke:#000000; stroke-width:2; stroke-opacity:0.1; fill:none\" points=\"\n",
       "  1778.99,1487.47 1778.99,47.2441 \n",
       "  \"/>\n",
       "<polyline clip-path=\"url(#clip7302)\" style=\"stroke:#000000; stroke-width:2; stroke-opacity:0.1; fill:none\" points=\"\n",
       "  2291.28,1487.47 2291.28,47.2441 \n",
       "  \"/>\n",
       "<polyline clip-path=\"url(#clip7302)\" style=\"stroke:#000000; stroke-width:2; stroke-opacity:0.1; fill:none\" points=\"\n",
       "  180.66,1460.87 2352.76,1460.87 \n",
       "  \"/>\n",
       "<polyline clip-path=\"url(#clip7302)\" style=\"stroke:#000000; stroke-width:2; stroke-opacity:0.1; fill:none\" points=\"\n",
       "  180.66,1166.11 2352.76,1166.11 \n",
       "  \"/>\n",
       "<polyline clip-path=\"url(#clip7302)\" style=\"stroke:#000000; stroke-width:2; stroke-opacity:0.1; fill:none\" points=\"\n",
       "  180.66,871.348 2352.76,871.348 \n",
       "  \"/>\n",
       "<polyline clip-path=\"url(#clip7302)\" style=\"stroke:#000000; stroke-width:2; stroke-opacity:0.1; fill:none\" points=\"\n",
       "  180.66,576.589 2352.76,576.589 \n",
       "  \"/>\n",
       "<polyline clip-path=\"url(#clip7302)\" style=\"stroke:#000000; stroke-width:2; stroke-opacity:0.1; fill:none\" points=\"\n",
       "  180.66,281.83 2352.76,281.83 \n",
       "  \"/>\n",
       "<polyline clip-path=\"url(#clip7300)\" style=\"stroke:#000000; stroke-width:4; stroke-opacity:1; fill:none\" points=\"\n",
       "  180.66,1487.47 2352.76,1487.47 \n",
       "  \"/>\n",
       "<polyline clip-path=\"url(#clip7300)\" style=\"stroke:#000000; stroke-width:4; stroke-opacity:1; fill:none\" points=\"\n",
       "  180.66,1487.47 180.66,47.2441 \n",
       "  \"/>\n",
       "<polyline clip-path=\"url(#clip7300)\" style=\"stroke:#000000; stroke-width:4; stroke-opacity:1; fill:none\" points=\"\n",
       "  242.133,1487.47 242.133,1470.19 \n",
       "  \"/>\n",
       "<polyline clip-path=\"url(#clip7300)\" style=\"stroke:#000000; stroke-width:4; stroke-opacity:1; fill:none\" points=\"\n",
       "  754.42,1487.47 754.42,1470.19 \n",
       "  \"/>\n",
       "<polyline clip-path=\"url(#clip7300)\" style=\"stroke:#000000; stroke-width:4; stroke-opacity:1; fill:none\" points=\"\n",
       "  1266.71,1487.47 1266.71,1470.19 \n",
       "  \"/>\n",
       "<polyline clip-path=\"url(#clip7300)\" style=\"stroke:#000000; stroke-width:4; stroke-opacity:1; fill:none\" points=\"\n",
       "  1778.99,1487.47 1778.99,1470.19 \n",
       "  \"/>\n",
       "<polyline clip-path=\"url(#clip7300)\" style=\"stroke:#000000; stroke-width:4; stroke-opacity:1; fill:none\" points=\"\n",
       "  2291.28,1487.47 2291.28,1470.19 \n",
       "  \"/>\n",
       "<polyline clip-path=\"url(#clip7300)\" style=\"stroke:#000000; stroke-width:4; stroke-opacity:1; fill:none\" points=\"\n",
       "  180.66,1460.87 206.725,1460.87 \n",
       "  \"/>\n",
       "<polyline clip-path=\"url(#clip7300)\" style=\"stroke:#000000; stroke-width:4; stroke-opacity:1; fill:none\" points=\"\n",
       "  180.66,1166.11 206.725,1166.11 \n",
       "  \"/>\n",
       "<polyline clip-path=\"url(#clip7300)\" style=\"stroke:#000000; stroke-width:4; stroke-opacity:1; fill:none\" points=\"\n",
       "  180.66,871.348 206.725,871.348 \n",
       "  \"/>\n",
       "<polyline clip-path=\"url(#clip7300)\" style=\"stroke:#000000; stroke-width:4; stroke-opacity:1; fill:none\" points=\"\n",
       "  180.66,576.589 206.725,576.589 \n",
       "  \"/>\n",
       "<polyline clip-path=\"url(#clip7300)\" style=\"stroke:#000000; stroke-width:4; stroke-opacity:1; fill:none\" points=\"\n",
       "  180.66,281.83 206.725,281.83 \n",
       "  \"/>\n",
       "<g clip-path=\"url(#clip7300)\">\n",
       "<text style=\"fill:#000000; fill-opacity:1; font-family:Arial,Helvetica Neue,Helvetica,sans-serif; font-size:48px; text-anchor:middle;\" transform=\"rotate(0, 242.133, 1541.47)\" x=\"242.133\" y=\"1541.47\">0.0</text>\n",
       "</g>\n",
       "<g clip-path=\"url(#clip7300)\">\n",
       "<text style=\"fill:#000000; fill-opacity:1; font-family:Arial,Helvetica Neue,Helvetica,sans-serif; font-size:48px; text-anchor:middle;\" transform=\"rotate(0, 754.42, 1541.47)\" x=\"754.42\" y=\"1541.47\">2.5</text>\n",
       "</g>\n",
       "<g clip-path=\"url(#clip7300)\">\n",
       "<text style=\"fill:#000000; fill-opacity:1; font-family:Arial,Helvetica Neue,Helvetica,sans-serif; font-size:48px; text-anchor:middle;\" transform=\"rotate(0, 1266.71, 1541.47)\" x=\"1266.71\" y=\"1541.47\">5.0</text>\n",
       "</g>\n",
       "<g clip-path=\"url(#clip7300)\">\n",
       "<text style=\"fill:#000000; fill-opacity:1; font-family:Arial,Helvetica Neue,Helvetica,sans-serif; font-size:48px; text-anchor:middle;\" transform=\"rotate(0, 1778.99, 1541.47)\" x=\"1778.99\" y=\"1541.47\">7.5</text>\n",
       "</g>\n",
       "<g clip-path=\"url(#clip7300)\">\n",
       "<text style=\"fill:#000000; fill-opacity:1; font-family:Arial,Helvetica Neue,Helvetica,sans-serif; font-size:48px; text-anchor:middle;\" transform=\"rotate(0, 2291.28, 1541.47)\" x=\"2291.28\" y=\"1541.47\">10.0</text>\n",
       "</g>\n",
       "<g clip-path=\"url(#clip7300)\">\n",
       "<text style=\"fill:#000000; fill-opacity:1; font-family:Arial,Helvetica Neue,Helvetica,sans-serif; font-size:48px; text-anchor:end;\" transform=\"rotate(0, 156.66, 1478.37)\" x=\"156.66\" y=\"1478.37\">0.50</text>\n",
       "</g>\n",
       "<g clip-path=\"url(#clip7300)\">\n",
       "<text style=\"fill:#000000; fill-opacity:1; font-family:Arial,Helvetica Neue,Helvetica,sans-serif; font-size:48px; text-anchor:end;\" transform=\"rotate(0, 156.66, 1183.61)\" x=\"156.66\" y=\"1183.61\">0.55</text>\n",
       "</g>\n",
       "<g clip-path=\"url(#clip7300)\">\n",
       "<text style=\"fill:#000000; fill-opacity:1; font-family:Arial,Helvetica Neue,Helvetica,sans-serif; font-size:48px; text-anchor:end;\" transform=\"rotate(0, 156.66, 888.848)\" x=\"156.66\" y=\"888.848\">0.60</text>\n",
       "</g>\n",
       "<g clip-path=\"url(#clip7300)\">\n",
       "<text style=\"fill:#000000; fill-opacity:1; font-family:Arial,Helvetica Neue,Helvetica,sans-serif; font-size:48px; text-anchor:end;\" transform=\"rotate(0, 156.66, 594.089)\" x=\"156.66\" y=\"594.089\">0.65</text>\n",
       "</g>\n",
       "<g clip-path=\"url(#clip7300)\">\n",
       "<text style=\"fill:#000000; fill-opacity:1; font-family:Arial,Helvetica Neue,Helvetica,sans-serif; font-size:48px; text-anchor:end;\" transform=\"rotate(0, 156.66, 299.33)\" x=\"156.66\" y=\"299.33\">0.70</text>\n",
       "</g>\n",
       "<polyline clip-path=\"url(#clip7302)\" style=\"stroke:#009af9; stroke-width:4; stroke-opacity:1; fill:none\" points=\"\n",
       "  242.135,1206.94 283.954,1126.97 325.773,1061.21 367.593,1033.07 409.412,1031.57 451.231,1050.37 493.051,1084.05 534.87,1127.47 576.689,1176.01 618.509,1225.81 \n",
       "  660.328,1273.83 702.147,1317.85 743.967,1356.36 785.786,1388.4 827.605,1413.5 869.425,1431.49 911.244,1442.48 953.063,1446.71 994.883,1444.57 1036.7,1436.46 \n",
       "  1078.52,1422.86 1120.34,1404.23 1162.16,1381.02 1203.98,1353.68 1245.8,1322.62 1287.62,1288.23 1329.44,1250.89 1371.26,1210.91 1413.08,1168.62 1454.9,1124.29 \n",
       "  1496.71,1078.18 1538.53,1030.52 1580.35,981.548 1622.17,931.445 1663.99,880.396 1705.81,828.567 1747.63,776.11 1789.45,723.166 1831.27,669.862 1873.09,616.318 \n",
       "  1914.91,562.642 1956.73,508.935 1998.55,455.29 2040.37,401.793 2082.18,348.524 2124,295.557 2165.82,242.961 2207.64,190.798 2249.46,139.128 2291.28,88.0053 \n",
       "  \n",
       "  \"/>\n",
       "<path clip-path=\"url(#clip7300)\" d=\"\n",
       "M1989.93 251.724 L2280.76 251.724 L2280.76 130.764 L1989.93 130.764  Z\n",
       "  \" fill=\"#ffffff\" fill-rule=\"evenodd\" fill-opacity=\"1\"/>\n",
       "<polyline clip-path=\"url(#clip7300)\" style=\"stroke:#000000; stroke-width:4; stroke-opacity:1; fill:none\" points=\"\n",
       "  1989.93,251.724 2280.76,251.724 2280.76,130.764 1989.93,130.764 1989.93,251.724 \n",
       "  \"/>\n",
       "<polyline clip-path=\"url(#clip7300)\" style=\"stroke:#009af9; stroke-width:4; stroke-opacity:1; fill:none\" points=\"\n",
       "  2013.93,191.244 2157.93,191.244 \n",
       "  \"/>\n",
       "<g clip-path=\"url(#clip7300)\">\n",
       "<text style=\"fill:#000000; fill-opacity:1; font-family:Arial,Helvetica Neue,Helvetica,sans-serif; font-size:48px; text-anchor:start;\" transform=\"rotate(0, 2181.93, 208.744)\" x=\"2181.93\" y=\"208.744\">y1</text>\n",
       "</g>\n",
       "</svg>\n"
      ]
     },
     "execution_count": 93,
     "metadata": {},
     "output_type": "execute_result"
    }
   ],
   "source": [
    "ts = LinRange(1e-5, 10.0, 50)\n",
    "val = [Aop(t0, 2, dist, co, cp, cf, D0, D1) for t0 = ts]\n",
    "plot(ts, val)\n",
    "# Aop(20.0, 5, dist, co, cp, cf, D0, D1)"
   ]
  },
  {
   "cell_type": "code",
   "execution_count": 114,
   "metadata": {},
   "outputs": [
    {
     "name": "stdout",
     "output_type": "stream",
     "text": [
      "failure shape parameter 1.2582492600566424\n",
      "failure scale parameter 10.752664365753148\n",
      "failure mttf 10.0\n",
      "failure cv 0.8\n",
      "mean opportunity interval 5.0\n",
      "cv for opportunity interval 0.9999999999999998\n",
      "1Results of Optimization Algorithm\n",
      " * Algorithm: Brent's Method\n",
      " * Search Interval: [0.000010, 10.000000]\n",
      " * Minimizer: 4.123225e+00\n",
      " * Minimum: 9.002825e-01\n",
      " * Iterations: 16\n",
      " * Convergence: max(|x - x_upper|, |x - x_lower|) <= 2*(1.5e-08*|x|+2.2e-16): true\n",
      " * Objective Function Calls: 17\n",
      "failure shape parameter 1.2582492600566424\n",
      "failure scale parameter 10.752664365753148\n",
      "failure mttf 10.0\n",
      "failure cv 0.8\n",
      "mean opportunity interval 5.0\n",
      "cv for opportunity interval 0.9999999999999998\n",
      "0Results of Optimization Algorithm\n",
      " * Algorithm: Brent's Method\n",
      " * Search Interval: [0.000010, 10.000000]\n",
      " * Minimizer: 5.957211e+00\n",
      " * Minimum: 9.041888e-01\n",
      " * Iterations: 18\n",
      " * Convergence: max(|x - x_upper|, |x - x_lower|) <= 2*(1.5e-08*|x|+2.2e-16): true\n",
      " * Objective Function Calls: 19\n",
      "failure shape parameter 1.2582492600566424\n",
      "failure scale parameter 10.752664365753148\n",
      "failure mttf 10.0\n",
      "failure cv 0.8\n",
      "mean opportunity interval 5.0\n",
      "cv for opportunity interval 0.9999999999999998\n",
      "0Results of Optimization Algorithm\n",
      " * Algorithm: Brent's Method\n",
      " * Search Interval: [0.000010, 10.000000]\n",
      " * Minimizer: 5.957211e+00\n",
      " * Minimum: 9.041888e-01\n",
      " * Iterations: 18\n",
      " * Convergence: max(|x - x_upper|, |x - x_lower|) <= 2*(1.5e-08*|x|+2.2e-16): true\n",
      " * Objective Function Calls: 19\n",
      "failure shape parameter 1.2582492600566424\n",
      "failure scale parameter 10.752664365753148\n",
      "failure mttf 10.0\n",
      "failure cv 0.8\n",
      "mean opportunity interval 5.0\n",
      "cv for opportunity interval 0.9999999999999998\n",
      "0Results of Optimization Algorithm\n",
      " * Algorithm: Brent's Method\n",
      " * Search Interval: [0.000010, 10.000000]\n",
      " * Minimizer: 5.957211e+00\n",
      " * Minimum: 9.041888e-01\n",
      " * Iterations: 18\n",
      " * Convergence: max(|x - x_upper|, |x - x_lower|) <= 2*(1.5e-08*|x|+2.2e-16): true\n",
      " * Objective Function Calls: 19\n",
      "failure shape parameter 1.2582492600566424\n",
      "failure scale parameter 10.752664365753148\n",
      "failure mttf 10.0\n",
      "failure cv 0.8\n",
      "mean opportunity interval 5.0\n",
      "cv for opportunity interval 0.9999999999999998\n",
      "0Results of Optimization Algorithm\n",
      " * Algorithm: Brent's Method\n",
      " * Search Interval: [0.000010, 10.000000]\n",
      " * Minimizer: 5.957211e+00\n",
      " * Minimum: 9.041888e-01\n",
      " * Iterations: 18\n",
      " * Convergence: max(|x - x_upper|, |x - x_lower|) <= 2*(1.5e-08*|x|+2.2e-16): true\n",
      " * Objective Function Calls: 19\n"
     ]
    }
   ],
   "source": [
    "for co in [0.5, 0.6, 0.7, 0.8, 0.9]\n",
    "    cp = 1.0\n",
    "cf = 10.0\n",
    "mttf = 10.0\n",
    "cv = 0.8\n",
    "mttop = 5.0\n",
    "dist = failure_param(mttf = mttf, cv = cv)\n",
    "D0, D1, ocv = poisson_param(mttop = mttop)\n",
    "# D0, D1, ocv = hyporenewal_param(mttop = mttop, b=[1,2]) # [[1, 5], [1, 2], [1, 1]]\n",
    "# D0, D1, ocv = mmpp_param(mttop = mttop, u=[1,1], b=[1,10]) # u=[1,1] b=[[1, 2], [1, 5], [1, 10]]\n",
    "# D0, D1, ocv = hyperrenewal_param(mttop = mttop, u=[0.8,0.2], b=[10,1]) # b = [10, 1], u = [[0.2, 0.8], [0.5, 0.5], [0.8, 0.2]]\n",
    "opn, result1 = optim(dist=dist, co=co, cp=cp, cf=cf, D0=D0, D1=D1, maxn=20, maxt=10.0, mint=1.0e-5)\n",
    "println(opn, result1)\n",
    "end"
   ]
  },
  {
   "cell_type": "code",
   "execution_count": null,
   "metadata": {},
   "outputs": [],
   "source": []
  }
 ],
 "metadata": {
  "kernelspec": {
   "display_name": "Julia 1.0.5",
   "language": "julia",
   "name": "julia-1.0"
  },
  "language_info": {
   "file_extension": ".jl",
   "mimetype": "application/julia",
   "name": "julia",
   "version": "1.0.5"
  }
 },
 "nbformat": 4,
 "nbformat_minor": 4
}
